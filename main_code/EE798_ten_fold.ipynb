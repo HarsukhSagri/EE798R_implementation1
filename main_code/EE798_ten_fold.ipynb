{
  "cells": [
    {
      "cell_type": "code",
      "execution_count": null,
      "metadata": {
        "colab": {
          "base_uri": "https://localhost:8080/"
        },
        "id": "lhCMcvA2AgpU",
        "outputId": "d746aa54-12ab-4e5d-b1d1-9a64dfaba4a4"
      },
      "outputs": [],
      "source": [
        "# Install required libraries\n",
        "!pip install transformers datasets gdown"
      ]
    },
    {
      "cell_type": "code",
      "execution_count": null,
      "metadata": {
        "id": "OQiOya2JAyVa"
      },
      "outputs": [],
      "source": [
        "!pip install rust\n",
        "!pip install tokenizers"
      ]
    },
    {
      "cell_type": "code",
      "execution_count": null,
      "metadata": {
        "colab": {
          "base_uri": "https://localhost:8080/"
        },
        "id": "egShYdp-BsJi",
        "outputId": "85b37729-9ecc-4d6b-9933-6868c12d75cf"
      },
      "outputs": [],
      "source": [
        "# Clone your GitHub repository for the emotion recognition project\n",
        "!git clone https://github.com/Vincent-ZHQ/CA-MSER.git\n",
        "\n",
        "# Install the project dependencies\n",
        "!pip install -r CA-MSER/requirements.txt"
      ]
    },
    {
      "cell_type": "code",
      "execution_count": 3,
      "metadata": {
        "id": "SnuVJ6TpAy1W"
      },
      "outputs": [],
      "source": [
        "# Download Wav2Vec2.0 pretrained model from Hugging Face\n",
        "from transformers import Wav2Vec2Model"
      ]
    },
    {
      "cell_type": "code",
      "execution_count": 4,
      "metadata": {
        "colab": {
          "base_uri": "https://localhost:8080/"
        },
        "id": "nx2uR_BzBGwP",
        "outputId": "6d9fad6f-6f79-493e-e7ec-d16438d7332d"
      },
      "outputs": [
        {
          "name": "stdout",
          "output_type": "stream",
          "text": [
            "Is CUDA available: True\n",
            "CUDA version: 11.8\n"
          ]
        }
      ],
      "source": [
        "import torch\n",
        "print(\"Is CUDA available:\", torch.cuda.is_available())\n",
        "print(\"CUDA version:\", torch.version.cuda)\n",
        "features_file = '/content/drive/MyDrive/path/to/reduced_file.pkl'"
      ]
    },
    {
      "cell_type": "code",
      "execution_count": 1,
      "metadata": {
        "colab": {
          "base_uri": "https://localhost:8080/",
          "height": 1000,
          "referenced_widgets": [
            "715bbc89ef9c42b4a279b274f7101483",
            "05abb9c7bb7f4af3ba5ce22c3c5b0fd0",
            "d9ae54a2ee0d468ba2af602bd5720b3b",
            "26e3d25f03604ae6bc7678d35e2a4cc9",
            "0435ad3120964f43ab41985943def046",
            "d401879fa05949a8b23ba532b16ffe73",
            "46875fbf97f848e0b327e92827f9510b",
            "42abb48451b7419dbad79c951faacdc4",
            "2029852e4f7245dfa5e0b8e29ebbe52b",
            "6a20ef8c7b034f7fa225fc5fc6f5a2bb",
            "b87f6c3680734b688878272f2a835e85",
            "b74852b27be9413fab7ef1dcd9d7f502",
            "8c0d696b49734f03b25afcc9f7874d7f",
            "f86a25aa87374d5185b0ca1905ab9fea",
            "4b4c6a8d01f9486e976a37d92b14e31d",
            "6e01c4ead1b241d0b03bf2e350cfe522",
            "1c64a6990861405eb568a4edef6f54bd",
            "13b0ce2bb99b47169bcb62dbe0df086a",
            "670608282a8447a9b0108c34aeb32dc8",
            "9fdde3a5a8b64fcbb5a093560707838c",
            "2535a7e63ea547b3adf5cb96dc4c62db",
            "8b7f32cea2ca4f3f84769a4ab088b8fc"
          ]
        },
        "id": "4FckpzJN-WlT",
        "outputId": "37c86dac-4467-4407-9026-1647856884e8"
      },
      "outputs": [
        {
          "name": "stdout",
          "output_type": "stream",
          "text": [
            "****************************************\n",
            "\n",
            "PARAMETERS:\n",
            "\n",
            "****************************************\n",
            "\n",
            "\n",
            "       ser_task: SLM\n",
            "     repeat_idx: 0\n",
            "         val_id: 1M\n",
            "        test_id: 1M\n",
            "     num_epochs: 30\n",
            "     early_stop: 8\n",
            "     batch_size: 32\n",
            "             lr: 1e-05\n",
            "    random_seed: 111\n",
            "        use_gpu: 1\n",
            "        gpu_ids: ['0']\n",
            "     save_label: 2024-10-21-19-33\n",
            "   oversampling: False\n",
            "     pretrained: True\n",
            "****************************************\n",
            "\n",
            "\n",
            "\n",
            "Dataset normalized with minmax scaler\n",
            "\tRange before normalization: [-80.0, 3.8146973e-06]\n",
            "\tRange after  normalization: [0.0, 1.0]\n",
            "\n",
            "<<DATASET>>\n",
            "\n",
            "Val. speaker id : 1M\n",
            "Test speaker id : 1M\n",
            "Train data      : (9815, 1, 200, 300)\n",
            "Train labels    : (9815,)\n",
            "Eval. data      : (1187, 1, 200, 300)\n",
            "Eval. label     : (557,)\n",
            "Eval. seg labels: (1187,)\n",
            "Eval. num seg   : (557,)\n",
            "Test data       : (1187, 1, 200, 300)\n",
            "Test label      : (557,)\n",
            "Test seg labels : (1187,)\n",
            "Test num seg    : (557,)\n",
            "\n",
            "\n",
            "pytorch version:  2.1.1+cu118\n",
            "cuda version:  11.8\n",
            "cudnn version:  8700\n",
            "gpu name:  NVIDIA GeForce RTX 4080\n",
            "gpu index:  0\n"
          ]
        },
        {
          "name": "stderr",
          "output_type": "stream",
          "text": [
            "/home/stud1/.local/lib/python3.10/site-packages/torchvision/models/_utils.py:208: UserWarning: The parameter 'pretrained' is deprecated since 0.13 and may be removed in the future, please use 'weights' instead.\n",
            "  warnings.warn(\n",
            "/home/stud1/.local/lib/python3.10/site-packages/torchvision/models/_utils.py:223: UserWarning: Arguments other than a weight enum or `None` for 'weights' are deprecated since 0.13 and may be removed in the future. The current behavior is equivalent to passing `weights=AlexNet_Weights.IMAGENET1K_V1`. You can also use `weights=AlexNet_Weights.DEFAULT` to get the most up-to-date weights.\n",
            "  warnings.warn(msg)\n"
          ]
        },
        {
          "name": "stdout",
          "output_type": "stream",
          "text": [
            "\n",
            "<< SER AlexNet Finetuning model initialized >>\n",
            "\n"
          ]
        },
        {
          "name": "stderr",
          "output_type": "stream",
          "text": [
            "/home/stud1/.local/lib/python3.10/site-packages/huggingface_hub/file_download.py:1142: FutureWarning: `resume_download` is deprecated and will be removed in version 1.0.0. Downloads always resume when possible. If you want to force a new download, use `force_download=True`.\n",
            "  warnings.warn(\n",
            "Some weights of Wav2Vec2Model were not initialized from the model checkpoint at facebook/wav2vec2-base-960h and are newly initialized: ['wav2vec2.masked_spec_embed', 'wav2vec2.encoder.pos_conv_embed.conv.parametrizations.weight.original1', 'wav2vec2.encoder.pos_conv_embed.conv.parametrizations.weight.original0']\n",
            "You should probably TRAIN this model on a down-stream task to be able to use it for predictions and inference.\n"
          ]
        },
        {
          "name": "stdout",
          "output_type": "stream",
          "text": [
            "Ser_Model(\n",
            "  (alexnet_model): SER_AlexNet(\n",
            "    (features): Sequential(\n",
            "      (0): Conv2d(3, 64, kernel_size=(11, 11), stride=(4, 4), padding=(2, 2))\n",
            "      (1): ReLU(inplace=True)\n",
            "      (2): MaxPool2d(kernel_size=3, stride=2, padding=0, dilation=1, ceil_mode=False)\n",
            "      (3): Conv2d(64, 192, kernel_size=(5, 5), stride=(1, 1), padding=(2, 2))\n",
            "      (4): ReLU(inplace=True)\n",
            "      (5): MaxPool2d(kernel_size=3, stride=2, padding=0, dilation=1, ceil_mode=False)\n",
            "      (6): Conv2d(192, 384, kernel_size=(3, 3), stride=(1, 1), padding=(1, 1))\n",
            "      (7): ReLU(inplace=True)\n",
            "      (8): Conv2d(384, 256, kernel_size=(3, 3), stride=(1, 1), padding=(1, 1))\n",
            "      (9): ReLU(inplace=True)\n",
            "      (10): Conv2d(256, 256, kernel_size=(3, 3), stride=(1, 1), padding=(1, 1))\n",
            "      (11): ReLU(inplace=True)\n",
            "      (12): MaxPool2d(kernel_size=3, stride=2, padding=0, dilation=1, ceil_mode=False)\n",
            "    )\n",
            "    (avgpool): AdaptiveAvgPool2d(output_size=(6, 6))\n",
            "    (classifier): Sequential(\n",
            "      (0): Dropout(p=0.5, inplace=False)\n",
            "      (1): Linear(in_features=9216, out_features=4096, bias=True)\n",
            "      (2): ReLU(inplace=True)\n",
            "      (3): Dropout(p=0.5, inplace=False)\n",
            "      (4): Linear(in_features=4096, out_features=4096, bias=True)\n",
            "      (5): ReLU(inplace=True)\n",
            "      (6): Linear(in_features=4096, out_features=4, bias=True)\n",
            "    )\n",
            "  )\n",
            "  (post_spec_dropout): Dropout(p=0.1, inplace=False)\n",
            "  (post_spec_layer): Linear(in_features=9216, out_features=128, bias=True)\n",
            "  (lstm_mfcc): LSTM(40, 256, num_layers=2, batch_first=True, dropout=0.5, bidirectional=True)\n",
            "  (post_mfcc_dropout): Dropout(p=0.1, inplace=False)\n",
            "  (post_mfcc_layer): Linear(in_features=153600, out_features=128, bias=True)\n",
            "  (post_spec_mfcc_att_dropout): Dropout(p=0.1, inplace=False)\n",
            "  (post_spec_mfcc_att_layer): Linear(in_features=256, out_features=149, bias=True)\n",
            "  (wav2vec2_model): Wav2Vec2Model(\n",
            "    (feature_extractor): Wav2Vec2FeatureEncoder(\n",
            "      (conv_layers): ModuleList(\n",
            "        (0): Wav2Vec2GroupNormConvLayer(\n",
            "          (conv): Conv1d(1, 512, kernel_size=(10,), stride=(5,), bias=False)\n",
            "          (activation): GELUActivation()\n",
            "          (layer_norm): GroupNorm(512, 512, eps=1e-05, affine=True)\n",
            "        )\n",
            "        (1-4): 4 x Wav2Vec2NoLayerNormConvLayer(\n",
            "          (conv): Conv1d(512, 512, kernel_size=(3,), stride=(2,), bias=False)\n",
            "          (activation): GELUActivation()\n",
            "        )\n",
            "        (5-6): 2 x Wav2Vec2NoLayerNormConvLayer(\n",
            "          (conv): Conv1d(512, 512, kernel_size=(2,), stride=(2,), bias=False)\n",
            "          (activation): GELUActivation()\n",
            "        )\n",
            "      )\n",
            "    )\n",
            "    (feature_projection): Wav2Vec2FeatureProjection(\n",
            "      (layer_norm): LayerNorm((512,), eps=1e-05, elementwise_affine=True)\n",
            "      (projection): Linear(in_features=512, out_features=768, bias=True)\n",
            "      (dropout): Dropout(p=0.1, inplace=False)\n",
            "    )\n",
            "    (encoder): Wav2Vec2Encoder(\n",
            "      (pos_conv_embed): Wav2Vec2PositionalConvEmbedding(\n",
            "        (conv): ParametrizedConv1d(\n",
            "          768, 768, kernel_size=(128,), stride=(1,), padding=(64,), groups=16\n",
            "          (parametrizations): ModuleDict(\n",
            "            (weight): ParametrizationList(\n",
            "              (0): _WeightNorm()\n",
            "            )\n",
            "          )\n",
            "        )\n",
            "        (padding): Wav2Vec2SamePadLayer()\n",
            "        (activation): GELUActivation()\n",
            "      )\n",
            "      (layer_norm): LayerNorm((768,), eps=1e-05, elementwise_affine=True)\n",
            "      (dropout): Dropout(p=0.1, inplace=False)\n",
            "      (layers): ModuleList(\n",
            "        (0-11): 12 x Wav2Vec2EncoderLayer(\n",
            "          (attention): Wav2Vec2Attention(\n",
            "            (k_proj): Linear(in_features=768, out_features=768, bias=True)\n",
            "            (v_proj): Linear(in_features=768, out_features=768, bias=True)\n",
            "            (q_proj): Linear(in_features=768, out_features=768, bias=True)\n",
            "            (out_proj): Linear(in_features=768, out_features=768, bias=True)\n",
            "          )\n",
            "          (dropout): Dropout(p=0.1, inplace=False)\n",
            "          (layer_norm): LayerNorm((768,), eps=1e-05, elementwise_affine=True)\n",
            "          (feed_forward): Wav2Vec2FeedForward(\n",
            "            (intermediate_dropout): Dropout(p=0.1, inplace=False)\n",
            "            (intermediate_dense): Linear(in_features=768, out_features=3072, bias=True)\n",
            "            (intermediate_act_fn): GELUActivation()\n",
            "            (output_dense): Linear(in_features=3072, out_features=768, bias=True)\n",
            "            (output_dropout): Dropout(p=0.1, inplace=False)\n",
            "          )\n",
            "          (final_layer_norm): LayerNorm((768,), eps=1e-05, elementwise_affine=True)\n",
            "        )\n",
            "      )\n",
            "    )\n",
            "  )\n",
            "  (post_wav_dropout): Dropout(p=0.1, inplace=False)\n",
            "  (post_wav_layer): Linear(in_features=768, out_features=128, bias=True)\n",
            "  (post_att_dropout): Dropout(p=0.1, inplace=False)\n",
            "  (post_att_layer_1): Linear(in_features=384, out_features=128, bias=True)\n",
            "  (post_att_layer_2): Linear(in_features=128, out_features=128, bias=True)\n",
            "  (post_att_layer_3): Linear(in_features=128, out_features=4, bias=True)\n",
            ")\n",
            "Number of trainable parameters: 174622941\n",
            "\n",
            "\n",
            "Start Training!!!\n"
          ]
        },
        {
          "name": "stderr",
          "output_type": "stream",
          "text": [
            "  0%|          | 0/307 [00:00<?, ?it/s]/home/stud1/anaconda3/envs/hss/lib/python3.10/site-packages/torch/nn/modules/conv.py:456: UserWarning: Applied workaround for CuDNN issue, install nvrtc.so (Triggered internally at ../aten/src/ATen/native/cudnn/Conv_v8.cpp:80.)\n",
            "  return F.conv2d(input, weight, bias, self.stride,\n",
            "100%|██████████| 307/307 [01:13<00:00,  4.18it/s]\n",
            "100%|██████████| 19/19 [00:03<00:00,  5.91it/s]\n"
          ]
        },
        {
          "name": "stdout",
          "output_type": "stream",
          "text": [
            " ang  sad  hap  neu\n",
            "  40    3   24   15\n",
            "   3  103    3    7\n",
            "   5   25   79   37\n",
            "   7   91   35   80\n",
            "True\n",
            "0 0\n",
            "Epoch 1  (lr = 1e-05)        Loss: 1.2376 - 1.0491 - WA: 54.22% <54.22%> - UA: 57.31% <57.31%>\n"
          ]
        },
        {
          "name": "stderr",
          "output_type": "stream",
          "text": [
            "100%|██████████| 307/307 [01:12<00:00,  4.21it/s]\n",
            "100%|██████████| 19/19 [00:02<00:00,  6.40it/s]\n"
          ]
        },
        {
          "name": "stdout",
          "output_type": "stream",
          "text": [
            " ang  sad  hap  neu\n",
            "  29    6   34   13\n",
            "   2  109    1    4\n",
            "   0   29   88   29\n",
            "   2   93   34   84\n",
            "True\n",
            "1 1\n",
            "Epoch 2  (lr = 1e-05)        Loss: 1.0479 - 1.0314 - WA: 55.66% <55.66%> - UA: 57.26% <57.26%>\n"
          ]
        },
        {
          "name": "stderr",
          "output_type": "stream",
          "text": [
            "100%|██████████| 307/307 [01:12<00:00,  4.22it/s]\n",
            "100%|██████████| 19/19 [00:02<00:00,  6.41it/s]\n"
          ]
        },
        {
          "name": "stdout",
          "output_type": "stream",
          "text": [
            " ang  sad  hap  neu\n",
            "  40    6   31    5\n",
            "   2  110    2    2\n",
            "   0   31  101   14\n",
            "   4  103   55   51\n",
            "True\n",
            "2 2\n",
            "Epoch 3  (lr = 1e-05)        Loss: 0.9795 - 1.0268 - WA: 54.22% <54.22%> - UA: 59.18% <59.18%>\n"
          ]
        },
        {
          "name": "stderr",
          "output_type": "stream",
          "text": [
            "100%|██████████| 307/307 [01:12<00:00,  4.21it/s]\n",
            "100%|██████████| 19/19 [00:02<00:00,  6.35it/s]\n"
          ]
        },
        {
          "name": "stdout",
          "output_type": "stream",
          "text": [
            " ang  sad  hap  neu\n",
            "  59    3   10   10\n",
            "   4  106    0    6\n",
            "   5   25   91   25\n",
            "   8   83   33   89\n",
            "True\n",
            "3 3\n",
            "Epoch 4  (lr = 1e-05)        Loss: 0.9227 - 0.9294 - WA: 61.94% <61.94%> - UA: 66.86% <66.86%>\n"
          ]
        },
        {
          "name": "stderr",
          "output_type": "stream",
          "text": [
            "100%|██████████| 307/307 [01:13<00:00,  4.20it/s]\n",
            "100%|██████████| 19/19 [00:02<00:00,  6.34it/s]\n"
          ]
        },
        {
          "name": "stdout",
          "output_type": "stream",
          "text": [
            " ang  sad  hap  neu\n",
            "  65    3    6    8\n",
            "   4  103    0    9\n",
            "   8   22   89   27\n",
            "  11   70   31  101\n",
            "True\n",
            "4 4\n",
            "Epoch 5  (lr = 1e-05)        Loss: 0.8726 - 0.9148 - WA: 64.27% <64.27%> - UA: 69.11% <69.11%>\n"
          ]
        },
        {
          "name": "stderr",
          "output_type": "stream",
          "text": [
            "100%|██████████| 307/307 [01:12<00:00,  4.22it/s]\n",
            "100%|██████████| 19/19 [00:02<00:00,  6.38it/s]\n"
          ]
        },
        {
          "name": "stdout",
          "output_type": "stream",
          "text": [
            " ang  sad  hap  neu\n",
            "  66    2    9    5\n",
            "   4  103    0    9\n",
            "   9   22   89   26\n",
            "  11   70   31  101\n",
            "True\n",
            "5 5\n",
            "Epoch 6  (lr = 1e-05)        Loss: 0.8321 - 0.9187 - WA: 64.45% <64.45%> - UA: 69.41% <69.41%>\n"
          ]
        },
        {
          "name": "stderr",
          "output_type": "stream",
          "text": [
            "100%|██████████| 307/307 [01:12<00:00,  4.21it/s]\n",
            "100%|██████████| 19/19 [00:02<00:00,  6.40it/s]\n"
          ]
        },
        {
          "name": "stdout",
          "output_type": "stream",
          "text": [
            " ang  sad  hap  neu\n",
            "  63    5    6    8\n",
            "   4  104    0    8\n",
            "   4   27   80   35\n",
            "   9   71   22  111\n",
            "5 6\n",
            "Epoch 7  (lr = 1e-05)        Loss: 0.7762 - 0.9158 - WA: 64.27% <64.45%> - UA: 68.35% <69.41%>\n"
          ]
        },
        {
          "name": "stderr",
          "output_type": "stream",
          "text": [
            "100%|██████████| 307/307 [01:12<00:00,  4.22it/s]\n",
            "100%|██████████| 19/19 [00:02<00:00,  6.41it/s]\n"
          ]
        },
        {
          "name": "stdout",
          "output_type": "stream",
          "text": [
            " ang  sad  hap  neu\n",
            "  51    5   10   16\n",
            "   3  107    0    6\n",
            "   1   25   81   39\n",
            "   2   74   23  114\n",
            "5 7\n",
            "Epoch 8  (lr = 1e-05)        Loss: 0.7338 - 0.9174 - WA: 63.38% <64.45%> - UA: 65.86% <69.41%>\n"
          ]
        },
        {
          "name": "stderr",
          "output_type": "stream",
          "text": [
            "100%|██████████| 307/307 [01:12<00:00,  4.23it/s]\n",
            "100%|██████████| 19/19 [00:02<00:00,  6.39it/s]\n"
          ]
        },
        {
          "name": "stdout",
          "output_type": "stream",
          "text": [
            " ang  sad  hap  neu\n",
            "  61    2    3   16\n",
            "   4   96    0   16\n",
            "   6   23   64   53\n",
            "   9   53    9  142\n",
            "5 8\n",
            "Epoch 9  (lr = 1e-05)        Loss: 0.7061 - 0.9153 - WA: 65.17% <64.45%> - UA: 66.91% <69.41%>\n"
          ]
        },
        {
          "name": "stderr",
          "output_type": "stream",
          "text": [
            "100%|██████████| 307/307 [01:13<00:00,  4.20it/s]\n",
            "100%|██████████| 19/19 [00:02<00:00,  6.38it/s]\n"
          ]
        },
        {
          "name": "stdout",
          "output_type": "stream",
          "text": [
            " ang  sad  hap  neu\n",
            "  60    5    3   14\n",
            "   4  105    0    7\n",
            "   4   31   70   41\n",
            "   5   63   22  123\n",
            "5 9\n",
            "Epoch 10  (lr = 1e-05)        Loss: 0.6605 - 0.9519 - WA: 64.27% <64.45%> - UA: 67.34% <69.41%>\n"
          ]
        },
        {
          "name": "stderr",
          "output_type": "stream",
          "text": [
            "100%|██████████| 307/307 [01:13<00:00,  4.20it/s]\n",
            "100%|██████████| 19/19 [00:02<00:00,  6.39it/s]\n"
          ]
        },
        {
          "name": "stdout",
          "output_type": "stream",
          "text": [
            " ang  sad  hap  neu\n",
            "  64    6    8    4\n",
            "   4  107    0    5\n",
            "   7   23   98   18\n",
            "   8   68   35  102\n",
            "True\n",
            "10 10\n",
            "Epoch 11  (lr = 1e-05)        Loss: 0.6222 - 0.9692 - WA: 66.61% <66.61%> - UA: 71.33% <71.33%>\n"
          ]
        },
        {
          "name": "stderr",
          "output_type": "stream",
          "text": [
            "100%|██████████| 307/307 [01:12<00:00,  4.21it/s]\n",
            "100%|██████████| 19/19 [00:02<00:00,  6.40it/s]\n"
          ]
        },
        {
          "name": "stdout",
          "output_type": "stream",
          "text": [
            " ang  sad  hap  neu\n",
            "  56    5   14    7\n",
            "   3   89    3   21\n",
            "   2   19  101   24\n",
            "   3   42   40  128\n",
            "10 11\n",
            "Epoch 12  (lr = 1e-05)        Loss: 0.5923 - 0.9119 - WA: 67.15% <66.61%> - UA: 68.57% <71.33%>\n"
          ]
        },
        {
          "name": "stderr",
          "output_type": "stream",
          "text": [
            "100%|██████████| 307/307 [01:12<00:00,  4.22it/s]\n",
            "100%|██████████| 19/19 [00:02<00:00,  6.41it/s]\n"
          ]
        },
        {
          "name": "stdout",
          "output_type": "stream",
          "text": [
            " ang  sad  hap  neu\n",
            "  57    4   12    9\n",
            "   3   89    3   21\n",
            "   2   18   94   32\n",
            "   7   33   30  143\n",
            "True\n",
            "12 12\n",
            "Epoch 13  (lr = 1e-05)        Loss: 0.5642 - 0.9699 - WA: 68.76% <68.76%> - UA: 69.44% <69.44%>\n"
          ]
        },
        {
          "name": "stderr",
          "output_type": "stream",
          "text": [
            "100%|██████████| 307/307 [01:12<00:00,  4.21it/s]\n",
            "100%|██████████| 19/19 [00:03<00:00,  6.33it/s]\n"
          ]
        },
        {
          "name": "stdout",
          "output_type": "stream",
          "text": [
            " ang  sad  hap  neu\n",
            "  63    1    4   14\n",
            "   4   95    1   16\n",
            "   2   18   96   30\n",
            "   7   35   31  140\n",
            "True\n",
            "13 13\n",
            "Epoch 14  (lr = 1e-05)        Loss: 0.5377 - 0.9081 - WA: 70.74% <70.74%> - UA: 72.55% <72.55%>\n"
          ]
        },
        {
          "name": "stderr",
          "output_type": "stream",
          "text": [
            "100%|██████████| 307/307 [01:12<00:00,  4.21it/s]\n",
            "100%|██████████| 19/19 [00:02<00:00,  6.39it/s]\n"
          ]
        },
        {
          "name": "stdout",
          "output_type": "stream",
          "text": [
            " ang  sad  hap  neu\n",
            "  69    4    5    4\n",
            "   4  102    1    9\n",
            "   5   20  100   21\n",
            "   9   58   41  105\n",
            "13 14\n",
            "Epoch 15  (lr = 1e-05)        Loss: 0.5042 - 1.0104 - WA: 67.50% <70.74%> - UA: 72.47% <72.55%>\n"
          ]
        },
        {
          "name": "stderr",
          "output_type": "stream",
          "text": [
            "100%|██████████| 307/307 [01:12<00:00,  4.21it/s]\n",
            "100%|██████████| 19/19 [00:02<00:00,  6.38it/s]\n"
          ]
        },
        {
          "name": "stdout",
          "output_type": "stream",
          "text": [
            " ang  sad  hap  neu\n",
            "  70    3    2    7\n",
            "   4  103    1    8\n",
            "  10   19   90   27\n",
            "  11   68   28  106\n",
            "13 15\n",
            "Epoch 16  (lr = 1e-05)        Loss: 0.4706 - 1.0882 - WA: 66.25% <70.74%> - UA: 71.39% <72.55%>\n"
          ]
        },
        {
          "name": "stderr",
          "output_type": "stream",
          "text": [
            "100%|██████████| 307/307 [01:13<00:00,  4.21it/s]\n",
            "100%|██████████| 19/19 [00:02<00:00,  6.40it/s]\n"
          ]
        },
        {
          "name": "stdout",
          "output_type": "stream",
          "text": [
            " ang  sad  hap  neu\n",
            "  66    3    6    7\n",
            "   3  103    2    8\n",
            "   7   23   97   19\n",
            "   8   57   44  104\n",
            "13 16\n",
            "Epoch 17  (lr = 1e-05)        Loss: 0.4551 - 1.0242 - WA: 66.43% <70.74%> - UA: 71.14% <72.55%>\n"
          ]
        },
        {
          "name": "stderr",
          "output_type": "stream",
          "text": [
            "100%|██████████| 307/307 [01:12<00:00,  4.23it/s]\n",
            "100%|██████████| 19/19 [00:02<00:00,  6.38it/s]\n"
          ]
        },
        {
          "name": "stdout",
          "output_type": "stream",
          "text": [
            " ang  sad  hap  neu\n",
            "  65    3    6    8\n",
            "   3  107    2    4\n",
            "   4   28   91   23\n",
            "   6   78   35   94\n",
            "13 17\n",
            "Epoch 18  (lr = 1e-05)        Loss: 0.4378 - 1.1120 - WA: 64.09% <70.74%> - UA: 69.49% <72.55%>\n"
          ]
        },
        {
          "name": "stderr",
          "output_type": "stream",
          "text": [
            "100%|██████████| 307/307 [01:13<00:00,  4.19it/s]\n",
            "100%|██████████| 19/19 [00:02<00:00,  6.38it/s]\n"
          ]
        },
        {
          "name": "stdout",
          "output_type": "stream",
          "text": [
            " ang  sad  hap  neu\n",
            "  59    2    8   13\n",
            "   3  105    4    4\n",
            "   3   22   90   31\n",
            "   4   65   28  116\n",
            "13 18\n",
            "Epoch 19  (lr = 1e-05)        Loss: 0.4031 - 1.1064 - WA: 66.43% <70.74%> - UA: 69.64% <72.55%>\n"
          ]
        },
        {
          "name": "stderr",
          "output_type": "stream",
          "text": [
            "100%|██████████| 307/307 [01:12<00:00,  4.23it/s]\n",
            "100%|██████████| 19/19 [00:02<00:00,  6.39it/s]\n"
          ]
        },
        {
          "name": "stdout",
          "output_type": "stream",
          "text": [
            " ang  sad  hap  neu\n",
            "  58    3    4   17\n",
            "   2  100    2   12\n",
            "   3   21   77   45\n",
            "   4   47   19  143\n",
            "13 19\n",
            "Epoch 20  (lr = 1e-05)        Loss: 0.3988 - 1.2278 - WA: 67.86% <70.74%> - UA: 69.20% <72.55%>\n"
          ]
        },
        {
          "name": "stderr",
          "output_type": "stream",
          "text": [
            "100%|██████████| 307/307 [01:13<00:00,  4.20it/s]\n",
            "100%|██████████| 19/19 [00:02<00:00,  6.40it/s]\n"
          ]
        },
        {
          "name": "stdout",
          "output_type": "stream",
          "text": [
            " ang  sad  hap  neu\n",
            "  69    1    1   11\n",
            "   4  102    1    9\n",
            "  14   23   63   46\n",
            "   9   51   14  139\n",
            "13 20\n",
            "Epoch 21  (lr = 1e-05)        Loss: 0.3742 - 1.1733 - WA: 66.97% <70.74%> - UA: 70.12% <72.55%>\n"
          ]
        },
        {
          "name": "stderr",
          "output_type": "stream",
          "text": [
            "100%|██████████| 307/307 [01:12<00:00,  4.22it/s]\n",
            "100%|██████████| 19/19 [00:02<00:00,  6.40it/s]\n"
          ]
        },
        {
          "name": "stdout",
          "output_type": "stream",
          "text": [
            " ang  sad  hap  neu\n",
            "  62    0    5   15\n",
            "   4   92    3   17\n",
            "   5   14   92   35\n",
            "   7   25   35  146\n",
            "13 21\n",
            "Epoch 22  (lr = 1e-05)        Loss: 0.3579 - 1.0222 - WA: 70.38% <70.74%> - UA: 71.62% <72.55%>\n"
          ]
        },
        {
          "name": "stderr",
          "output_type": "stream",
          "text": [
            "100%|██████████| 19/19 [00:02<00:00,  6.40it/s]\n"
          ]
        },
        {
          "name": "stdout",
          "output_type": "stream",
          "text": [
            " ang  sad  hap  neu\n",
            "  63    1    4   14\n",
            "   4   95    1   16\n",
            "   2   18   96   30\n",
            "   7   35   31  140\n",
            " ang  sad  hap  neu\n",
            "  63    1    4   14\n",
            "   4   95    1   16\n",
            "   2   18   96   30\n",
            "   7   35   31  140\n",
            "****************************************\n",
            "RESULTS ON TEST SET:\n",
            "Loss:0.9081\tWA: 70.74\tUA: 72.55\n",
            "Confusion matrix:\n",
            " ang  sad  hap  neu\n",
            "  63    1    4   14\n",
            "   4   95    1   16\n",
            "   2   18   96   30\n",
            "   7   35   31  140\n",
            "****************************************\n",
            "\n",
            "PARAMETERS:\n",
            "\n",
            "****************************************\n",
            "\n",
            "\n",
            "       ser_task: SLM\n",
            "     repeat_idx: 0\n",
            "         val_id: 1F\n",
            "        test_id: 1F\n",
            "     num_epochs: 30\n",
            "     early_stop: 8\n",
            "     batch_size: 32\n",
            "             lr: 1e-05\n",
            "    random_seed: 111\n",
            "        use_gpu: 1\n",
            "        gpu_ids: ['0']\n",
            "     save_label: 2024-10-21-19-33\n",
            "   oversampling: False\n",
            "     pretrained: True\n",
            "****************************************\n",
            "\n",
            "\n",
            "\n",
            "Dataset normalized with minmax scaler\n",
            "\tRange before normalization: [-80.0, 3.8146973e-06]\n",
            "\tRange after  normalization: [0.0, 1.0]\n",
            "\n",
            "<<DATASET>>\n",
            "\n",
            "Val. speaker id : 1F\n",
            "Test speaker id : 1F\n",
            "Train data      : (9965, 1, 200, 300)\n",
            "Train labels    : (9965,)\n",
            "Eval. data      : (1037, 1, 200, 300)\n",
            "Eval. label     : (528,)\n",
            "Eval. seg labels: (1037,)\n",
            "Eval. num seg   : (528,)\n",
            "Test data       : (1037, 1, 200, 300)\n",
            "Test label      : (528,)\n",
            "Test seg labels : (1037,)\n",
            "Test num seg    : (528,)\n",
            "\n",
            "\n",
            "pytorch version:  2.1.1+cu118\n",
            "cuda version:  11.8\n",
            "cudnn version:  8700\n",
            "gpu name:  NVIDIA GeForce RTX 4080\n",
            "gpu index:  0\n"
          ]
        },
        {
          "name": "stderr",
          "output_type": "stream",
          "text": [
            "/home/stud1/.local/lib/python3.10/site-packages/torchvision/models/_utils.py:208: UserWarning: The parameter 'pretrained' is deprecated since 0.13 and may be removed in the future, please use 'weights' instead.\n",
            "  warnings.warn(\n",
            "/home/stud1/.local/lib/python3.10/site-packages/torchvision/models/_utils.py:223: UserWarning: Arguments other than a weight enum or `None` for 'weights' are deprecated since 0.13 and may be removed in the future. The current behavior is equivalent to passing `weights=AlexNet_Weights.IMAGENET1K_V1`. You can also use `weights=AlexNet_Weights.DEFAULT` to get the most up-to-date weights.\n",
            "  warnings.warn(msg)\n"
          ]
        },
        {
          "name": "stdout",
          "output_type": "stream",
          "text": [
            "\n",
            "<< SER AlexNet Finetuning model initialized >>\n",
            "\n"
          ]
        },
        {
          "name": "stderr",
          "output_type": "stream",
          "text": [
            "/home/stud1/.local/lib/python3.10/site-packages/huggingface_hub/file_download.py:1142: FutureWarning: `resume_download` is deprecated and will be removed in version 1.0.0. Downloads always resume when possible. If you want to force a new download, use `force_download=True`.\n",
            "  warnings.warn(\n",
            "Some weights of Wav2Vec2Model were not initialized from the model checkpoint at facebook/wav2vec2-base-960h and are newly initialized: ['wav2vec2.masked_spec_embed', 'wav2vec2.encoder.pos_conv_embed.conv.parametrizations.weight.original1', 'wav2vec2.encoder.pos_conv_embed.conv.parametrizations.weight.original0']\n",
            "You should probably TRAIN this model on a down-stream task to be able to use it for predictions and inference.\n"
          ]
        },
        {
          "name": "stdout",
          "output_type": "stream",
          "text": [
            "Ser_Model(\n",
            "  (alexnet_model): SER_AlexNet(\n",
            "    (features): Sequential(\n",
            "      (0): Conv2d(3, 64, kernel_size=(11, 11), stride=(4, 4), padding=(2, 2))\n",
            "      (1): ReLU(inplace=True)\n",
            "      (2): MaxPool2d(kernel_size=3, stride=2, padding=0, dilation=1, ceil_mode=False)\n",
            "      (3): Conv2d(64, 192, kernel_size=(5, 5), stride=(1, 1), padding=(2, 2))\n",
            "      (4): ReLU(inplace=True)\n",
            "      (5): MaxPool2d(kernel_size=3, stride=2, padding=0, dilation=1, ceil_mode=False)\n",
            "      (6): Conv2d(192, 384, kernel_size=(3, 3), stride=(1, 1), padding=(1, 1))\n",
            "      (7): ReLU(inplace=True)\n",
            "      (8): Conv2d(384, 256, kernel_size=(3, 3), stride=(1, 1), padding=(1, 1))\n",
            "      (9): ReLU(inplace=True)\n",
            "      (10): Conv2d(256, 256, kernel_size=(3, 3), stride=(1, 1), padding=(1, 1))\n",
            "      (11): ReLU(inplace=True)\n",
            "      (12): MaxPool2d(kernel_size=3, stride=2, padding=0, dilation=1, ceil_mode=False)\n",
            "    )\n",
            "    (avgpool): AdaptiveAvgPool2d(output_size=(6, 6))\n",
            "    (classifier): Sequential(\n",
            "      (0): Dropout(p=0.5, inplace=False)\n",
            "      (1): Linear(in_features=9216, out_features=4096, bias=True)\n",
            "      (2): ReLU(inplace=True)\n",
            "      (3): Dropout(p=0.5, inplace=False)\n",
            "      (4): Linear(in_features=4096, out_features=4096, bias=True)\n",
            "      (5): ReLU(inplace=True)\n",
            "      (6): Linear(in_features=4096, out_features=4, bias=True)\n",
            "    )\n",
            "  )\n",
            "  (post_spec_dropout): Dropout(p=0.1, inplace=False)\n",
            "  (post_spec_layer): Linear(in_features=9216, out_features=128, bias=True)\n",
            "  (lstm_mfcc): LSTM(40, 256, num_layers=2, batch_first=True, dropout=0.5, bidirectional=True)\n",
            "  (post_mfcc_dropout): Dropout(p=0.1, inplace=False)\n",
            "  (post_mfcc_layer): Linear(in_features=153600, out_features=128, bias=True)\n",
            "  (post_spec_mfcc_att_dropout): Dropout(p=0.1, inplace=False)\n",
            "  (post_spec_mfcc_att_layer): Linear(in_features=256, out_features=149, bias=True)\n",
            "  (wav2vec2_model): Wav2Vec2Model(\n",
            "    (feature_extractor): Wav2Vec2FeatureEncoder(\n",
            "      (conv_layers): ModuleList(\n",
            "        (0): Wav2Vec2GroupNormConvLayer(\n",
            "          (conv): Conv1d(1, 512, kernel_size=(10,), stride=(5,), bias=False)\n",
            "          (activation): GELUActivation()\n",
            "          (layer_norm): GroupNorm(512, 512, eps=1e-05, affine=True)\n",
            "        )\n",
            "        (1-4): 4 x Wav2Vec2NoLayerNormConvLayer(\n",
            "          (conv): Conv1d(512, 512, kernel_size=(3,), stride=(2,), bias=False)\n",
            "          (activation): GELUActivation()\n",
            "        )\n",
            "        (5-6): 2 x Wav2Vec2NoLayerNormConvLayer(\n",
            "          (conv): Conv1d(512, 512, kernel_size=(2,), stride=(2,), bias=False)\n",
            "          (activation): GELUActivation()\n",
            "        )\n",
            "      )\n",
            "    )\n",
            "    (feature_projection): Wav2Vec2FeatureProjection(\n",
            "      (layer_norm): LayerNorm((512,), eps=1e-05, elementwise_affine=True)\n",
            "      (projection): Linear(in_features=512, out_features=768, bias=True)\n",
            "      (dropout): Dropout(p=0.1, inplace=False)\n",
            "    )\n",
            "    (encoder): Wav2Vec2Encoder(\n",
            "      (pos_conv_embed): Wav2Vec2PositionalConvEmbedding(\n",
            "        (conv): ParametrizedConv1d(\n",
            "          768, 768, kernel_size=(128,), stride=(1,), padding=(64,), groups=16\n",
            "          (parametrizations): ModuleDict(\n",
            "            (weight): ParametrizationList(\n",
            "              (0): _WeightNorm()\n",
            "            )\n",
            "          )\n",
            "        )\n",
            "        (padding): Wav2Vec2SamePadLayer()\n",
            "        (activation): GELUActivation()\n",
            "      )\n",
            "      (layer_norm): LayerNorm((768,), eps=1e-05, elementwise_affine=True)\n",
            "      (dropout): Dropout(p=0.1, inplace=False)\n",
            "      (layers): ModuleList(\n",
            "        (0-11): 12 x Wav2Vec2EncoderLayer(\n",
            "          (attention): Wav2Vec2Attention(\n",
            "            (k_proj): Linear(in_features=768, out_features=768, bias=True)\n",
            "            (v_proj): Linear(in_features=768, out_features=768, bias=True)\n",
            "            (q_proj): Linear(in_features=768, out_features=768, bias=True)\n",
            "            (out_proj): Linear(in_features=768, out_features=768, bias=True)\n",
            "          )\n",
            "          (dropout): Dropout(p=0.1, inplace=False)\n",
            "          (layer_norm): LayerNorm((768,), eps=1e-05, elementwise_affine=True)\n",
            "          (feed_forward): Wav2Vec2FeedForward(\n",
            "            (intermediate_dropout): Dropout(p=0.1, inplace=False)\n",
            "            (intermediate_dense): Linear(in_features=768, out_features=3072, bias=True)\n",
            "            (intermediate_act_fn): GELUActivation()\n",
            "            (output_dense): Linear(in_features=3072, out_features=768, bias=True)\n",
            "            (output_dropout): Dropout(p=0.1, inplace=False)\n",
            "          )\n",
            "          (final_layer_norm): LayerNorm((768,), eps=1e-05, elementwise_affine=True)\n",
            "        )\n",
            "      )\n",
            "    )\n",
            "  )\n",
            "  (post_wav_dropout): Dropout(p=0.1, inplace=False)\n",
            "  (post_wav_layer): Linear(in_features=768, out_features=128, bias=True)\n",
            "  (post_att_dropout): Dropout(p=0.1, inplace=False)\n",
            "  (post_att_layer_1): Linear(in_features=384, out_features=128, bias=True)\n",
            "  (post_att_layer_2): Linear(in_features=128, out_features=128, bias=True)\n",
            "  (post_att_layer_3): Linear(in_features=128, out_features=4, bias=True)\n",
            ")\n",
            "Number of trainable parameters: 174622941\n",
            "\n",
            "\n",
            "Start Training!!!\n"
          ]
        },
        {
          "name": "stderr",
          "output_type": "stream",
          "text": [
            "100%|██████████| 312/312 [01:14<00:00,  4.21it/s]\n",
            "100%|██████████| 17/17 [00:02<00:00,  6.63it/s]\n"
          ]
        },
        {
          "name": "stdout",
          "output_type": "stream",
          "text": [
            " ang  sad  hap  neu\n",
            "  91   11   36    9\n",
            "   0   73    5    0\n",
            "  47   15   53   17\n",
            "   8   96   28   39\n",
            "True\n",
            "0 0\n",
            "Epoch 1  (lr = 1e-05)        Loss: 1.2400 - 1.0775 - WA: 48.48% <48.48%> - UA: 54.61% <54.61%>\n"
          ]
        },
        {
          "name": "stderr",
          "output_type": "stream",
          "text": [
            "100%|██████████| 312/312 [01:13<00:00,  4.22it/s]\n",
            "100%|██████████| 17/17 [00:02<00:00,  6.59it/s]\n"
          ]
        },
        {
          "name": "stdout",
          "output_type": "stream",
          "text": [
            " ang  sad  hap  neu\n",
            " 103   15   15   14\n",
            "   1   75    2    0\n",
            "  29   22   56   25\n",
            "  10  115    8   38\n",
            "True\n",
            "1 1\n",
            "Epoch 2  (lr = 1e-05)        Loss: 1.0670 - 1.0286 - WA: 51.52% <51.52%> - UA: 57.72% <57.72%>\n"
          ]
        },
        {
          "name": "stderr",
          "output_type": "stream",
          "text": [
            "100%|██████████| 312/312 [01:14<00:00,  4.21it/s]\n",
            "100%|██████████| 17/17 [00:02<00:00,  6.57it/s]\n"
          ]
        },
        {
          "name": "stdout",
          "output_type": "stream",
          "text": [
            " ang  sad  hap  neu\n",
            " 113    9   16    9\n",
            "   0   74    3    1\n",
            "  16   11   90   15\n",
            "   9   86   22   54\n",
            "True\n",
            "2 2\n",
            "Epoch 3  (lr = 1e-05)        Loss: 1.0028 - 0.9336 - WA: 62.69% <62.69%> - UA: 67.88% <67.88%>\n"
          ]
        },
        {
          "name": "stderr",
          "output_type": "stream",
          "text": [
            "100%|██████████| 312/312 [01:14<00:00,  4.21it/s]\n",
            "100%|██████████| 17/17 [00:02<00:00,  6.60it/s]\n"
          ]
        },
        {
          "name": "stdout",
          "output_type": "stream",
          "text": [
            " ang  sad  hap  neu\n",
            " 121    6    8   12\n",
            "   1   73    2    2\n",
            "  23    9   83   17\n",
            "  14   79   11   67\n",
            "True\n",
            "3 3\n",
            "Epoch 4  (lr = 1e-05)        Loss: 0.9333 - 0.8793 - WA: 65.15% <65.15%> - UA: 69.49% <69.49%>\n"
          ]
        },
        {
          "name": "stderr",
          "output_type": "stream",
          "text": [
            "100%|██████████| 312/312 [01:14<00:00,  4.20it/s]\n",
            "100%|██████████| 17/17 [00:02<00:00,  6.54it/s]\n"
          ]
        },
        {
          "name": "stdout",
          "output_type": "stream",
          "text": [
            " ang  sad  hap  neu\n",
            " 117    5    4   21\n",
            "   1   71    0    6\n",
            "  18   12   73   29\n",
            "   8   56    8   99\n",
            "True\n",
            "4 4\n",
            "Epoch 5  (lr = 1e-05)        Loss: 0.8722 - 0.8468 - WA: 68.18% <68.18%> - UA: 70.95% <70.95%>\n"
          ]
        },
        {
          "name": "stderr",
          "output_type": "stream",
          "text": [
            "100%|██████████| 312/312 [01:14<00:00,  4.21it/s]\n",
            "100%|██████████| 17/17 [00:02<00:00,  6.54it/s]\n"
          ]
        },
        {
          "name": "stdout",
          "output_type": "stream",
          "text": [
            " ang  sad  hap  neu\n",
            " 126    4    4   13\n",
            "   1   72    2    3\n",
            "  16   13   87   16\n",
            "  11   75   14   71\n",
            "4 5\n",
            "Epoch 6  (lr = 1e-05)        Loss: 0.8260 - 0.8778 - WA: 67.42% <68.18%> - UA: 71.36% <70.95%>\n"
          ]
        },
        {
          "name": "stderr",
          "output_type": "stream",
          "text": [
            "100%|██████████| 312/312 [01:14<00:00,  4.21it/s]\n",
            "100%|██████████| 17/17 [00:02<00:00,  6.58it/s]\n"
          ]
        },
        {
          "name": "stdout",
          "output_type": "stream",
          "text": [
            " ang  sad  hap  neu\n",
            " 118    4    5   20\n",
            "   2   61    2   13\n",
            "  16    8   78   30\n",
            "   7   54   11   99\n",
            "4 6\n",
            "Epoch 7  (lr = 1e-05)        Loss: 0.7714 - 0.8613 - WA: 67.42% <68.18%> - UA: 68.87% <70.95%>\n"
          ]
        },
        {
          "name": "stderr",
          "output_type": "stream",
          "text": [
            "100%|██████████| 312/312 [01:13<00:00,  4.22it/s]\n",
            "100%|██████████| 17/17 [00:02<00:00,  6.53it/s]\n"
          ]
        },
        {
          "name": "stdout",
          "output_type": "stream",
          "text": [
            " ang  sad  hap  neu\n",
            " 113    5   15   14\n",
            "   1   62   10    5\n",
            "  13    7  107    5\n",
            "   4   57   43   67\n",
            "4 7\n",
            "Epoch 8  (lr = 1e-05)        Loss: 0.7235 - 0.9505 - WA: 66.10% <68.18%> - UA: 69.15% <70.95%>\n"
          ]
        },
        {
          "name": "stderr",
          "output_type": "stream",
          "text": [
            "100%|██████████| 312/312 [01:13<00:00,  4.23it/s]\n",
            "100%|██████████| 17/17 [00:02<00:00,  6.55it/s]\n"
          ]
        },
        {
          "name": "stdout",
          "output_type": "stream",
          "text": [
            " ang  sad  hap  neu\n",
            " 123    6    5   13\n",
            "   1   71    2    4\n",
            "  18   17   78   19\n",
            "   9   67   15   80\n",
            "4 8\n",
            "Epoch 9  (lr = 1e-05)        Loss: 0.6972 - 0.9248 - WA: 66.67% <68.18%> - UA: 70.14% <70.95%>\n"
          ]
        },
        {
          "name": "stderr",
          "output_type": "stream",
          "text": [
            "100%|██████████| 312/312 [01:14<00:00,  4.20it/s]\n",
            "100%|██████████| 17/17 [00:02<00:00,  6.54it/s]\n"
          ]
        },
        {
          "name": "stdout",
          "output_type": "stream",
          "text": [
            " ang  sad  hap  neu\n",
            " 122    4    6   15\n",
            "   1   68    3    6\n",
            "  17   10   90   15\n",
            "   7   63   17   84\n",
            "True\n",
            "9 9\n",
            "Epoch 10  (lr = 1e-05)        Loss: 0.6397 - 0.9266 - WA: 68.94% <68.94%> - UA: 71.87% <71.87%>\n"
          ]
        },
        {
          "name": "stderr",
          "output_type": "stream",
          "text": [
            "100%|██████████| 312/312 [01:14<00:00,  4.20it/s]\n",
            "100%|██████████| 17/17 [00:02<00:00,  6.54it/s]\n"
          ]
        },
        {
          "name": "stdout",
          "output_type": "stream",
          "text": [
            " ang  sad  hap  neu\n",
            " 117    4   11   15\n",
            "   1   61   10    6\n",
            "  12    6  102   12\n",
            "   5   50   33   83\n",
            "9 10\n",
            "Epoch 11  (lr = 1e-05)        Loss: 0.5931 - 0.9941 - WA: 68.75% <68.94%> - UA: 70.90% <71.87%>\n"
          ]
        },
        {
          "name": "stderr",
          "output_type": "stream",
          "text": [
            "100%|██████████| 312/312 [01:14<00:00,  4.21it/s]\n",
            "100%|██████████| 17/17 [00:02<00:00,  6.57it/s]\n"
          ]
        },
        {
          "name": "stdout",
          "output_type": "stream",
          "text": [
            " ang  sad  hap  neu\n",
            " 119    3    8   17\n",
            "   1   67    7    3\n",
            "  16    9   96   11\n",
            "   6   55   31   79\n",
            "9 11\n",
            "Epoch 12  (lr = 1e-05)        Loss: 0.5751 - 0.9614 - WA: 68.37% <68.94%> - UA: 71.44% <71.87%>\n"
          ]
        },
        {
          "name": "stderr",
          "output_type": "stream",
          "text": [
            "100%|██████████| 312/312 [01:13<00:00,  4.22it/s]\n",
            "100%|██████████| 17/17 [00:02<00:00,  6.56it/s]\n"
          ]
        },
        {
          "name": "stdout",
          "output_type": "stream",
          "text": [
            " ang  sad  hap  neu\n",
            " 113    5    9   20\n",
            "   1   69    4    4\n",
            "   9   11   98   14\n",
            "   2   63   22   84\n",
            "True\n",
            "12 12\n",
            "Epoch 13  (lr = 1e-05)        Loss: 0.5559 - 1.0027 - WA: 68.94% <68.94%> - UA: 72.17% <72.17%>\n"
          ]
        },
        {
          "name": "stderr",
          "output_type": "stream",
          "text": [
            "100%|██████████| 312/312 [01:14<00:00,  4.22it/s]\n",
            "100%|██████████| 17/17 [00:02<00:00,  6.52it/s]\n"
          ]
        },
        {
          "name": "stdout",
          "output_type": "stream",
          "text": [
            " ang  sad  hap  neu\n",
            " 123    2    5   17\n",
            "   2   60    7    9\n",
            "  18    8   88   18\n",
            "   8   47   18   98\n",
            "12 13\n",
            "Epoch 14  (lr = 1e-05)        Loss: 0.5162 - 1.0220 - WA: 69.89% <68.94%> - UA: 71.14% <72.17%>\n"
          ]
        },
        {
          "name": "stderr",
          "output_type": "stream",
          "text": [
            "100%|██████████| 312/312 [01:13<00:00,  4.23it/s]\n",
            "100%|██████████| 17/17 [00:02<00:00,  6.54it/s]\n"
          ]
        },
        {
          "name": "stdout",
          "output_type": "stream",
          "text": [
            " ang  sad  hap  neu\n",
            " 118    4   12   13\n",
            "   1   67    9    1\n",
            "  12    8  102   10\n",
            "   8   59   39   65\n",
            "12 14\n",
            "Epoch 15  (lr = 1e-05)        Loss: 0.4943 - 1.1493 - WA: 66.67% <68.94%> - UA: 70.36% <72.17%>\n"
          ]
        },
        {
          "name": "stderr",
          "output_type": "stream",
          "text": [
            "100%|██████████| 312/312 [01:14<00:00,  4.20it/s]\n",
            "100%|██████████| 17/17 [00:02<00:00,  6.57it/s]\n"
          ]
        },
        {
          "name": "stdout",
          "output_type": "stream",
          "text": [
            " ang  sad  hap  neu\n",
            " 121    2    8   16\n",
            "   2   56   11    9\n",
            "  19    7   93   13\n",
            "  11   37   34   89\n",
            "12 15\n",
            "Epoch 16  (lr = 1e-05)        Loss: 0.4619 - 1.0680 - WA: 67.99% <68.94%> - UA: 69.15% <72.17%>\n"
          ]
        },
        {
          "name": "stderr",
          "output_type": "stream",
          "text": [
            "100%|██████████| 312/312 [01:14<00:00,  4.20it/s]\n",
            "100%|██████████| 17/17 [00:02<00:00,  6.54it/s]\n"
          ]
        },
        {
          "name": "stdout",
          "output_type": "stream",
          "text": [
            " ang  sad  hap  neu\n",
            " 122    4    8   13\n",
            "   1   62   14    1\n",
            "  17    7  102    6\n",
            "  11   49   41   70\n",
            "12 16\n",
            "Epoch 17  (lr = 1e-05)        Loss: 0.4384 - 1.2096 - WA: 67.42% <68.94%> - UA: 70.17% <72.17%>\n"
          ]
        },
        {
          "name": "stderr",
          "output_type": "stream",
          "text": [
            "100%|██████████| 312/312 [01:13<00:00,  4.22it/s]\n",
            "100%|██████████| 17/17 [00:02<00:00,  6.55it/s]\n"
          ]
        },
        {
          "name": "stdout",
          "output_type": "stream",
          "text": [
            " ang  sad  hap  neu\n",
            " 123    2    7   15\n",
            "   1   55    9   13\n",
            "  19   10   85   18\n",
            "  12   42   22   95\n",
            "12 17\n",
            "Epoch 18  (lr = 1e-05)        Loss: 0.4172 - 1.2754 - WA: 67.80% <68.94%> - UA: 68.53% <72.17%>\n"
          ]
        },
        {
          "name": "stderr",
          "output_type": "stream",
          "text": [
            "100%|██████████| 312/312 [01:14<00:00,  4.19it/s]\n",
            "100%|██████████| 17/17 [00:02<00:00,  6.54it/s]\n"
          ]
        },
        {
          "name": "stdout",
          "output_type": "stream",
          "text": [
            " ang  sad  hap  neu\n",
            " 118    3    9   17\n",
            "   1   59    9    9\n",
            "  15    9   95   13\n",
            "  11   41   32   87\n",
            "12 18\n",
            "Epoch 19  (lr = 1e-05)        Loss: 0.3981 - 1.2085 - WA: 67.99% <68.94%> - UA: 69.69% <72.17%>\n"
          ]
        },
        {
          "name": "stderr",
          "output_type": "stream",
          "text": [
            "100%|██████████| 312/312 [01:13<00:00,  4.23it/s]\n",
            "100%|██████████| 17/17 [00:02<00:00,  6.53it/s]\n"
          ]
        },
        {
          "name": "stdout",
          "output_type": "stream",
          "text": [
            " ang  sad  hap  neu\n",
            " 112    2   11   22\n",
            "   1   47   20   10\n",
            "  11    2  107   12\n",
            "   2   31   43   95\n",
            "12 19\n",
            "Epoch 20  (lr = 1e-05)        Loss: 0.3736 - 1.2967 - WA: 68.37% <68.94%> - UA: 68.27% <72.17%>\n"
          ]
        },
        {
          "name": "stderr",
          "output_type": "stream",
          "text": [
            "100%|██████████| 312/312 [01:14<00:00,  4.20it/s]\n",
            "100%|██████████| 17/17 [00:02<00:00,  6.56it/s]\n"
          ]
        },
        {
          "name": "stdout",
          "output_type": "stream",
          "text": [
            " ang  sad  hap  neu\n",
            " 119    4    8   16\n",
            "   1   62   12    3\n",
            "  14    7   99   12\n",
            "   5   52   34   80\n",
            "12 20\n",
            "Epoch 21  (lr = 1e-05)        Loss: 0.3506 - 1.1493 - WA: 68.18% <68.94%> - UA: 70.56% <72.17%>\n"
          ]
        },
        {
          "name": "stderr",
          "output_type": "stream",
          "text": [
            "100%|██████████| 17/17 [00:02<00:00,  6.57it/s]\n"
          ]
        },
        {
          "name": "stdout",
          "output_type": "stream",
          "text": [
            " ang  sad  hap  neu\n",
            " 113    5    9   20\n",
            "   1   69    4    4\n",
            "   9   11   98   14\n",
            "   2   63   22   84\n",
            " ang  sad  hap  neu\n",
            " 113    5    9   20\n",
            "   1   69    4    4\n",
            "   9   11   98   14\n",
            "   2   63   22   84\n",
            "****************************************\n",
            "RESULTS ON TEST SET:\n",
            "Loss:1.0027\tWA: 68.94\tUA: 72.17\n",
            "Confusion matrix:\n",
            " ang  sad  hap  neu\n",
            " 113    5    9   20\n",
            "   1   69    4    4\n",
            "   9   11   98   14\n",
            "   2   63   22   84\n",
            "****************************************\n",
            "\n",
            "PARAMETERS:\n",
            "\n",
            "****************************************\n",
            "\n",
            "\n",
            "       ser_task: SLM\n",
            "     repeat_idx: 0\n",
            "         val_id: 2M\n",
            "        test_id: 2M\n",
            "     num_epochs: 30\n",
            "     early_stop: 8\n",
            "     batch_size: 32\n",
            "             lr: 1e-05\n",
            "    random_seed: 111\n",
            "        use_gpu: 1\n",
            "        gpu_ids: ['0']\n",
            "     save_label: 2024-10-21-19-33\n",
            "   oversampling: False\n",
            "     pretrained: True\n",
            "****************************************\n",
            "\n",
            "\n",
            "\n",
            "Dataset normalized with minmax scaler\n",
            "\tRange before normalization: [-80.0, 3.8146973e-06]\n",
            "\tRange after  normalization: [0.0, 1.0]\n",
            "\n",
            "<<DATASET>>\n",
            "\n",
            "Val. speaker id : 2M\n",
            "Test speaker id : 2M\n",
            "Train data      : (9833, 1, 200, 300)\n",
            "Train labels    : (9833,)\n",
            "Eval. data      : (1169, 1, 200, 300)\n",
            "Eval. label     : (542,)\n",
            "Eval. seg labels: (1169,)\n",
            "Eval. num seg   : (542,)\n",
            "Test data       : (1169, 1, 200, 300)\n",
            "Test label      : (542,)\n",
            "Test seg labels : (1169,)\n",
            "Test num seg    : (542,)\n",
            "\n",
            "\n",
            "pytorch version:  2.1.1+cu118\n",
            "cuda version:  11.8\n",
            "cudnn version:  8700\n",
            "gpu name:  NVIDIA GeForce RTX 4080\n",
            "gpu index:  0\n"
          ]
        },
        {
          "name": "stderr",
          "output_type": "stream",
          "text": [
            "/home/stud1/.local/lib/python3.10/site-packages/torchvision/models/_utils.py:208: UserWarning: The parameter 'pretrained' is deprecated since 0.13 and may be removed in the future, please use 'weights' instead.\n",
            "  warnings.warn(\n",
            "/home/stud1/.local/lib/python3.10/site-packages/torchvision/models/_utils.py:223: UserWarning: Arguments other than a weight enum or `None` for 'weights' are deprecated since 0.13 and may be removed in the future. The current behavior is equivalent to passing `weights=AlexNet_Weights.IMAGENET1K_V1`. You can also use `weights=AlexNet_Weights.DEFAULT` to get the most up-to-date weights.\n",
            "  warnings.warn(msg)\n"
          ]
        },
        {
          "name": "stdout",
          "output_type": "stream",
          "text": [
            "\n",
            "<< SER AlexNet Finetuning model initialized >>\n",
            "\n"
          ]
        },
        {
          "name": "stderr",
          "output_type": "stream",
          "text": [
            "/home/stud1/.local/lib/python3.10/site-packages/huggingface_hub/file_download.py:1142: FutureWarning: `resume_download` is deprecated and will be removed in version 1.0.0. Downloads always resume when possible. If you want to force a new download, use `force_download=True`.\n",
            "  warnings.warn(\n",
            "Some weights of Wav2Vec2Model were not initialized from the model checkpoint at facebook/wav2vec2-base-960h and are newly initialized: ['wav2vec2.masked_spec_embed', 'wav2vec2.encoder.pos_conv_embed.conv.parametrizations.weight.original1', 'wav2vec2.encoder.pos_conv_embed.conv.parametrizations.weight.original0']\n",
            "You should probably TRAIN this model on a down-stream task to be able to use it for predictions and inference.\n"
          ]
        },
        {
          "name": "stdout",
          "output_type": "stream",
          "text": [
            "Ser_Model(\n",
            "  (alexnet_model): SER_AlexNet(\n",
            "    (features): Sequential(\n",
            "      (0): Conv2d(3, 64, kernel_size=(11, 11), stride=(4, 4), padding=(2, 2))\n",
            "      (1): ReLU(inplace=True)\n",
            "      (2): MaxPool2d(kernel_size=3, stride=2, padding=0, dilation=1, ceil_mode=False)\n",
            "      (3): Conv2d(64, 192, kernel_size=(5, 5), stride=(1, 1), padding=(2, 2))\n",
            "      (4): ReLU(inplace=True)\n",
            "      (5): MaxPool2d(kernel_size=3, stride=2, padding=0, dilation=1, ceil_mode=False)\n",
            "      (6): Conv2d(192, 384, kernel_size=(3, 3), stride=(1, 1), padding=(1, 1))\n",
            "      (7): ReLU(inplace=True)\n",
            "      (8): Conv2d(384, 256, kernel_size=(3, 3), stride=(1, 1), padding=(1, 1))\n",
            "      (9): ReLU(inplace=True)\n",
            "      (10): Conv2d(256, 256, kernel_size=(3, 3), stride=(1, 1), padding=(1, 1))\n",
            "      (11): ReLU(inplace=True)\n",
            "      (12): MaxPool2d(kernel_size=3, stride=2, padding=0, dilation=1, ceil_mode=False)\n",
            "    )\n",
            "    (avgpool): AdaptiveAvgPool2d(output_size=(6, 6))\n",
            "    (classifier): Sequential(\n",
            "      (0): Dropout(p=0.5, inplace=False)\n",
            "      (1): Linear(in_features=9216, out_features=4096, bias=True)\n",
            "      (2): ReLU(inplace=True)\n",
            "      (3): Dropout(p=0.5, inplace=False)\n",
            "      (4): Linear(in_features=4096, out_features=4096, bias=True)\n",
            "      (5): ReLU(inplace=True)\n",
            "      (6): Linear(in_features=4096, out_features=4, bias=True)\n",
            "    )\n",
            "  )\n",
            "  (post_spec_dropout): Dropout(p=0.1, inplace=False)\n",
            "  (post_spec_layer): Linear(in_features=9216, out_features=128, bias=True)\n",
            "  (lstm_mfcc): LSTM(40, 256, num_layers=2, batch_first=True, dropout=0.5, bidirectional=True)\n",
            "  (post_mfcc_dropout): Dropout(p=0.1, inplace=False)\n",
            "  (post_mfcc_layer): Linear(in_features=153600, out_features=128, bias=True)\n",
            "  (post_spec_mfcc_att_dropout): Dropout(p=0.1, inplace=False)\n",
            "  (post_spec_mfcc_att_layer): Linear(in_features=256, out_features=149, bias=True)\n",
            "  (wav2vec2_model): Wav2Vec2Model(\n",
            "    (feature_extractor): Wav2Vec2FeatureEncoder(\n",
            "      (conv_layers): ModuleList(\n",
            "        (0): Wav2Vec2GroupNormConvLayer(\n",
            "          (conv): Conv1d(1, 512, kernel_size=(10,), stride=(5,), bias=False)\n",
            "          (activation): GELUActivation()\n",
            "          (layer_norm): GroupNorm(512, 512, eps=1e-05, affine=True)\n",
            "        )\n",
            "        (1-4): 4 x Wav2Vec2NoLayerNormConvLayer(\n",
            "          (conv): Conv1d(512, 512, kernel_size=(3,), stride=(2,), bias=False)\n",
            "          (activation): GELUActivation()\n",
            "        )\n",
            "        (5-6): 2 x Wav2Vec2NoLayerNormConvLayer(\n",
            "          (conv): Conv1d(512, 512, kernel_size=(2,), stride=(2,), bias=False)\n",
            "          (activation): GELUActivation()\n",
            "        )\n",
            "      )\n",
            "    )\n",
            "    (feature_projection): Wav2Vec2FeatureProjection(\n",
            "      (layer_norm): LayerNorm((512,), eps=1e-05, elementwise_affine=True)\n",
            "      (projection): Linear(in_features=512, out_features=768, bias=True)\n",
            "      (dropout): Dropout(p=0.1, inplace=False)\n",
            "    )\n",
            "    (encoder): Wav2Vec2Encoder(\n",
            "      (pos_conv_embed): Wav2Vec2PositionalConvEmbedding(\n",
            "        (conv): ParametrizedConv1d(\n",
            "          768, 768, kernel_size=(128,), stride=(1,), padding=(64,), groups=16\n",
            "          (parametrizations): ModuleDict(\n",
            "            (weight): ParametrizationList(\n",
            "              (0): _WeightNorm()\n",
            "            )\n",
            "          )\n",
            "        )\n",
            "        (padding): Wav2Vec2SamePadLayer()\n",
            "        (activation): GELUActivation()\n",
            "      )\n",
            "      (layer_norm): LayerNorm((768,), eps=1e-05, elementwise_affine=True)\n",
            "      (dropout): Dropout(p=0.1, inplace=False)\n",
            "      (layers): ModuleList(\n",
            "        (0-11): 12 x Wav2Vec2EncoderLayer(\n",
            "          (attention): Wav2Vec2Attention(\n",
            "            (k_proj): Linear(in_features=768, out_features=768, bias=True)\n",
            "            (v_proj): Linear(in_features=768, out_features=768, bias=True)\n",
            "            (q_proj): Linear(in_features=768, out_features=768, bias=True)\n",
            "            (out_proj): Linear(in_features=768, out_features=768, bias=True)\n",
            "          )\n",
            "          (dropout): Dropout(p=0.1, inplace=False)\n",
            "          (layer_norm): LayerNorm((768,), eps=1e-05, elementwise_affine=True)\n",
            "          (feed_forward): Wav2Vec2FeedForward(\n",
            "            (intermediate_dropout): Dropout(p=0.1, inplace=False)\n",
            "            (intermediate_dense): Linear(in_features=768, out_features=3072, bias=True)\n",
            "            (intermediate_act_fn): GELUActivation()\n",
            "            (output_dense): Linear(in_features=3072, out_features=768, bias=True)\n",
            "            (output_dropout): Dropout(p=0.1, inplace=False)\n",
            "          )\n",
            "          (final_layer_norm): LayerNorm((768,), eps=1e-05, elementwise_affine=True)\n",
            "        )\n",
            "      )\n",
            "    )\n",
            "  )\n",
            "  (post_wav_dropout): Dropout(p=0.1, inplace=False)\n",
            "  (post_wav_layer): Linear(in_features=768, out_features=128, bias=True)\n",
            "  (post_att_dropout): Dropout(p=0.1, inplace=False)\n",
            "  (post_att_layer_1): Linear(in_features=384, out_features=128, bias=True)\n",
            "  (post_att_layer_2): Linear(in_features=128, out_features=128, bias=True)\n",
            "  (post_att_layer_3): Linear(in_features=128, out_features=4, bias=True)\n",
            ")\n",
            "Number of trainable parameters: 174622941\n",
            "\n",
            "\n",
            "Start Training!!!\n"
          ]
        },
        {
          "name": "stderr",
          "output_type": "stream",
          "text": [
            "100%|██████████| 308/308 [01:13<00:00,  4.20it/s]\n",
            "100%|██████████| 19/19 [00:02<00:00,  6.47it/s]\n"
          ]
        },
        {
          "name": "stdout",
          "output_type": "stream",
          "text": [
            " ang  sad  hap  neu\n",
            "  33    0   34    3\n",
            "   0   59   10   15\n",
            "  11   14   99   37\n",
            "  11   34   95   87\n",
            "True\n",
            "0 0\n",
            "Epoch 1  (lr = 1e-05)        Loss: 1.2400 - 1.1356 - WA: 51.29% <51.29%> - UA: 54.30% <54.30%>\n"
          ]
        },
        {
          "name": "stderr",
          "output_type": "stream",
          "text": [
            "100%|██████████| 308/308 [01:12<00:00,  4.22it/s]\n",
            "100%|██████████| 19/19 [00:02<00:00,  6.49it/s]\n"
          ]
        },
        {
          "name": "stdout",
          "output_type": "stream",
          "text": [
            " ang  sad  hap  neu\n",
            "  61    0    4    5\n",
            "   1   48    2   33\n",
            "  39    9   71   42\n",
            "  36   21   43  127\n",
            "True\n",
            "1 1\n",
            "Epoch 2  (lr = 1e-05)        Loss: 1.0705 - 1.0999 - WA: 56.64% <56.64%> - UA: 61.08% <61.08%>\n"
          ]
        },
        {
          "name": "stderr",
          "output_type": "stream",
          "text": [
            "100%|██████████| 308/308 [01:12<00:00,  4.22it/s]\n",
            "100%|██████████| 19/19 [00:02<00:00,  6.45it/s]\n"
          ]
        },
        {
          "name": "stdout",
          "output_type": "stream",
          "text": [
            " ang  sad  hap  neu\n",
            "  68    0    0    2\n",
            "   7   39    0   38\n",
            "  64    2   54   41\n",
            "  53   18   23  133\n",
            "1 2\n",
            "Epoch 3  (lr = 1e-05)        Loss: 0.9963 - 1.1445 - WA: 54.24% <56.64%> - UA: 58.93% <61.08%>\n"
          ]
        },
        {
          "name": "stderr",
          "output_type": "stream",
          "text": [
            "100%|██████████| 308/308 [01:13<00:00,  4.22it/s]\n",
            "100%|██████████| 19/19 [00:02<00:00,  6.46it/s]\n"
          ]
        },
        {
          "name": "stdout",
          "output_type": "stream",
          "text": [
            " ang  sad  hap  neu\n",
            "  57    0    1   12\n",
            "   0   67    3   14\n",
            "  19   13   83   46\n",
            "  13   30   47  137\n",
            "True\n",
            "3 3\n",
            "Epoch 4  (lr = 1e-05)        Loss: 0.9438 - 1.0347 - WA: 63.47% <63.47%> - UA: 68.27% <68.27%>\n"
          ]
        },
        {
          "name": "stderr",
          "output_type": "stream",
          "text": [
            "100%|██████████| 308/308 [01:13<00:00,  4.20it/s]\n",
            "100%|██████████| 19/19 [00:02<00:00,  6.47it/s]\n"
          ]
        },
        {
          "name": "stdout",
          "output_type": "stream",
          "text": [
            " ang  sad  hap  neu\n",
            "  63    0    0    7\n",
            "   1   54    2   27\n",
            "  30    4   77   50\n",
            "  28   23   32  144\n",
            "3 4\n",
            "Epoch 5  (lr = 1e-05)        Loss: 0.8900 - 1.0496 - WA: 62.36% <63.47%> - UA: 66.39% <68.27%>\n"
          ]
        },
        {
          "name": "stderr",
          "output_type": "stream",
          "text": [
            "100%|██████████| 308/308 [01:13<00:00,  4.22it/s]\n",
            "100%|██████████| 19/19 [00:02<00:00,  6.44it/s]\n"
          ]
        },
        {
          "name": "stdout",
          "output_type": "stream",
          "text": [
            " ang  sad  hap  neu\n",
            "  63    0    5    2\n",
            "   0   76    2    6\n",
            "  23   18  108   12\n",
            "  26   38   67   96\n",
            "True\n",
            "5 5\n",
            "Epoch 6  (lr = 1e-05)        Loss: 0.8415 - 1.0377 - WA: 63.28% <63.28%> - UA: 72.46% <72.46%>\n"
          ]
        },
        {
          "name": "stderr",
          "output_type": "stream",
          "text": [
            "100%|██████████| 308/308 [01:13<00:00,  4.21it/s]\n",
            "100%|██████████| 19/19 [00:02<00:00,  6.46it/s]\n"
          ]
        },
        {
          "name": "stdout",
          "output_type": "stream",
          "text": [
            " ang  sad  hap  neu\n",
            "  59    0    8    3\n",
            "   0   54    9   21\n",
            "  12    3  131   15\n",
            "  21   19   82  105\n",
            "5 6\n",
            "Epoch 7  (lr = 1e-05)        Loss: 0.8035 - 0.9761 - WA: 64.39% <63.28%> - UA: 69.05% <72.46%>\n"
          ]
        },
        {
          "name": "stderr",
          "output_type": "stream",
          "text": [
            "100%|██████████| 308/308 [01:12<00:00,  4.22it/s]\n",
            "100%|██████████| 19/19 [00:02<00:00,  6.45it/s]\n"
          ]
        },
        {
          "name": "stdout",
          "output_type": "stream",
          "text": [
            " ang  sad  hap  neu\n",
            "  65    0    1    4\n",
            "   1   64    2   17\n",
            "  24    7  103   27\n",
            "  37   25   47  118\n",
            "True\n",
            "7 7\n",
            "Epoch 8  (lr = 1e-05)        Loss: 0.7693 - 1.0287 - WA: 64.58% <64.58%> - UA: 71.25% <71.25%>\n"
          ]
        },
        {
          "name": "stderr",
          "output_type": "stream",
          "text": [
            " 86%|████████▌ | 264/308 [01:02<00:10,  4.20it/s]\n"
          ]
        },
        {
          "ename": "KeyboardInterrupt",
          "evalue": "",
          "output_type": "error",
          "traceback": [
            "\u001b[0;31m---------------------------------------------------------------------------\u001b[0m",
            "\u001b[0;31mKeyboardInterrupt\u001b[0m                         Traceback (most recent call last)",
            "Cell \u001b[0;32mIn[1], line 73\u001b[0m\n\u001b[1;32m     52\u001b[0m \u001b[38;5;28;01mfor\u001b[39;00m v_id, t_id \u001b[38;5;129;01min\u001b[39;00m \u001b[38;5;28mlist\u001b[39m(\u001b[38;5;28mzip\u001b[39m(val_id, test_id)):\n\u001b[1;32m     54\u001b[0m     train_ser\u001b[38;5;241m.\u001b[39msys\u001b[38;5;241m.\u001b[39margv      \u001b[38;5;241m=\u001b[39m [\n\u001b[1;32m     55\u001b[0m \n\u001b[1;32m     56\u001b[0m                               \u001b[38;5;124m'\u001b[39m\u001b[38;5;124mtrain_ser.py\u001b[39m\u001b[38;5;124m'\u001b[39m,\n\u001b[0;32m   (...)\u001b[0m\n\u001b[1;32m     69\u001b[0m                               \u001b[38;5;124m'\u001b[39m\u001b[38;5;124m--pretrained\u001b[39m\u001b[38;5;124m'\u001b[39m\n\u001b[1;32m     70\u001b[0m                               ]\n\u001b[0;32m---> 73\u001b[0m     stat \u001b[38;5;241m=\u001b[39m \u001b[43mtrain_ser\u001b[49m\u001b[38;5;241;43m.\u001b[39;49m\u001b[43mmain\u001b[49m\u001b[43m(\u001b[49m\u001b[43mparse_arguments\u001b[49m\u001b[43m(\u001b[49m\u001b[43msys\u001b[49m\u001b[38;5;241;43m.\u001b[39;49m\u001b[43margv\u001b[49m\u001b[43m[\u001b[49m\u001b[38;5;241;43m1\u001b[39;49m\u001b[43m:\u001b[49m\u001b[43m]\u001b[49m\u001b[43m)\u001b[49m\u001b[43m)\u001b[49m\n\u001b[1;32m     74\u001b[0m     all_stat\u001b[38;5;241m.\u001b[39mappend(stat)\n\u001b[1;32m     75\u001b[0m     os\u001b[38;5;241m.\u001b[39mremove(save_label\u001b[38;5;241m+\u001b[39m\u001b[38;5;124m'\u001b[39m\u001b[38;5;124m.pth\u001b[39m\u001b[38;5;124m'\u001b[39m)\n",
            "File \u001b[0;32m~/Desktop/Swathi/Harsukh/CA-MSER/train_ser.py:78\u001b[0m, in \u001b[0;36mmain\u001b[0;34m(args)\u001b[0m\n\u001b[1;32m     72\u001b[0m ser_dataset \u001b[38;5;241m=\u001b[39m SERDataset(features_data,\n\u001b[1;32m     73\u001b[0m                            val_speaker_id\u001b[38;5;241m=\u001b[39margs\u001b[38;5;241m.\u001b[39mval_id,\n\u001b[1;32m     74\u001b[0m                            test_speaker_id\u001b[38;5;241m=\u001b[39margs\u001b[38;5;241m.\u001b[39mtest_id,\n\u001b[1;32m     75\u001b[0m                            oversample\u001b[38;5;241m=\u001b[39margs\u001b[38;5;241m.\u001b[39moversampling\n\u001b[1;32m     76\u001b[0m                            )\n\u001b[1;32m     77\u001b[0m \u001b[38;5;66;03m# Train\u001b[39;00m\n\u001b[0;32m---> 78\u001b[0m train_stat \u001b[38;5;241m=\u001b[39m \u001b[43mtrain\u001b[49m\u001b[43m(\u001b[49m\u001b[43mser_dataset\u001b[49m\u001b[43m,\u001b[49m\u001b[43m \u001b[49m\u001b[43mparams\u001b[49m\u001b[43m,\u001b[49m\u001b[43m \u001b[49m\u001b[43msave_label\u001b[49m\u001b[38;5;241;43m=\u001b[39;49m\u001b[43margs\u001b[49m\u001b[38;5;241;43m.\u001b[39;49m\u001b[43msave_label\u001b[49m\u001b[43m)\u001b[49m\n\u001b[1;32m     80\u001b[0m \u001b[38;5;28;01mreturn\u001b[39;00m train_stat\n",
            "File \u001b[0;32m~/Desktop/Swathi/Harsukh/CA-MSER/train_ser.py:467\u001b[0m, in \u001b[0;36mtrain\u001b[0;34m(dataset, params, save_label)\u001b[0m\n\u001b[1;32m    464\u001b[0m         train_loss \u001b[38;5;241m=\u001b[39m train_loss_ce\u001b[38;5;66;03m# + train_loss_mml\u001b[39;00m\n\u001b[1;32m    466\u001b[0m         train_loss\u001b[38;5;241m.\u001b[39mbackward()\n\u001b[0;32m--> 467\u001b[0m         total_loss \u001b[38;5;241m+\u001b[39m\u001b[38;5;241m=\u001b[39m \u001b[43mtrain_loss\u001b[49m\u001b[38;5;241;43m.\u001b[39;49m\u001b[43mitem\u001b[49m\u001b[43m(\u001b[49m\u001b[43m)\u001b[49m\n\u001b[1;32m    468\u001b[0m         optimizer\u001b[38;5;241m.\u001b[39mstep()\n\u001b[1;32m    470\u001b[0m \u001b[38;5;66;03m# Evaluate training data\u001b[39;00m\n",
            "\u001b[0;31mKeyboardInterrupt\u001b[0m: "
          ]
        }
      ],
      "source": [
        "import sys\n",
        "import os\n",
        "import time\n",
        "import json  # Import json for saving results\n",
        "\n",
        "\n",
        "# Add the path to the directory containing train_ser.py to the Python path\n",
        "sys.path.append('CA-MSER')  # Change the path if train_ser.py is in a different directory\n",
        "\n",
        "import train_ser\n",
        "from train_ser import parse_arguments\n",
        "import sys\n",
        "import pickle\n",
        "import os\n",
        "import time\n",
        "\n",
        "\n",
        "repeat_kfold = 2 # to  perform 10-fold for n-times with different seed\n",
        "localtime = time.localtime(time.time())\n",
        "str_time = f'{str(localtime.tm_year)}-{str(localtime.tm_mon)}-{str(localtime.tm_mday)}-{str(localtime.tm_hour)}-{str(localtime.tm_min)}'\n",
        "\n",
        "#------------PARAMETERS---------------#\n",
        "force_download=True\n",
        "features_file = 'IEMOCAP_multi.pkl'\n",
        "\n",
        "#  leave-one-speaker-out\n",
        "val_id = ['1M','1F','2M','2F','3M','3F','4M','4F','5M','5F']\n",
        "test_id = ['1M','1F','2M','2F','3M','3F','4M','4F','5M','5F']\n",
        "\n",
        "#  leave-one-session-out\n",
        "# val_id = ['1M','2M','3M','4M','5M']\n",
        "# test_id = ['1F','2F','3F','4F','5F']\n",
        "\n",
        "num_epochs  = '30'\n",
        "early_stop = '8'\n",
        "batch_size  = '32'\n",
        "lr          = '0.00001'\n",
        "random_seed = 111\n",
        "gpu = '1'\n",
        "gpu_ids = ['0']\n",
        "save_label = str_time#'0930_01'#'alexnet_pm_0704'\n",
        "\n",
        "\n",
        "#Start Cross Validation\n",
        "all_stat = []\n",
        "\n",
        "for repeat in range(repeat_kfold):\n",
        "\n",
        "    random_seed +=  (repeat*100)\n",
        "    seed = str(random_seed)\n",
        "\n",
        "    for v_id, t_id in list(zip(val_id, test_id)):\n",
        "\n",
        "        train_ser.sys.argv      = [\n",
        "\n",
        "                                  'train_ser.py',\n",
        "                                  features_file,\n",
        "                                  '--repeat_idx', str(repeat),\n",
        "                                  '--val_id',v_id,\n",
        "                                  '--test_id', t_id,\n",
        "                                  '--gpu', gpu,\n",
        "                                  '--gpu_ids', gpu_ids,\n",
        "                                  '--num_epochs', num_epochs,\n",
        "                                  '--early_stop', early_stop,\n",
        "                                  '--batch_size', batch_size,\n",
        "                                  '--lr', lr,\n",
        "                                  '--seed', seed,\n",
        "                                  '--save_label', save_label,#,\n",
        "                                  '--pretrained'\n",
        "                                  ]\n",
        "\n",
        "\n",
        "        stat = train_ser.main(parse_arguments(sys.argv[1:]))\n",
        "        all_stat.append(stat)\n",
        "        os.remove(save_label+'.pth')\n",
        "\n",
        "    # with open('allstat_iemocap_'+save_label+'_'+str(repeat)+'.pkl', \"wb\") as fout:\n",
        "    #     pickle.dump(all_stat, fout)\n",
        "\n",
        "n_total = repeat_kfold*len(val_id)\n",
        "total_best_epoch, total_epoch, total_loss, total_wa, total_ua = 0, 0, 0, 0, 0\n",
        "\n",
        "for i in range(n_total):\n",
        "    print(i, \": \", all_stat[i][0], all_stat[i][1], all_stat[i][8], all_stat[i][9], all_stat[i][10])\n",
        "    total_best_epoch += all_stat[i][0]\n",
        "    total_epoch += all_stat[i][1]\n",
        "    total_loss += float(all_stat[i][8])\n",
        "    total_wa += float(all_stat[i][9])\n",
        "    total_ua += float(all_stat[i][10])\n",
        "\n",
        "print(\"AVERAGE:\", total_best_epoch/n_total, total_epoch/n_total, total_loss/n_total, total_wa/n_total, total_ua/n_total )\n",
        "\n",
        "print(all_stat)"
      ]
    },
    {
      "cell_type": "code",
      "execution_count": 4,
      "metadata": {},
      "outputs": [],
      "source": [
        "import requests\n",
        "response = requests.get('http://huggingface.co/facebook/wav2vec2-base-960h/resolve/main/config.json', verify=True)"
      ]
    },
    {
      "cell_type": "code",
      "execution_count": 7,
      "metadata": {},
      "outputs": [
        {
          "name": "stdout",
          "output_type": "stream",
          "text": [
            "Collecting fairseq\n",
            "  Downloading fairseq-0.12.2.tar.gz (9.6 MB)\n",
            "\u001b[2K     \u001b[90m━━━━━━━━━━━━━━━━━━━━━━━━━━━━━━━━━━━━━━━━\u001b[0m \u001b[32m9.6/9.6 MB\u001b[0m \u001b[31m5.7 MB/s\u001b[0m eta \u001b[36m0:00:00\u001b[0ma \u001b[36m0:00:01\u001b[0m\n",
            "\u001b[?25h  Installing build dependencies ... \u001b[?25ldone\n",
            "\u001b[?25h  Getting requirements to build wheel ... \u001b[?25ldone\n",
            "\u001b[?25h  Installing backend dependencies ... \u001b[?25ldone\n",
            "\u001b[?25h  Preparing metadata (pyproject.toml) ... \u001b[?25ldone\n",
            "\u001b[?25hRequirement already satisfied: cffi in /home/stud1/.local/lib/python3.10/site-packages (from fairseq) (1.16.0)\n",
            "Collecting cython (from fairseq)\n",
            "  Using cached Cython-3.0.11-cp310-cp310-manylinux_2_17_x86_64.manylinux2014_x86_64.whl.metadata (3.2 kB)\n",
            "Collecting hydra-core<1.1,>=1.0.7 (from fairseq)\n",
            "  Downloading hydra_core-1.0.7-py3-none-any.whl.metadata (3.7 kB)\n",
            "Collecting omegaconf<2.1 (from fairseq)\n",
            "  Downloading omegaconf-2.0.6-py3-none-any.whl.metadata (3.0 kB)\n",
            "\u001b[33mWARNING: Ignoring version 2.0.6 of omegaconf since it has invalid metadata:\n",
            "Requested omegaconf<2.1 from https://files.pythonhosted.org/packages/d0/eb/9d63ce09dd8aa85767c65668d5414958ea29648a0eec80a4a7d311ec2684/omegaconf-2.0.6-py3-none-any.whl (from fairseq) has invalid metadata: .* suffix can only be used with `==` or `!=` operators\n",
            "    PyYAML (>=5.1.*)\n",
            "            ~~~~~~^\n",
            "Please use pip<24.1 if you need to use this version.\u001b[0m\u001b[33m\n",
            "\u001b[0m  Downloading omegaconf-2.0.5-py3-none-any.whl.metadata (3.0 kB)\n",
            "\u001b[33mWARNING: Ignoring version 2.0.5 of omegaconf since it has invalid metadata:\n",
            "Requested omegaconf<2.1 from https://files.pythonhosted.org/packages/e5/f6/043b6d255dd6fbf2025110cea35b87f4c5100a181681d8eab496269f0d5b/omegaconf-2.0.5-py3-none-any.whl (from fairseq) has invalid metadata: .* suffix can only be used with `==` or `!=` operators\n",
            "    PyYAML (>=5.1.*)\n",
            "            ~~~~~~^\n",
            "Please use pip<24.1 if you need to use this version.\u001b[0m\u001b[33m\n",
            "\u001b[0m  Downloading omegaconf-2.0.4-py3-none-any.whl.metadata (3.0 kB)\n",
            "\u001b[33mWARNING: Ignoring version 2.0.4 of omegaconf since it has invalid metadata:\n",
            "Requested omegaconf<2.1 from https://files.pythonhosted.org/packages/92/b1/4f3023143436f12c98bab53f0b3db617bd18a7d223627d5030e13a7b4fc2/omegaconf-2.0.4-py3-none-any.whl (from fairseq) has invalid metadata: .* suffix can only be used with `==` or `!=` operators\n",
            "    PyYAML (>=5.1.*)\n",
            "            ~~~~~~^\n",
            "Please use pip<24.1 if you need to use this version.\u001b[0m\u001b[33m\n",
            "\u001b[0m  Downloading omegaconf-2.0.3-py3-none-any.whl.metadata (3.0 kB)\n",
            "\u001b[33mWARNING: Ignoring version 2.0.3 of omegaconf since it has invalid metadata:\n",
            "Requested omegaconf<2.1 from https://files.pythonhosted.org/packages/29/08/a88210c2c1aa0a3f65f05d8a6c98939ccb84b6fb982aa6567dec4e6773f9/omegaconf-2.0.3-py3-none-any.whl (from fairseq) has invalid metadata: .* suffix can only be used with `==` or `!=` operators\n",
            "    PyYAML (>=5.1.*)\n",
            "            ~~~~~~^\n",
            "Please use pip<24.1 if you need to use this version.\u001b[0m\u001b[33m\n",
            "\u001b[0m  Downloading omegaconf-2.0.2-py3-none-any.whl.metadata (3.0 kB)\n",
            "\u001b[33mWARNING: Ignoring version 2.0.2 of omegaconf since it has invalid metadata:\n",
            "Requested omegaconf<2.1 from https://files.pythonhosted.org/packages/72/fe/f8d162aa059fb4f327fd75144dd69aa7e8acbb6d8d37013e4638c8490e0b/omegaconf-2.0.2-py3-none-any.whl (from fairseq) has invalid metadata: .* suffix can only be used with `==` or `!=` operators\n",
            "    PyYAML (>=5.1.*)\n",
            "            ~~~~~~^\n",
            "Please use pip<24.1 if you need to use this version.\u001b[0m\u001b[33m\n",
            "\u001b[0m  Downloading omegaconf-2.0.1-py3-none-any.whl.metadata (3.0 kB)\n",
            "\u001b[33mWARNING: Ignoring version 2.0.1 of omegaconf since it has invalid metadata:\n",
            "Requested omegaconf<2.1 from https://files.pythonhosted.org/packages/86/ec/605805e60abdb025b06664d107335031bb8ebdc52e0a90bdbad6a7130279/omegaconf-2.0.1-py3-none-any.whl (from fairseq) has invalid metadata: .* suffix can only be used with `==` or `!=` operators\n",
            "    PyYAML (>=5.1.*)\n",
            "            ~~~~~~^\n",
            "Please use pip<24.1 if you need to use this version.\u001b[0m\u001b[33m\n",
            "\u001b[0m  Downloading omegaconf-2.0.0-py3-none-any.whl.metadata (3.5 kB)\n",
            "Requirement already satisfied: regex in /home/stud1/.local/lib/python3.10/site-packages (from fairseq) (2023.8.8)\n",
            "Collecting sacrebleu>=1.4.12 (from fairseq)\n",
            "  Downloading sacrebleu-2.4.3-py3-none-any.whl.metadata (51 kB)\n",
            "Requirement already satisfied: torch in /home/stud1/anaconda3/envs/hss/lib/python3.10/site-packages (from fairseq) (2.1.1+cu118)\n",
            "Requirement already satisfied: tqdm in /home/stud1/anaconda3/envs/hss/lib/python3.10/site-packages (from fairseq) (4.66.5)\n",
            "Requirement already satisfied: bitarray in /home/stud1/.local/lib/python3.10/site-packages (from fairseq) (2.8.5)\n",
            "Requirement already satisfied: torchaudio>=0.8.0 in /home/stud1/.local/lib/python3.10/site-packages (from fairseq) (2.1.1)\n",
            "Requirement already satisfied: numpy in /home/stud1/.local/lib/python3.10/site-packages (from fairseq) (1.23.3)\n",
            "Collecting omegaconf<2.1 (from fairseq)\n",
            "  Using cached omegaconf-2.0.6-py3-none-any.whl.metadata (3.0 kB)\n",
            "\u001b[33mWARNING: Ignoring version 2.0.6 of omegaconf since it has invalid metadata:\n",
            "Requested omegaconf<2.1 from https://files.pythonhosted.org/packages/d0/eb/9d63ce09dd8aa85767c65668d5414958ea29648a0eec80a4a7d311ec2684/omegaconf-2.0.6-py3-none-any.whl (from fairseq) has invalid metadata: .* suffix can only be used with `==` or `!=` operators\n",
            "    PyYAML (>=5.1.*)\n",
            "            ~~~~~~^\n",
            "Please use pip<24.1 if you need to use this version.\u001b[0m\u001b[33m\n",
            "\u001b[0m  Using cached omegaconf-2.0.5-py3-none-any.whl.metadata (3.0 kB)\n",
            "\u001b[33mWARNING: Ignoring version 2.0.5 of omegaconf since it has invalid metadata:\n",
            "Requested omegaconf<2.1 from https://files.pythonhosted.org/packages/e5/f6/043b6d255dd6fbf2025110cea35b87f4c5100a181681d8eab496269f0d5b/omegaconf-2.0.5-py3-none-any.whl (from fairseq) has invalid metadata: .* suffix can only be used with `==` or `!=` operators\n",
            "    PyYAML (>=5.1.*)\n",
            "            ~~~~~~^\n",
            "Please use pip<24.1 if you need to use this version.\u001b[0m\u001b[33m\n",
            "\u001b[0mINFO: pip is looking at multiple versions of hydra-core to determine which version is compatible with other requirements. This could take a while.\n",
            "Collecting fairseq\n",
            "  Downloading fairseq-0.12.1.tar.gz (9.6 MB)\n",
            "\u001b[2K     \u001b[90m━━━━━━━━━━━━━━━━━━━━━━━━━━━━━━━━━━━━━━━━\u001b[0m \u001b[32m9.6/9.6 MB\u001b[0m \u001b[31m10.5 MB/s\u001b[0m eta \u001b[36m0:00:00\u001b[0ma \u001b[36m0:00:01\u001b[0m\n",
            "\u001b[?25h  Installing build dependencies ... \u001b[?25ldone\n",
            "\u001b[?25h  Getting requirements to build wheel ... \u001b[?25lerror\n",
            "  \u001b[1;31merror\u001b[0m: \u001b[1msubprocess-exited-with-error\u001b[0m\n",
            "  \n",
            "  \u001b[31m×\u001b[0m \u001b[32mGetting requirements to build wheel\u001b[0m did not run successfully.\n",
            "  \u001b[31m│\u001b[0m exit code: \u001b[1;36m1\u001b[0m\n",
            "  \u001b[31m╰─>\u001b[0m \u001b[31m[16 lines of output]\u001b[0m\n",
            "  \u001b[31m   \u001b[0m Traceback (most recent call last):\n",
            "  \u001b[31m   \u001b[0m   File \"/home/stud1/.local/lib/python3.10/site-packages/pip/_vendor/pyproject_hooks/_in_process/_in_process.py\", line 353, in <module>\n",
            "  \u001b[31m   \u001b[0m     main()\n",
            "  \u001b[31m   \u001b[0m   File \"/home/stud1/.local/lib/python3.10/site-packages/pip/_vendor/pyproject_hooks/_in_process/_in_process.py\", line 335, in main\n",
            "  \u001b[31m   \u001b[0m     json_out['return_val'] = hook(**hook_input['kwargs'])\n",
            "  \u001b[31m   \u001b[0m   File \"/home/stud1/.local/lib/python3.10/site-packages/pip/_vendor/pyproject_hooks/_in_process/_in_process.py\", line 118, in get_requires_for_build_wheel\n",
            "  \u001b[31m   \u001b[0m     return hook(config_settings)\n",
            "  \u001b[31m   \u001b[0m   File \"/tmp/pip-build-env-7vbrggdk/overlay/lib/python3.10/site-packages/setuptools/build_meta.py\", line 332, in get_requires_for_build_wheel\n",
            "  \u001b[31m   \u001b[0m     return self._get_build_requires(config_settings, requirements=[])\n",
            "  \u001b[31m   \u001b[0m   File \"/tmp/pip-build-env-7vbrggdk/overlay/lib/python3.10/site-packages/setuptools/build_meta.py\", line 302, in _get_build_requires\n",
            "  \u001b[31m   \u001b[0m     self.run_setup()\n",
            "  \u001b[31m   \u001b[0m   File \"/tmp/pip-build-env-7vbrggdk/overlay/lib/python3.10/site-packages/setuptools/build_meta.py\", line 318, in run_setup\n",
            "  \u001b[31m   \u001b[0m     exec(code, locals())\n",
            "  \u001b[31m   \u001b[0m   File \"<string>\", line 27, in <module>\n",
            "  \u001b[31m   \u001b[0m   File \"<string>\", line 18, in write_version_py\n",
            "  \u001b[31m   \u001b[0m FileNotFoundError: [Errno 2] No such file or directory: 'fairseq/version.txt'\n",
            "  \u001b[31m   \u001b[0m \u001b[31m[end of output]\u001b[0m\n",
            "  \n",
            "  \u001b[1;35mnote\u001b[0m: This error originates from a subprocess, and is likely not a problem with pip.\n",
            "\u001b[?25h\u001b[1;31merror\u001b[0m: \u001b[1msubprocess-exited-with-error\u001b[0m\n",
            "\n",
            "\u001b[31m×\u001b[0m \u001b[32mGetting requirements to build wheel\u001b[0m did not run successfully.\n",
            "\u001b[31m│\u001b[0m exit code: \u001b[1;36m1\u001b[0m\n",
            "\u001b[31m╰─>\u001b[0m See above for output.\n",
            "\n",
            "\u001b[1;35mnote\u001b[0m: This error originates from a subprocess, and is likely not a problem with pip.\n"
          ]
        }
      ],
      "source": [
        "!pip install fairseq"
      ]
    },
    {
      "cell_type": "code",
      "execution_count": null,
      "metadata": {},
      "outputs": [],
      "source": []
    }
  ],
  "metadata": {
    "accelerator": "GPU",
    "colab": {
      "gpuType": "T4",
      "provenance": []
    },
    "kernelspec": {
      "display_name": "hss",
      "language": "python",
      "name": "python3"
    },
    "language_info": {
      "codemirror_mode": {
        "name": "ipython",
        "version": 3
      },
      "file_extension": ".py",
      "mimetype": "text/x-python",
      "name": "python",
      "nbconvert_exporter": "python",
      "pygments_lexer": "ipython3",
      "version": "3.10.15"
    },
    "widgets": {
      "application/vnd.jupyter.widget-state+json": {
        "0435ad3120964f43ab41985943def046": {
          "model_module": "@jupyter-widgets/base",
          "model_module_version": "1.2.0",
          "model_name": "LayoutModel",
          "state": {
            "_model_module": "@jupyter-widgets/base",
            "_model_module_version": "1.2.0",
            "_model_name": "LayoutModel",
            "_view_count": null,
            "_view_module": "@jupyter-widgets/base",
            "_view_module_version": "1.2.0",
            "_view_name": "LayoutView",
            "align_content": null,
            "align_items": null,
            "align_self": null,
            "border": null,
            "bottom": null,
            "display": null,
            "flex": null,
            "flex_flow": null,
            "grid_area": null,
            "grid_auto_columns": null,
            "grid_auto_flow": null,
            "grid_auto_rows": null,
            "grid_column": null,
            "grid_gap": null,
            "grid_row": null,
            "grid_template_areas": null,
            "grid_template_columns": null,
            "grid_template_rows": null,
            "height": null,
            "justify_content": null,
            "justify_items": null,
            "left": null,
            "margin": null,
            "max_height": null,
            "max_width": null,
            "min_height": null,
            "min_width": null,
            "object_fit": null,
            "object_position": null,
            "order": null,
            "overflow": null,
            "overflow_x": null,
            "overflow_y": null,
            "padding": null,
            "right": null,
            "top": null,
            "visibility": null,
            "width": null
          }
        },
        "05abb9c7bb7f4af3ba5ce22c3c5b0fd0": {
          "model_module": "@jupyter-widgets/controls",
          "model_module_version": "1.5.0",
          "model_name": "HTMLModel",
          "state": {
            "_dom_classes": [],
            "_model_module": "@jupyter-widgets/controls",
            "_model_module_version": "1.5.0",
            "_model_name": "HTMLModel",
            "_view_count": null,
            "_view_module": "@jupyter-widgets/controls",
            "_view_module_version": "1.5.0",
            "_view_name": "HTMLView",
            "description": "",
            "description_tooltip": null,
            "layout": "IPY_MODEL_d401879fa05949a8b23ba532b16ffe73",
            "placeholder": "​",
            "style": "IPY_MODEL_46875fbf97f848e0b327e92827f9510b",
            "value": "config.json: 100%"
          }
        },
        "13b0ce2bb99b47169bcb62dbe0df086a": {
          "model_module": "@jupyter-widgets/controls",
          "model_module_version": "1.5.0",
          "model_name": "DescriptionStyleModel",
          "state": {
            "_model_module": "@jupyter-widgets/controls",
            "_model_module_version": "1.5.0",
            "_model_name": "DescriptionStyleModel",
            "_view_count": null,
            "_view_module": "@jupyter-widgets/base",
            "_view_module_version": "1.2.0",
            "_view_name": "StyleView",
            "description_width": ""
          }
        },
        "1c64a6990861405eb568a4edef6f54bd": {
          "model_module": "@jupyter-widgets/base",
          "model_module_version": "1.2.0",
          "model_name": "LayoutModel",
          "state": {
            "_model_module": "@jupyter-widgets/base",
            "_model_module_version": "1.2.0",
            "_model_name": "LayoutModel",
            "_view_count": null,
            "_view_module": "@jupyter-widgets/base",
            "_view_module_version": "1.2.0",
            "_view_name": "LayoutView",
            "align_content": null,
            "align_items": null,
            "align_self": null,
            "border": null,
            "bottom": null,
            "display": null,
            "flex": null,
            "flex_flow": null,
            "grid_area": null,
            "grid_auto_columns": null,
            "grid_auto_flow": null,
            "grid_auto_rows": null,
            "grid_column": null,
            "grid_gap": null,
            "grid_row": null,
            "grid_template_areas": null,
            "grid_template_columns": null,
            "grid_template_rows": null,
            "height": null,
            "justify_content": null,
            "justify_items": null,
            "left": null,
            "margin": null,
            "max_height": null,
            "max_width": null,
            "min_height": null,
            "min_width": null,
            "object_fit": null,
            "object_position": null,
            "order": null,
            "overflow": null,
            "overflow_x": null,
            "overflow_y": null,
            "padding": null,
            "right": null,
            "top": null,
            "visibility": null,
            "width": null
          }
        },
        "2029852e4f7245dfa5e0b8e29ebbe52b": {
          "model_module": "@jupyter-widgets/controls",
          "model_module_version": "1.5.0",
          "model_name": "ProgressStyleModel",
          "state": {
            "_model_module": "@jupyter-widgets/controls",
            "_model_module_version": "1.5.0",
            "_model_name": "ProgressStyleModel",
            "_view_count": null,
            "_view_module": "@jupyter-widgets/base",
            "_view_module_version": "1.2.0",
            "_view_name": "StyleView",
            "bar_color": null,
            "description_width": ""
          }
        },
        "2535a7e63ea547b3adf5cb96dc4c62db": {
          "model_module": "@jupyter-widgets/base",
          "model_module_version": "1.2.0",
          "model_name": "LayoutModel",
          "state": {
            "_model_module": "@jupyter-widgets/base",
            "_model_module_version": "1.2.0",
            "_model_name": "LayoutModel",
            "_view_count": null,
            "_view_module": "@jupyter-widgets/base",
            "_view_module_version": "1.2.0",
            "_view_name": "LayoutView",
            "align_content": null,
            "align_items": null,
            "align_self": null,
            "border": null,
            "bottom": null,
            "display": null,
            "flex": null,
            "flex_flow": null,
            "grid_area": null,
            "grid_auto_columns": null,
            "grid_auto_flow": null,
            "grid_auto_rows": null,
            "grid_column": null,
            "grid_gap": null,
            "grid_row": null,
            "grid_template_areas": null,
            "grid_template_columns": null,
            "grid_template_rows": null,
            "height": null,
            "justify_content": null,
            "justify_items": null,
            "left": null,
            "margin": null,
            "max_height": null,
            "max_width": null,
            "min_height": null,
            "min_width": null,
            "object_fit": null,
            "object_position": null,
            "order": null,
            "overflow": null,
            "overflow_x": null,
            "overflow_y": null,
            "padding": null,
            "right": null,
            "top": null,
            "visibility": null,
            "width": null
          }
        },
        "26e3d25f03604ae6bc7678d35e2a4cc9": {
          "model_module": "@jupyter-widgets/controls",
          "model_module_version": "1.5.0",
          "model_name": "HTMLModel",
          "state": {
            "_dom_classes": [],
            "_model_module": "@jupyter-widgets/controls",
            "_model_module_version": "1.5.0",
            "_model_name": "HTMLModel",
            "_view_count": null,
            "_view_module": "@jupyter-widgets/controls",
            "_view_module_version": "1.5.0",
            "_view_name": "HTMLView",
            "description": "",
            "description_tooltip": null,
            "layout": "IPY_MODEL_6a20ef8c7b034f7fa225fc5fc6f5a2bb",
            "placeholder": "​",
            "style": "IPY_MODEL_b87f6c3680734b688878272f2a835e85",
            "value": " 1.60k/1.60k [00:00&lt;00:00, 117kB/s]"
          }
        },
        "42abb48451b7419dbad79c951faacdc4": {
          "model_module": "@jupyter-widgets/base",
          "model_module_version": "1.2.0",
          "model_name": "LayoutModel",
          "state": {
            "_model_module": "@jupyter-widgets/base",
            "_model_module_version": "1.2.0",
            "_model_name": "LayoutModel",
            "_view_count": null,
            "_view_module": "@jupyter-widgets/base",
            "_view_module_version": "1.2.0",
            "_view_name": "LayoutView",
            "align_content": null,
            "align_items": null,
            "align_self": null,
            "border": null,
            "bottom": null,
            "display": null,
            "flex": null,
            "flex_flow": null,
            "grid_area": null,
            "grid_auto_columns": null,
            "grid_auto_flow": null,
            "grid_auto_rows": null,
            "grid_column": null,
            "grid_gap": null,
            "grid_row": null,
            "grid_template_areas": null,
            "grid_template_columns": null,
            "grid_template_rows": null,
            "height": null,
            "justify_content": null,
            "justify_items": null,
            "left": null,
            "margin": null,
            "max_height": null,
            "max_width": null,
            "min_height": null,
            "min_width": null,
            "object_fit": null,
            "object_position": null,
            "order": null,
            "overflow": null,
            "overflow_x": null,
            "overflow_y": null,
            "padding": null,
            "right": null,
            "top": null,
            "visibility": null,
            "width": null
          }
        },
        "46875fbf97f848e0b327e92827f9510b": {
          "model_module": "@jupyter-widgets/controls",
          "model_module_version": "1.5.0",
          "model_name": "DescriptionStyleModel",
          "state": {
            "_model_module": "@jupyter-widgets/controls",
            "_model_module_version": "1.5.0",
            "_model_name": "DescriptionStyleModel",
            "_view_count": null,
            "_view_module": "@jupyter-widgets/base",
            "_view_module_version": "1.2.0",
            "_view_name": "StyleView",
            "description_width": ""
          }
        },
        "4b4c6a8d01f9486e976a37d92b14e31d": {
          "model_module": "@jupyter-widgets/controls",
          "model_module_version": "1.5.0",
          "model_name": "HTMLModel",
          "state": {
            "_dom_classes": [],
            "_model_module": "@jupyter-widgets/controls",
            "_model_module_version": "1.5.0",
            "_model_name": "HTMLModel",
            "_view_count": null,
            "_view_module": "@jupyter-widgets/controls",
            "_view_module_version": "1.5.0",
            "_view_name": "HTMLView",
            "description": "",
            "description_tooltip": null,
            "layout": "IPY_MODEL_2535a7e63ea547b3adf5cb96dc4c62db",
            "placeholder": "​",
            "style": "IPY_MODEL_8b7f32cea2ca4f3f84769a4ab088b8fc",
            "value": " 378M/378M [00:06&lt;00:00, 104MB/s]"
          }
        },
        "670608282a8447a9b0108c34aeb32dc8": {
          "model_module": "@jupyter-widgets/base",
          "model_module_version": "1.2.0",
          "model_name": "LayoutModel",
          "state": {
            "_model_module": "@jupyter-widgets/base",
            "_model_module_version": "1.2.0",
            "_model_name": "LayoutModel",
            "_view_count": null,
            "_view_module": "@jupyter-widgets/base",
            "_view_module_version": "1.2.0",
            "_view_name": "LayoutView",
            "align_content": null,
            "align_items": null,
            "align_self": null,
            "border": null,
            "bottom": null,
            "display": null,
            "flex": null,
            "flex_flow": null,
            "grid_area": null,
            "grid_auto_columns": null,
            "grid_auto_flow": null,
            "grid_auto_rows": null,
            "grid_column": null,
            "grid_gap": null,
            "grid_row": null,
            "grid_template_areas": null,
            "grid_template_columns": null,
            "grid_template_rows": null,
            "height": null,
            "justify_content": null,
            "justify_items": null,
            "left": null,
            "margin": null,
            "max_height": null,
            "max_width": null,
            "min_height": null,
            "min_width": null,
            "object_fit": null,
            "object_position": null,
            "order": null,
            "overflow": null,
            "overflow_x": null,
            "overflow_y": null,
            "padding": null,
            "right": null,
            "top": null,
            "visibility": null,
            "width": null
          }
        },
        "6a20ef8c7b034f7fa225fc5fc6f5a2bb": {
          "model_module": "@jupyter-widgets/base",
          "model_module_version": "1.2.0",
          "model_name": "LayoutModel",
          "state": {
            "_model_module": "@jupyter-widgets/base",
            "_model_module_version": "1.2.0",
            "_model_name": "LayoutModel",
            "_view_count": null,
            "_view_module": "@jupyter-widgets/base",
            "_view_module_version": "1.2.0",
            "_view_name": "LayoutView",
            "align_content": null,
            "align_items": null,
            "align_self": null,
            "border": null,
            "bottom": null,
            "display": null,
            "flex": null,
            "flex_flow": null,
            "grid_area": null,
            "grid_auto_columns": null,
            "grid_auto_flow": null,
            "grid_auto_rows": null,
            "grid_column": null,
            "grid_gap": null,
            "grid_row": null,
            "grid_template_areas": null,
            "grid_template_columns": null,
            "grid_template_rows": null,
            "height": null,
            "justify_content": null,
            "justify_items": null,
            "left": null,
            "margin": null,
            "max_height": null,
            "max_width": null,
            "min_height": null,
            "min_width": null,
            "object_fit": null,
            "object_position": null,
            "order": null,
            "overflow": null,
            "overflow_x": null,
            "overflow_y": null,
            "padding": null,
            "right": null,
            "top": null,
            "visibility": null,
            "width": null
          }
        },
        "6e01c4ead1b241d0b03bf2e350cfe522": {
          "model_module": "@jupyter-widgets/base",
          "model_module_version": "1.2.0",
          "model_name": "LayoutModel",
          "state": {
            "_model_module": "@jupyter-widgets/base",
            "_model_module_version": "1.2.0",
            "_model_name": "LayoutModel",
            "_view_count": null,
            "_view_module": "@jupyter-widgets/base",
            "_view_module_version": "1.2.0",
            "_view_name": "LayoutView",
            "align_content": null,
            "align_items": null,
            "align_self": null,
            "border": null,
            "bottom": null,
            "display": null,
            "flex": null,
            "flex_flow": null,
            "grid_area": null,
            "grid_auto_columns": null,
            "grid_auto_flow": null,
            "grid_auto_rows": null,
            "grid_column": null,
            "grid_gap": null,
            "grid_row": null,
            "grid_template_areas": null,
            "grid_template_columns": null,
            "grid_template_rows": null,
            "height": null,
            "justify_content": null,
            "justify_items": null,
            "left": null,
            "margin": null,
            "max_height": null,
            "max_width": null,
            "min_height": null,
            "min_width": null,
            "object_fit": null,
            "object_position": null,
            "order": null,
            "overflow": null,
            "overflow_x": null,
            "overflow_y": null,
            "padding": null,
            "right": null,
            "top": null,
            "visibility": null,
            "width": null
          }
        },
        "715bbc89ef9c42b4a279b274f7101483": {
          "model_module": "@jupyter-widgets/controls",
          "model_module_version": "1.5.0",
          "model_name": "HBoxModel",
          "state": {
            "_dom_classes": [],
            "_model_module": "@jupyter-widgets/controls",
            "_model_module_version": "1.5.0",
            "_model_name": "HBoxModel",
            "_view_count": null,
            "_view_module": "@jupyter-widgets/controls",
            "_view_module_version": "1.5.0",
            "_view_name": "HBoxView",
            "box_style": "",
            "children": [
              "IPY_MODEL_05abb9c7bb7f4af3ba5ce22c3c5b0fd0",
              "IPY_MODEL_d9ae54a2ee0d468ba2af602bd5720b3b",
              "IPY_MODEL_26e3d25f03604ae6bc7678d35e2a4cc9"
            ],
            "layout": "IPY_MODEL_0435ad3120964f43ab41985943def046"
          }
        },
        "8b7f32cea2ca4f3f84769a4ab088b8fc": {
          "model_module": "@jupyter-widgets/controls",
          "model_module_version": "1.5.0",
          "model_name": "DescriptionStyleModel",
          "state": {
            "_model_module": "@jupyter-widgets/controls",
            "_model_module_version": "1.5.0",
            "_model_name": "DescriptionStyleModel",
            "_view_count": null,
            "_view_module": "@jupyter-widgets/base",
            "_view_module_version": "1.2.0",
            "_view_name": "StyleView",
            "description_width": ""
          }
        },
        "8c0d696b49734f03b25afcc9f7874d7f": {
          "model_module": "@jupyter-widgets/controls",
          "model_module_version": "1.5.0",
          "model_name": "HTMLModel",
          "state": {
            "_dom_classes": [],
            "_model_module": "@jupyter-widgets/controls",
            "_model_module_version": "1.5.0",
            "_model_name": "HTMLModel",
            "_view_count": null,
            "_view_module": "@jupyter-widgets/controls",
            "_view_module_version": "1.5.0",
            "_view_name": "HTMLView",
            "description": "",
            "description_tooltip": null,
            "layout": "IPY_MODEL_1c64a6990861405eb568a4edef6f54bd",
            "placeholder": "​",
            "style": "IPY_MODEL_13b0ce2bb99b47169bcb62dbe0df086a",
            "value": "model.safetensors: 100%"
          }
        },
        "9fdde3a5a8b64fcbb5a093560707838c": {
          "model_module": "@jupyter-widgets/controls",
          "model_module_version": "1.5.0",
          "model_name": "ProgressStyleModel",
          "state": {
            "_model_module": "@jupyter-widgets/controls",
            "_model_module_version": "1.5.0",
            "_model_name": "ProgressStyleModel",
            "_view_count": null,
            "_view_module": "@jupyter-widgets/base",
            "_view_module_version": "1.2.0",
            "_view_name": "StyleView",
            "bar_color": null,
            "description_width": ""
          }
        },
        "b74852b27be9413fab7ef1dcd9d7f502": {
          "model_module": "@jupyter-widgets/controls",
          "model_module_version": "1.5.0",
          "model_name": "HBoxModel",
          "state": {
            "_dom_classes": [],
            "_model_module": "@jupyter-widgets/controls",
            "_model_module_version": "1.5.0",
            "_model_name": "HBoxModel",
            "_view_count": null,
            "_view_module": "@jupyter-widgets/controls",
            "_view_module_version": "1.5.0",
            "_view_name": "HBoxView",
            "box_style": "",
            "children": [
              "IPY_MODEL_8c0d696b49734f03b25afcc9f7874d7f",
              "IPY_MODEL_f86a25aa87374d5185b0ca1905ab9fea",
              "IPY_MODEL_4b4c6a8d01f9486e976a37d92b14e31d"
            ],
            "layout": "IPY_MODEL_6e01c4ead1b241d0b03bf2e350cfe522"
          }
        },
        "b87f6c3680734b688878272f2a835e85": {
          "model_module": "@jupyter-widgets/controls",
          "model_module_version": "1.5.0",
          "model_name": "DescriptionStyleModel",
          "state": {
            "_model_module": "@jupyter-widgets/controls",
            "_model_module_version": "1.5.0",
            "_model_name": "DescriptionStyleModel",
            "_view_count": null,
            "_view_module": "@jupyter-widgets/base",
            "_view_module_version": "1.2.0",
            "_view_name": "StyleView",
            "description_width": ""
          }
        },
        "d401879fa05949a8b23ba532b16ffe73": {
          "model_module": "@jupyter-widgets/base",
          "model_module_version": "1.2.0",
          "model_name": "LayoutModel",
          "state": {
            "_model_module": "@jupyter-widgets/base",
            "_model_module_version": "1.2.0",
            "_model_name": "LayoutModel",
            "_view_count": null,
            "_view_module": "@jupyter-widgets/base",
            "_view_module_version": "1.2.0",
            "_view_name": "LayoutView",
            "align_content": null,
            "align_items": null,
            "align_self": null,
            "border": null,
            "bottom": null,
            "display": null,
            "flex": null,
            "flex_flow": null,
            "grid_area": null,
            "grid_auto_columns": null,
            "grid_auto_flow": null,
            "grid_auto_rows": null,
            "grid_column": null,
            "grid_gap": null,
            "grid_row": null,
            "grid_template_areas": null,
            "grid_template_columns": null,
            "grid_template_rows": null,
            "height": null,
            "justify_content": null,
            "justify_items": null,
            "left": null,
            "margin": null,
            "max_height": null,
            "max_width": null,
            "min_height": null,
            "min_width": null,
            "object_fit": null,
            "object_position": null,
            "order": null,
            "overflow": null,
            "overflow_x": null,
            "overflow_y": null,
            "padding": null,
            "right": null,
            "top": null,
            "visibility": null,
            "width": null
          }
        },
        "d9ae54a2ee0d468ba2af602bd5720b3b": {
          "model_module": "@jupyter-widgets/controls",
          "model_module_version": "1.5.0",
          "model_name": "FloatProgressModel",
          "state": {
            "_dom_classes": [],
            "_model_module": "@jupyter-widgets/controls",
            "_model_module_version": "1.5.0",
            "_model_name": "FloatProgressModel",
            "_view_count": null,
            "_view_module": "@jupyter-widgets/controls",
            "_view_module_version": "1.5.0",
            "_view_name": "ProgressView",
            "bar_style": "success",
            "description": "",
            "description_tooltip": null,
            "layout": "IPY_MODEL_42abb48451b7419dbad79c951faacdc4",
            "max": 1596,
            "min": 0,
            "orientation": "horizontal",
            "style": "IPY_MODEL_2029852e4f7245dfa5e0b8e29ebbe52b",
            "value": 1596
          }
        },
        "f86a25aa87374d5185b0ca1905ab9fea": {
          "model_module": "@jupyter-widgets/controls",
          "model_module_version": "1.5.0",
          "model_name": "FloatProgressModel",
          "state": {
            "_dom_classes": [],
            "_model_module": "@jupyter-widgets/controls",
            "_model_module_version": "1.5.0",
            "_model_name": "FloatProgressModel",
            "_view_count": null,
            "_view_module": "@jupyter-widgets/controls",
            "_view_module_version": "1.5.0",
            "_view_name": "ProgressView",
            "bar_style": "success",
            "description": "",
            "description_tooltip": null,
            "layout": "IPY_MODEL_670608282a8447a9b0108c34aeb32dc8",
            "max": 377607901,
            "min": 0,
            "orientation": "horizontal",
            "style": "IPY_MODEL_9fdde3a5a8b64fcbb5a093560707838c",
            "value": 377607901
          }
        }
      }
    }
  },
  "nbformat": 4,
  "nbformat_minor": 0
}
