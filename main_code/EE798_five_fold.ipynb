{
  "cells": [
    {
      "cell_type": "code",
      "execution_count": null,
      "metadata": {
        "colab": {
          "base_uri": "https://localhost:8080/"
        },
        "id": "bvt8Q-emlFbM",
        "outputId": "1128ef67-de40-448f-c7c1-65aa952a759c"
      },
      "outputs": [],
      "source": [
        "# Install required libraries\n",
        "!pip install transformers datasets gdown"
      ]
    },
    {
      "cell_type": "code",
      "execution_count": null,
      "metadata": {
        "colab": {
          "base_uri": "https://localhost:8080/"
        },
        "id": "2USE8StklUhV",
        "outputId": "17ba14a4-efb8-4712-a11d-2b29f813bb48"
      },
      "outputs": [],
      "source": [
        "# Clone your GitHub repository for the emotion recognition project\n",
        "!git clone https://github.com/Vincent-ZHQ/CA-MSER.git\n",
        "\n",
        "# Change directory to the cloned repository\n",
        "!cd CA-MSER"
      ]
    },
    {
      "cell_type": "code",
      "execution_count": null,
      "metadata": {},
      "outputs": [],
      "source": [
        "!pip install rust\n",
        "!pip install tokenizers"
      ]
    },
    {
      "cell_type": "code",
      "execution_count": null,
      "metadata": {},
      "outputs": [],
      "source": [
        "!pip install --upgrade pip setuptools wheel"
      ]
    },
    {
      "cell_type": "code",
      "execution_count": null,
      "metadata": {},
      "outputs": [],
      "source": [
        "!pip install setuptools-rust"
      ]
    },
    {
      "cell_type": "code",
      "execution_count": null,
      "metadata": {},
      "outputs": [],
      "source": [
        "!pip install tokenizers"
      ]
    },
    {
      "cell_type": "code",
      "execution_count": null,
      "metadata": {},
      "outputs": [],
      "source": [
        "pip install transformers  # Change the version as needed"
      ]
    },
    {
      "cell_type": "code",
      "execution_count": null,
      "metadata": {},
      "outputs": [],
      "source": [
        "!pip install torch"
      ]
    },
    {
      "cell_type": "code",
      "execution_count": null,
      "metadata": {},
      "outputs": [],
      "source": [
        "pip install transformers"
      ]
    },
    {
      "cell_type": "code",
      "execution_count": 1,
      "metadata": {
        "colab": {
          "base_uri": "https://localhost:8080/",
          "height": 455,
          "referenced_widgets": [
            "2a62c380db934f7b8c6a31ade6dcd3bc",
            "d2d9de12ce534770907608fe2ce9caa9",
            "77f1244380a24cd29350ec497c291696",
            "6cbdc962e1cd45ccb7f74c032ae6bdae",
            "64e0915887e0400999e443a580640c6e",
            "60f4958d33dc4d4bbfe17f85e6d17f3d",
            "25ba5d53310e4531b1fd0579d4429113",
            "829043af6cc249658777dfb66eaffc39",
            "35033ea1130440358380b65ab1d45ca9",
            "0b47278029ec432abe6f950f35892b65",
            "6f905d853e064123a50fe98efc5d8729",
            "fbaf0e72efa3450abd6bb203f5145eb4",
            "81d0c4581cfe4eefaafef592abf720dd",
            "d9848a8b79b34a5d9ef62c69f7e43fa7",
            "c343b9a4114c4d5a938acd74a8777f39",
            "d673b2a47f86445681f1df568417f7ab",
            "411b6f6e7f83483d8cf76b22c6867cc2",
            "2fad49141f144a1d9a6993592bb8414d",
            "7c4e23bc137d4fc6917ebf1d34336140",
            "673addb7c17a42ef891860984d73ca27",
            "2c976e5f2add4c6ba5c10f0378e0425e",
            "e583f978ce8f490da600ec13a80e5b21",
            "5bdff1f98e43400fa8f60d0123e7c726",
            "29501274fa39483eb0500f39f07ce5dc",
            "00dd397f8ea24fd5b55071311c20c673",
            "31cf4e81ec4d405bad85024ab4c8ccc6",
            "c20c0131eb0b4d57a07d633f522df996",
            "00024872537047e192d3a9aa01813875",
            "2a567a7111c6493abb5bca46b8e1955e",
            "376e511348bc4da5a18ea71637fc1cdc",
            "035919e1cbdd401b951f4bf9a0f9a00c",
            "888062fba8314311a405eb3afa38cb25",
            "b5bcdf2661ed4c2e9d87c5c012189239",
            "c831aa0fcbea45828e1cde04906e2b38",
            "08c81ebecc9c4441b11217c6f742eab1",
            "3a4d151c4f5e40008fd524938b8f032d",
            "ca93f6a2327d47208e40a4d55a098831",
            "ef8e5971c36f4d73b83fd594038ef55f",
            "268c967dd85c4c81af7c4a6ccda8d8d3",
            "7c1695a5dc8548238f8d02015af14b83",
            "d2507ded68b44cfdb876423594291601",
            "639d112736604fe6856f5faefce38350",
            "70685b77f9b4445684a9ad1a8a3abfb7",
            "9a28e4c887a84853a0ab27731d873095",
            "8944ba72ddec4453abc40feab86e759b",
            "f7269c49c3944537a39332ee7a1b1d92",
            "9c83bc587a8b449e86fa99c1e0a5746b",
            "cd8d6593df724ce1a3c40368cd5e70c7",
            "e66007b11f2a487b9d0b5ba1b5810b9c",
            "048cc9f9a6a640b98a1785e76d041507",
            "69c82bbe1cde4cfb9233a0058b0e942b",
            "f4feffce429d498e94e07c599b1e7365",
            "49e3ade2c5de4d4cb4161ee926c3d867",
            "58d42eb7649040ec9b663a64ebe89225",
            "9656b1b03c69438caeca7d1f9f692a4a",
            "c892ddbda7ea496cb6b8f3f43f7bbcab",
            "96f68182acbe4e9ab488ff76dc737f88",
            "e542795a8b30453389aad9ccc743b8f4",
            "fbd547dfb46947b0b49e6c6f4b5daa0d",
            "6fb4fb4699cd444d97af4f240e639d51",
            "8764e39f8493459ab9fbb107d0ea8712",
            "1d2a7bfa8427406e9bb8e93a964f3d26",
            "558bef6ce369447c9d01f8262f292aa7",
            "3a72b054f5ff43e9b58d33a6f0ae79d6",
            "0cd2f97dd1c34ec9a388ce6bc0be1333",
            "aeb42543fb7741a28058cb8b53f169ae"
          ]
        },
        "id": "7m21uAoPlXAM",
        "outputId": "3352aa7b-c809-4196-fe5c-d782825dd191"
      },
      "outputs": [],
      "source": [
        "# Download Wav2Vec2.0 pretrained model from Hugging Face\n",
        "from transformers import Wav2Vec2Model"
      ]
    },
    {
      "cell_type": "code",
      "execution_count": null,
      "metadata": {
        "colab": {
          "base_uri": "https://localhost:8080/"
        },
        "id": "XfOjl5uKloM2",
        "outputId": "ab00fa35-4a06-4e13-df95-27a6c1db1091"
      },
      "outputs": [],
      "source": [
        "!pip install imbalanced-learn\n",
        "!pip install torch torchvision torchaudio --index-url https://download.pytorch.org/whl/cu118"
      ]
    },
    {
      "cell_type": "code",
      "execution_count": 1,
      "metadata": {
        "colab": {
          "base_uri": "https://localhost:8080/"
        },
        "id": "MfGVa_WIlqiW",
        "outputId": "088d7dbd-17b7-41da-b13d-3575bd0ac461"
      },
      "outputs": [
        {
          "name": "stdout",
          "output_type": "stream",
          "text": [
            "Is CUDA available: True\n",
            "CUDA version: 11.8\n"
          ]
        }
      ],
      "source": [
        "import torch\n",
        "print(\"Is CUDA available:\", torch.cuda.is_available())\n",
        "print(\"CUDA version:\", torch.version.cuda)\n",
        "features_file = '/content/drive/MyDrive/path/to/reduced_file.pkl'"
      ]
    },
    {
      "cell_type": "code",
      "execution_count": 2,
      "metadata": {
        "colab": {
          "base_uri": "https://localhost:8080/",
          "height": 1000
        },
        "id": "7VzX4HvcmktE",
        "outputId": "f482141a-6c6d-4a53-c1c3-3b666f78e7b4"
      },
      "outputs": [
        {
          "name": "stdout",
          "output_type": "stream",
          "text": [
            "****************************************\n",
            "\n",
            "PARAMETERS:\n",
            "\n",
            "****************************************\n",
            "\n",
            "\n",
            "       ser_task: SLM\n",
            "     repeat_idx: 0\n",
            "         val_id: 1M\n",
            "        test_id: 1F\n",
            "     num_epochs: 50\n",
            "     early_stop: 10\n",
            "     batch_size: 32\n",
            "             lr: 1e-05\n",
            "    random_seed: 111\n",
            "        use_gpu: 1\n",
            "        gpu_ids: ['0']\n",
            "     save_label: 2024-10-20-15-22\n",
            "   oversampling: False\n",
            "     pretrained: True\n",
            "****************************************\n",
            "\n",
            "\n",
            "\n",
            "Dataset normalized with minmax scaler\n",
            "\tRange before normalization: [-80.0, 3.8146973e-06]\n",
            "\tRange after  normalization: [0.0, 1.0]\n",
            "\n",
            "<<DATASET>>\n",
            "\n",
            "Val. speaker id : 1M\n",
            "Test speaker id : 1F\n",
            "Train data      : (8778, 1, 200, 300)\n",
            "Train labels    : (8778,)\n",
            "Eval. data      : (1187, 1, 200, 300)\n",
            "Eval. label     : (557,)\n",
            "Eval. seg labels: (1187,)\n",
            "Eval. num seg   : (557,)\n",
            "Test data       : (1037, 1, 200, 300)\n",
            "Test label      : (528,)\n",
            "Test seg labels : (1037,)\n",
            "Test num seg    : (528,)\n",
            "\n",
            "\n",
            "pytorch version:  2.1.1+cu118\n",
            "cuda version:  11.8\n",
            "cudnn version:  8700\n",
            "gpu name:  NVIDIA GeForce RTX 4080\n",
            "gpu index:  0\n"
          ]
        },
        {
          "name": "stderr",
          "output_type": "stream",
          "text": [
            "/home/stud1/.local/lib/python3.10/site-packages/torchvision/models/_utils.py:208: UserWarning: The parameter 'pretrained' is deprecated since 0.13 and may be removed in the future, please use 'weights' instead.\n",
            "  warnings.warn(\n",
            "/home/stud1/.local/lib/python3.10/site-packages/torchvision/models/_utils.py:223: UserWarning: Arguments other than a weight enum or `None` for 'weights' are deprecated since 0.13 and may be removed in the future. The current behavior is equivalent to passing `weights=AlexNet_Weights.IMAGENET1K_V1`. You can also use `weights=AlexNet_Weights.DEFAULT` to get the most up-to-date weights.\n",
            "  warnings.warn(msg)\n"
          ]
        },
        {
          "name": "stdout",
          "output_type": "stream",
          "text": [
            "\n",
            "<< SER AlexNet Finetuning model initialized >>\n",
            "\n"
          ]
        },
        {
          "name": "stderr",
          "output_type": "stream",
          "text": [
            "/home/stud1/.local/lib/python3.10/site-packages/huggingface_hub/file_download.py:1142: FutureWarning: `resume_download` is deprecated and will be removed in version 1.0.0. Downloads always resume when possible. If you want to force a new download, use `force_download=True`.\n",
            "  warnings.warn(\n",
            "Some weights of Wav2Vec2Model were not initialized from the model checkpoint at facebook/wav2vec2-base-960h and are newly initialized: ['wav2vec2.encoder.pos_conv_embed.conv.parametrizations.weight.original1', 'wav2vec2.encoder.pos_conv_embed.conv.parametrizations.weight.original0', 'wav2vec2.masked_spec_embed']\n",
            "You should probably TRAIN this model on a down-stream task to be able to use it for predictions and inference.\n"
          ]
        },
        {
          "name": "stdout",
          "output_type": "stream",
          "text": [
            "Ser_Model(\n",
            "  (alexnet_model): SER_AlexNet(\n",
            "    (features): Sequential(\n",
            "      (0): Conv2d(3, 64, kernel_size=(11, 11), stride=(4, 4), padding=(2, 2))\n",
            "      (1): ReLU(inplace=True)\n",
            "      (2): MaxPool2d(kernel_size=3, stride=2, padding=0, dilation=1, ceil_mode=False)\n",
            "      (3): Conv2d(64, 192, kernel_size=(5, 5), stride=(1, 1), padding=(2, 2))\n",
            "      (4): ReLU(inplace=True)\n",
            "      (5): MaxPool2d(kernel_size=3, stride=2, padding=0, dilation=1, ceil_mode=False)\n",
            "      (6): Conv2d(192, 384, kernel_size=(3, 3), stride=(1, 1), padding=(1, 1))\n",
            "      (7): ReLU(inplace=True)\n",
            "      (8): Conv2d(384, 256, kernel_size=(3, 3), stride=(1, 1), padding=(1, 1))\n",
            "      (9): ReLU(inplace=True)\n",
            "      (10): Conv2d(256, 256, kernel_size=(3, 3), stride=(1, 1), padding=(1, 1))\n",
            "      (11): ReLU(inplace=True)\n",
            "      (12): MaxPool2d(kernel_size=3, stride=2, padding=0, dilation=1, ceil_mode=False)\n",
            "    )\n",
            "    (avgpool): AdaptiveAvgPool2d(output_size=(6, 6))\n",
            "    (classifier): Sequential(\n",
            "      (0): Dropout(p=0.5, inplace=False)\n",
            "      (1): Linear(in_features=9216, out_features=4096, bias=True)\n",
            "      (2): ReLU(inplace=True)\n",
            "      (3): Dropout(p=0.5, inplace=False)\n",
            "      (4): Linear(in_features=4096, out_features=4096, bias=True)\n",
            "      (5): ReLU(inplace=True)\n",
            "      (6): Linear(in_features=4096, out_features=4, bias=True)\n",
            "    )\n",
            "  )\n",
            "  (post_spec_dropout): Dropout(p=0.1, inplace=False)\n",
            "  (post_spec_layer): Linear(in_features=9216, out_features=128, bias=True)\n",
            "  (lstm_mfcc): LSTM(40, 256, num_layers=2, batch_first=True, dropout=0.5, bidirectional=True)\n",
            "  (post_mfcc_dropout): Dropout(p=0.1, inplace=False)\n",
            "  (post_mfcc_layer): Linear(in_features=153600, out_features=128, bias=True)\n",
            "  (post_spec_mfcc_att_dropout): Dropout(p=0.1, inplace=False)\n",
            "  (post_spec_mfcc_att_layer): Linear(in_features=256, out_features=149, bias=True)\n",
            "  (wav2vec2_model): Wav2Vec2Model(\n",
            "    (feature_extractor): Wav2Vec2FeatureEncoder(\n",
            "      (conv_layers): ModuleList(\n",
            "        (0): Wav2Vec2GroupNormConvLayer(\n",
            "          (conv): Conv1d(1, 512, kernel_size=(10,), stride=(5,), bias=False)\n",
            "          (activation): GELUActivation()\n",
            "          (layer_norm): GroupNorm(512, 512, eps=1e-05, affine=True)\n",
            "        )\n",
            "        (1-4): 4 x Wav2Vec2NoLayerNormConvLayer(\n",
            "          (conv): Conv1d(512, 512, kernel_size=(3,), stride=(2,), bias=False)\n",
            "          (activation): GELUActivation()\n",
            "        )\n",
            "        (5-6): 2 x Wav2Vec2NoLayerNormConvLayer(\n",
            "          (conv): Conv1d(512, 512, kernel_size=(2,), stride=(2,), bias=False)\n",
            "          (activation): GELUActivation()\n",
            "        )\n",
            "      )\n",
            "    )\n",
            "    (feature_projection): Wav2Vec2FeatureProjection(\n",
            "      (layer_norm): LayerNorm((512,), eps=1e-05, elementwise_affine=True)\n",
            "      (projection): Linear(in_features=512, out_features=768, bias=True)\n",
            "      (dropout): Dropout(p=0.1, inplace=False)\n",
            "    )\n",
            "    (encoder): Wav2Vec2Encoder(\n",
            "      (pos_conv_embed): Wav2Vec2PositionalConvEmbedding(\n",
            "        (conv): ParametrizedConv1d(\n",
            "          768, 768, kernel_size=(128,), stride=(1,), padding=(64,), groups=16\n",
            "          (parametrizations): ModuleDict(\n",
            "            (weight): ParametrizationList(\n",
            "              (0): _WeightNorm()\n",
            "            )\n",
            "          )\n",
            "        )\n",
            "        (padding): Wav2Vec2SamePadLayer()\n",
            "        (activation): GELUActivation()\n",
            "      )\n",
            "      (layer_norm): LayerNorm((768,), eps=1e-05, elementwise_affine=True)\n",
            "      (dropout): Dropout(p=0.1, inplace=False)\n",
            "      (layers): ModuleList(\n",
            "        (0-11): 12 x Wav2Vec2EncoderLayer(\n",
            "          (attention): Wav2Vec2Attention(\n",
            "            (k_proj): Linear(in_features=768, out_features=768, bias=True)\n",
            "            (v_proj): Linear(in_features=768, out_features=768, bias=True)\n",
            "            (q_proj): Linear(in_features=768, out_features=768, bias=True)\n",
            "            (out_proj): Linear(in_features=768, out_features=768, bias=True)\n",
            "          )\n",
            "          (dropout): Dropout(p=0.1, inplace=False)\n",
            "          (layer_norm): LayerNorm((768,), eps=1e-05, elementwise_affine=True)\n",
            "          (feed_forward): Wav2Vec2FeedForward(\n",
            "            (intermediate_dropout): Dropout(p=0.1, inplace=False)\n",
            "            (intermediate_dense): Linear(in_features=768, out_features=3072, bias=True)\n",
            "            (intermediate_act_fn): GELUActivation()\n",
            "            (output_dense): Linear(in_features=3072, out_features=768, bias=True)\n",
            "            (output_dropout): Dropout(p=0.1, inplace=False)\n",
            "          )\n",
            "          (final_layer_norm): LayerNorm((768,), eps=1e-05, elementwise_affine=True)\n",
            "        )\n",
            "      )\n",
            "    )\n",
            "  )\n",
            "  (post_wav_dropout): Dropout(p=0.1, inplace=False)\n",
            "  (post_wav_layer): Linear(in_features=768, out_features=128, bias=True)\n",
            "  (post_att_dropout): Dropout(p=0.1, inplace=False)\n",
            "  (post_att_layer_1): Linear(in_features=384, out_features=128, bias=True)\n",
            "  (post_att_layer_2): Linear(in_features=128, out_features=128, bias=True)\n",
            "  (post_att_layer_3): Linear(in_features=128, out_features=4, bias=True)\n",
            ")\n",
            "Number of trainable parameters: 174622941\n",
            "\n",
            "\n",
            "Start Training!!!\n"
          ]
        },
        {
          "name": "stderr",
          "output_type": "stream",
          "text": [
            "  0%|          | 0/275 [00:00<?, ?it/s]/home/stud1/anaconda3/envs/hss/lib/python3.10/site-packages/torch/nn/modules/conv.py:456: UserWarning: Applied workaround for CuDNN issue, install nvrtc.so (Triggered internally at ../aten/src/ATen/native/cudnn/Conv_v8.cpp:80.)\n",
            "  return F.conv2d(input, weight, bias, self.stride,\n",
            "100%|██████████| 275/275 [01:05<00:00,  4.23it/s]\n",
            "100%|██████████| 19/19 [00:02<00:00,  6.42it/s]\n"
          ]
        },
        {
          "name": "stdout",
          "output_type": "stream",
          "text": [
            " ang  sad  hap  neu\n",
            "  29    7   46    0\n",
            "   1  112    3    0\n",
            "   7   47   85    7\n",
            "   1  126   65   21\n",
            "True\n",
            "0 0\n",
            "Epoch 1  (lr = 1e-05)        Loss: 1.2563 - 1.1706 - WA: 44.34% <44.34%> - UA: 50.00% <50.00%>\n"
          ]
        },
        {
          "name": "stderr",
          "output_type": "stream",
          "text": [
            "100%|██████████| 275/275 [01:04<00:00,  4.24it/s]\n",
            "100%|██████████| 19/19 [00:02<00:00,  6.40it/s]\n"
          ]
        },
        {
          "name": "stdout",
          "output_type": "stream",
          "text": [
            " ang  sad  hap  neu\n",
            "  38    5   25   14\n",
            "   1  109    2    4\n",
            "   6   32   65   43\n",
            "   4   99   32   78\n",
            "True\n",
            "1 1\n",
            "Epoch 2  (lr = 1e-05)        Loss: 1.0828 - 1.0773 - WA: 52.06% <52.06%> - UA: 55.36% <55.36%>\n"
          ]
        },
        {
          "name": "stderr",
          "output_type": "stream",
          "text": [
            "100%|██████████| 275/275 [01:04<00:00,  4.25it/s]\n",
            "100%|██████████| 19/19 [00:02<00:00,  6.43it/s]\n"
          ]
        },
        {
          "name": "stdout",
          "output_type": "stream",
          "text": [
            " ang  sad  hap  neu\n",
            "  41    7   27    7\n",
            "   2  110    1    3\n",
            "   4   42   76   24\n",
            "   3  114   38   58\n",
            "1 2\n",
            "Epoch 3  (lr = 1e-05)        Loss: 1.0341 - 1.0733 - WA: 51.17% <52.06%> - UA: 56.03% <55.36%>\n"
          ]
        },
        {
          "name": "stderr",
          "output_type": "stream",
          "text": [
            "100%|██████████| 275/275 [01:05<00:00,  4.22it/s]\n",
            "100%|██████████| 19/19 [00:02<00:00,  6.41it/s]\n"
          ]
        },
        {
          "name": "stdout",
          "output_type": "stream",
          "text": [
            " ang  sad  hap  neu\n",
            "  54    7   16    5\n",
            "   3  111    0    2\n",
            "   5   34   77   30\n",
            "   7   95   28   83\n",
            "True\n",
            "3 3\n",
            "Epoch 4  (lr = 1e-05)        Loss: 0.9813 - 1.0044 - WA: 58.35% <58.35%> - UA: 63.31% <63.31%>\n"
          ]
        },
        {
          "name": "stderr",
          "output_type": "stream",
          "text": [
            "100%|██████████| 275/275 [01:04<00:00,  4.25it/s]\n",
            "100%|██████████| 19/19 [00:02<00:00,  6.40it/s]\n"
          ]
        },
        {
          "name": "stdout",
          "output_type": "stream",
          "text": [
            " ang  sad  hap  neu\n",
            "  56    7   10    9\n",
            "   3  109    0    4\n",
            "   5   32   72   37\n",
            "   6   92   19   96\n",
            "True\n",
            "4 4\n",
            "Epoch 5  (lr = 1e-05)        Loss: 0.9319 - 0.9782 - WA: 59.78% <59.78%> - UA: 64.16% <64.16%>\n"
          ]
        },
        {
          "name": "stderr",
          "output_type": "stream",
          "text": [
            "100%|██████████| 275/275 [01:05<00:00,  4.22it/s]\n",
            "100%|██████████| 19/19 [00:02<00:00,  6.41it/s]\n"
          ]
        },
        {
          "name": "stdout",
          "output_type": "stream",
          "text": [
            " ang  sad  hap  neu\n",
            "  59    6    6   11\n",
            "   3  107    0    6\n",
            "   5   31   68   42\n",
            "   6   87   11  109\n",
            "True\n",
            "5 5\n",
            "Epoch 6  (lr = 1e-05)        Loss: 0.8814 - 0.9691 - WA: 61.58% <61.58%> - UA: 65.49% <65.49%>\n"
          ]
        },
        {
          "name": "stderr",
          "output_type": "stream",
          "text": [
            "100%|██████████| 275/275 [01:04<00:00,  4.24it/s]\n",
            "100%|██████████| 19/19 [00:02<00:00,  6.42it/s]\n"
          ]
        },
        {
          "name": "stdout",
          "output_type": "stream",
          "text": [
            " ang  sad  hap  neu\n",
            "  59    8    9    6\n",
            "   3  107    0    6\n",
            "   3   33   84   26\n",
            "   6   99   19   89\n",
            "5 6\n",
            "Epoch 7  (lr = 1e-05)        Loss: 0.8307 - 0.9861 - WA: 60.86% <61.58%> - UA: 65.88% <65.49%>\n"
          ]
        },
        {
          "name": "stderr",
          "output_type": "stream",
          "text": [
            "100%|██████████| 275/275 [01:04<00:00,  4.24it/s]\n",
            "100%|██████████| 19/19 [00:02<00:00,  6.41it/s]\n"
          ]
        },
        {
          "name": "stdout",
          "output_type": "stream",
          "text": [
            " ang  sad  hap  neu\n",
            "  69    5    3    5\n",
            "   4  102    0   10\n",
            "  14   27   67   38\n",
            "  18   73   11  111\n",
            "True\n",
            "7 7\n",
            "Epoch 8  (lr = 1e-05)        Loss: 0.7766 - 0.9505 - WA: 62.66% <62.66%> - UA: 67.52% <67.52%>\n"
          ]
        },
        {
          "name": "stderr",
          "output_type": "stream",
          "text": [
            "100%|██████████| 275/275 [01:04<00:00,  4.24it/s]\n",
            "100%|██████████| 19/19 [00:02<00:00,  6.40it/s]\n"
          ]
        },
        {
          "name": "stdout",
          "output_type": "stream",
          "text": [
            " ang  sad  hap  neu\n",
            "  66    5    4    7\n",
            "   3  107    0    6\n",
            "   9   27   70   40\n",
            "   8   81   19  105\n",
            "7 8\n",
            "Epoch 9  (lr = 1e-05)        Loss: 0.7303 - 0.9526 - WA: 62.48% <62.66%> - UA: 67.49% <67.52%>\n"
          ]
        },
        {
          "name": "stderr",
          "output_type": "stream",
          "text": [
            "100%|██████████| 275/275 [01:04<00:00,  4.25it/s]\n",
            "100%|██████████| 19/19 [00:02<00:00,  6.39it/s]\n"
          ]
        },
        {
          "name": "stdout",
          "output_type": "stream",
          "text": [
            " ang  sad  hap  neu\n",
            "  66    5    4    7\n",
            "   4  103    2    7\n",
            "   8   24   81   33\n",
            "   9   57   21  126\n",
            "True\n",
            "9 9\n",
            "Epoch 10  (lr = 1e-05)        Loss: 0.6977 - 0.9374 - WA: 67.50% <67.50%> - UA: 70.98% <70.98%>\n"
          ]
        },
        {
          "name": "stderr",
          "output_type": "stream",
          "text": [
            "100%|██████████| 275/275 [01:05<00:00,  4.21it/s]\n",
            "100%|██████████| 19/19 [00:02<00:00,  6.40it/s]\n"
          ]
        },
        {
          "name": "stdout",
          "output_type": "stream",
          "text": [
            " ang  sad  hap  neu\n",
            "  62    5    6    9\n",
            "   4  101    2    9\n",
            "   4   25   84   33\n",
            "   3   56   22  132\n",
            "True\n",
            "10 10\n",
            "Epoch 11  (lr = 1e-05)        Loss: 0.6535 - 0.9034 - WA: 68.04% <68.04%> - UA: 70.55% <70.55%>\n"
          ]
        },
        {
          "name": "stderr",
          "output_type": "stream",
          "text": [
            "100%|██████████| 275/275 [01:05<00:00,  4.22it/s]\n",
            "100%|██████████| 19/19 [00:02<00:00,  6.39it/s]\n"
          ]
        },
        {
          "name": "stdout",
          "output_type": "stream",
          "text": [
            " ang  sad  hap  neu\n",
            "  62    4    8    8\n",
            "   4  102    2    8\n",
            "   4   21   95   26\n",
            "   7   49   37  120\n",
            "True\n",
            "11 11\n",
            "Epoch 12  (lr = 1e-05)        Loss: 0.6130 - 0.9095 - WA: 68.04% <68.04%> - UA: 71.24% <71.24%>\n"
          ]
        },
        {
          "name": "stderr",
          "output_type": "stream",
          "text": [
            "100%|██████████| 275/275 [01:05<00:00,  4.23it/s]\n",
            "100%|██████████| 19/19 [00:02<00:00,  6.41it/s]\n"
          ]
        },
        {
          "name": "stdout",
          "output_type": "stream",
          "text": [
            " ang  sad  hap  neu\n",
            "  64    5    4    9\n",
            "   4  103    2    7\n",
            "   6   20   81   39\n",
            "   6   62   22  123\n",
            "11 12\n",
            "Epoch 13  (lr = 1e-05)        Loss: 0.5888 - 0.9020 - WA: 66.61% <68.04%> - UA: 70.02% <71.24%>\n"
          ]
        },
        {
          "name": "stderr",
          "output_type": "stream",
          "text": [
            "100%|██████████| 275/275 [01:04<00:00,  4.24it/s]\n",
            "100%|██████████| 19/19 [00:02<00:00,  6.40it/s]\n"
          ]
        },
        {
          "name": "stdout",
          "output_type": "stream",
          "text": [
            " ang  sad  hap  neu\n",
            "  54    5   15    8\n",
            "   4   99    6    7\n",
            "   2   19  103   22\n",
            "   2   47   54  110\n",
            "11 13\n",
            "Epoch 14  (lr = 1e-05)        Loss: 0.5544 - 0.9771 - WA: 65.71% <68.04%> - UA: 68.35% <71.24%>\n"
          ]
        },
        {
          "name": "stderr",
          "output_type": "stream",
          "text": [
            "100%|██████████| 275/275 [01:04<00:00,  4.25it/s]\n",
            "100%|██████████| 19/19 [00:02<00:00,  6.39it/s]\n"
          ]
        },
        {
          "name": "stdout",
          "output_type": "stream",
          "text": [
            " ang  sad  hap  neu\n",
            "  64    4    7    7\n",
            "   4  101    2    9\n",
            "   8   19   95   24\n",
            "   8   50   40  115\n",
            "11 14\n",
            "Epoch 15  (lr = 1e-05)        Loss: 0.5343 - 1.0373 - WA: 67.32% <68.04%> - UA: 71.04% <71.24%>\n"
          ]
        },
        {
          "name": "stderr",
          "output_type": "stream",
          "text": [
            "100%|██████████| 275/275 [01:04<00:00,  4.24it/s]\n",
            "100%|██████████| 19/19 [00:02<00:00,  6.42it/s]\n"
          ]
        },
        {
          "name": "stdout",
          "output_type": "stream",
          "text": [
            " ang  sad  hap  neu\n",
            "  59    5   10    8\n",
            "   3  105    4    4\n",
            "   1   23   93   29\n",
            "   3   76   36   98\n",
            "11 15\n",
            "Epoch 16  (lr = 1e-05)        Loss: 0.5043 - 1.0764 - WA: 63.73% <68.04%> - UA: 68.04% <71.24%>\n"
          ]
        },
        {
          "name": "stderr",
          "output_type": "stream",
          "text": [
            "100%|██████████| 275/275 [01:04<00:00,  4.25it/s]\n",
            "100%|██████████| 19/19 [00:02<00:00,  6.39it/s]\n"
          ]
        },
        {
          "name": "stdout",
          "output_type": "stream",
          "text": [
            " ang  sad  hap  neu\n",
            "  69    4    0    9\n",
            "   4  103    1    8\n",
            "  14   21   80   31\n",
            "  11   56   21  125\n",
            "True\n",
            "16 16\n",
            "Epoch 17  (lr = 1e-05)        Loss: 0.4794 - 1.1074 - WA: 67.68% <67.68%> - UA: 71.60% <71.60%>\n"
          ]
        },
        {
          "name": "stderr",
          "output_type": "stream",
          "text": [
            "100%|██████████| 275/275 [01:05<00:00,  4.22it/s]\n",
            "100%|██████████| 19/19 [00:02<00:00,  6.42it/s]\n"
          ]
        },
        {
          "name": "stdout",
          "output_type": "stream",
          "text": [
            " ang  sad  hap  neu\n",
            "  55    7    9   11\n",
            "   3  106    3    4\n",
            "   2   22   97   25\n",
            "   3   64   34  112\n",
            "16 17\n",
            "Epoch 18  (lr = 1e-05)        Loss: 0.4614 - 1.1281 - WA: 66.43% <67.68%> - UA: 69.37% <71.60%>\n"
          ]
        },
        {
          "name": "stderr",
          "output_type": "stream",
          "text": [
            "100%|██████████| 275/275 [01:05<00:00,  4.23it/s]\n",
            "100%|██████████| 19/19 [00:02<00:00,  6.40it/s]\n"
          ]
        },
        {
          "name": "stdout",
          "output_type": "stream",
          "text": [
            " ang  sad  hap  neu\n",
            "  67    4    6    5\n",
            "   4  104    3    5\n",
            "   8   22  100   16\n",
            "   7   69   42   95\n",
            "16 18\n",
            "Epoch 19  (lr = 1e-05)        Loss: 0.4369 - 1.0269 - WA: 65.71% <67.68%> - UA: 71.11% <71.60%>\n"
          ]
        },
        {
          "name": "stderr",
          "output_type": "stream",
          "text": [
            "100%|██████████| 275/275 [01:04<00:00,  4.26it/s]\n",
            "100%|██████████| 19/19 [00:02<00:00,  6.42it/s]\n"
          ]
        },
        {
          "name": "stdout",
          "output_type": "stream",
          "text": [
            " ang  sad  hap  neu\n",
            "  58    8   10    6\n",
            "   2  111    0    3\n",
            "   3   32   90   21\n",
            "   5   90   28   90\n",
            "16 19\n",
            "Epoch 20  (lr = 1e-05)        Loss: 0.4156 - 1.2277 - WA: 62.66% <67.68%> - UA: 67.58% <71.60%>\n"
          ]
        },
        {
          "name": "stderr",
          "output_type": "stream",
          "text": [
            "100%|██████████| 275/275 [01:05<00:00,  4.20it/s]\n",
            "100%|██████████| 19/19 [00:02<00:00,  6.40it/s]\n"
          ]
        },
        {
          "name": "stdout",
          "output_type": "stream",
          "text": [
            " ang  sad  hap  neu\n",
            "  61    4    7   10\n",
            "   3  100    1   12\n",
            "   2   18   95   31\n",
            "   4   46   26  137\n",
            "True\n",
            "20 20\n",
            "Epoch 21  (lr = 1e-05)        Loss: 0.3794 - 1.0323 - WA: 70.56% <70.56%> - UA: 72.50% <72.50%>\n"
          ]
        },
        {
          "name": "stderr",
          "output_type": "stream",
          "text": [
            "100%|██████████| 275/275 [01:04<00:00,  4.25it/s]\n",
            "100%|██████████| 19/19 [00:02<00:00,  6.42it/s]\n"
          ]
        },
        {
          "name": "stdout",
          "output_type": "stream",
          "text": [
            " ang  sad  hap  neu\n",
            "  64    4    4   10\n",
            "   3  104    2    7\n",
            "   5   17   89   35\n",
            "   6   49   22  136\n",
            "True\n",
            "21 21\n",
            "Epoch 22  (lr = 1e-05)        Loss: 0.3916 - 1.0178 - WA: 70.56% <70.56%> - UA: 73.13% <73.13%>\n"
          ]
        },
        {
          "name": "stderr",
          "output_type": "stream",
          "text": [
            "100%|██████████| 275/275 [01:04<00:00,  4.24it/s]\n",
            "100%|██████████| 19/19 [00:02<00:00,  6.42it/s]\n"
          ]
        },
        {
          "name": "stdout",
          "output_type": "stream",
          "text": [
            " ang  sad  hap  neu\n",
            "  61    4    9    8\n",
            "   3  102    3    8\n",
            "   3   18   99   26\n",
            "   5   45   27  136\n",
            "True\n",
            "22 22\n",
            "Epoch 23  (lr = 1e-05)        Loss: 0.3631 - 1.1040 - WA: 71.45% <71.45%> - UA: 73.49% <73.49%>\n"
          ]
        },
        {
          "name": "stderr",
          "output_type": "stream",
          "text": [
            "100%|██████████| 275/275 [01:04<00:00,  4.24it/s]\n",
            "100%|██████████| 19/19 [00:02<00:00,  6.40it/s]\n"
          ]
        },
        {
          "name": "stdout",
          "output_type": "stream",
          "text": [
            " ang  sad  hap  neu\n",
            "  62    4    9    7\n",
            "   4  101    3    8\n",
            "   4   16  104   22\n",
            "   7   49   42  115\n",
            "22 23\n",
            "Epoch 24  (lr = 1e-05)        Loss: 0.3348 - 1.0958 - WA: 68.58% <71.45%> - UA: 71.98% <73.49%>\n"
          ]
        },
        {
          "name": "stderr",
          "output_type": "stream",
          "text": [
            "100%|██████████| 275/275 [01:04<00:00,  4.24it/s]\n",
            "100%|██████████| 19/19 [00:02<00:00,  6.39it/s]\n"
          ]
        },
        {
          "name": "stdout",
          "output_type": "stream",
          "text": [
            " ang  sad  hap  neu\n",
            "  62    4    6   10\n",
            "   3   99    2   12\n",
            "   4   21   93   28\n",
            "   7   47   26  133\n",
            "22 24\n",
            "Epoch 25  (lr = 1e-05)        Loss: 0.3304 - 1.2066 - WA: 69.48% <71.45%> - UA: 71.77% <73.49%>\n"
          ]
        },
        {
          "name": "stderr",
          "output_type": "stream",
          "text": [
            "100%|██████████| 275/275 [01:04<00:00,  4.25it/s]\n",
            "100%|██████████| 19/19 [00:02<00:00,  6.40it/s]\n"
          ]
        },
        {
          "name": "stdout",
          "output_type": "stream",
          "text": [
            " ang  sad  hap  neu\n",
            "  68    4    2    8\n",
            "   3  106    0    7\n",
            "   6   26   84   30\n",
            "   7   62   27  117\n",
            "22 25\n",
            "Epoch 26  (lr = 1e-05)        Loss: 0.3182 - 1.2283 - WA: 67.32% <71.45%> - UA: 71.69% <73.49%>\n"
          ]
        },
        {
          "name": "stderr",
          "output_type": "stream",
          "text": [
            "100%|██████████| 275/275 [01:05<00:00,  4.22it/s]\n",
            "100%|██████████| 19/19 [00:02<00:00,  6.39it/s]\n"
          ]
        },
        {
          "name": "stdout",
          "output_type": "stream",
          "text": [
            " ang  sad  hap  neu\n",
            "  61    7   11    3\n",
            "   3  108    2    3\n",
            "   2   23  111   10\n",
            "   5   69   50   89\n",
            "22 26\n",
            "Epoch 27  (lr = 1e-05)        Loss: 0.2943 - 1.3746 - WA: 66.25% <71.45%> - UA: 71.33% <73.49%>\n"
          ]
        },
        {
          "name": "stderr",
          "output_type": "stream",
          "text": [
            "100%|██████████| 275/275 [01:05<00:00,  4.22it/s]\n",
            "100%|██████████| 19/19 [00:02<00:00,  6.39it/s]\n"
          ]
        },
        {
          "name": "stdout",
          "output_type": "stream",
          "text": [
            " ang  sad  hap  neu\n",
            "  62    3    7   10\n",
            "   3  100    2   11\n",
            "   6   16   92   32\n",
            "   5   47   30  131\n",
            "22 27\n",
            "Epoch 28  (lr = 1e-05)        Loss: 0.2833 - 1.1144 - WA: 69.12% <71.45%> - UA: 71.58% <73.49%>\n"
          ]
        },
        {
          "name": "stderr",
          "output_type": "stream",
          "text": [
            "100%|██████████| 275/275 [01:04<00:00,  4.23it/s]\n",
            "100%|██████████| 19/19 [00:02<00:00,  6.42it/s]\n"
          ]
        },
        {
          "name": "stdout",
          "output_type": "stream",
          "text": [
            " ang  sad  hap  neu\n",
            "  58    5   13    6\n",
            "   3  102    3    8\n",
            "   2   17  100   27\n",
            "   4   54   35  120\n",
            "22 28\n",
            "Epoch 29  (lr = 1e-05)        Loss: 0.2703 - 1.3922 - WA: 68.22% <71.45%> - UA: 70.87% <73.49%>\n"
          ]
        },
        {
          "name": "stderr",
          "output_type": "stream",
          "text": [
            "100%|██████████| 275/275 [01:05<00:00,  4.23it/s]\n",
            "100%|██████████| 19/19 [00:02<00:00,  6.39it/s]\n"
          ]
        },
        {
          "name": "stdout",
          "output_type": "stream",
          "text": [
            " ang  sad  hap  neu\n",
            "  62    2    6   12\n",
            "   3   82    6   25\n",
            "   3   10   93   40\n",
            "   3   17   23  170\n",
            "True\n",
            "29 29\n",
            "Epoch 30  (lr = 1e-05)        Loss: 0.2682 - 1.0822 - WA: 73.07% <73.07%> - UA: 72.45% <72.45%>\n"
          ]
        },
        {
          "name": "stderr",
          "output_type": "stream",
          "text": [
            "100%|██████████| 275/275 [01:05<00:00,  4.22it/s]\n",
            "100%|██████████| 19/19 [00:02<00:00,  6.41it/s]\n"
          ]
        },
        {
          "name": "stdout",
          "output_type": "stream",
          "text": [
            " ang  sad  hap  neu\n",
            "  69    3    3    7\n",
            "   4   98    3   11\n",
            "   8   17   82   39\n",
            "  10   35   26  142\n",
            "29 30\n",
            "Epoch 31  (lr = 1e-05)        Loss: 0.2636 - 1.2059 - WA: 70.20% <73.07%> - UA: 72.87% <72.45%>\n"
          ]
        },
        {
          "name": "stderr",
          "output_type": "stream",
          "text": [
            "100%|██████████| 275/275 [01:04<00:00,  4.24it/s]\n",
            "100%|██████████| 19/19 [00:02<00:00,  6.40it/s]\n"
          ]
        },
        {
          "name": "stdout",
          "output_type": "stream",
          "text": [
            " ang  sad  hap  neu\n",
            "  66    3    8    5\n",
            "   3  105    2    6\n",
            "   8   15  102   21\n",
            "   9   60   41  103\n",
            "29 31\n",
            "Epoch 32  (lr = 1e-05)        Loss: 0.2489 - 1.3398 - WA: 67.50% <73.07%> - UA: 72.31% <72.45%>\n"
          ]
        },
        {
          "name": "stderr",
          "output_type": "stream",
          "text": [
            "100%|██████████| 275/275 [01:04<00:00,  4.24it/s]\n",
            "100%|██████████| 19/19 [00:02<00:00,  6.41it/s]\n"
          ]
        },
        {
          "name": "stdout",
          "output_type": "stream",
          "text": [
            " ang  sad  hap  neu\n",
            "  59    3   13    7\n",
            "   3   86   11   16\n",
            "   1    7  116   22\n",
            "   3   29   59  122\n",
            "29 32\n",
            "Epoch 33  (lr = 1e-05)        Loss: 0.2307 - 1.3681 - WA: 68.76% <73.07%> - UA: 70.70% <72.45%>\n"
          ]
        },
        {
          "name": "stderr",
          "output_type": "stream",
          "text": [
            "100%|██████████| 275/275 [01:05<00:00,  4.22it/s]\n",
            "100%|██████████| 19/19 [00:02<00:00,  6.41it/s]\n"
          ]
        },
        {
          "name": "stdout",
          "output_type": "stream",
          "text": [
            " ang  sad  hap  neu\n",
            "  64    5    8    5\n",
            "   3   99    3   11\n",
            "   6   16  104   20\n",
            "   5   47   39  122\n",
            "29 33\n",
            "Epoch 34  (lr = 1e-05)        Loss: 0.2272 - 1.3875 - WA: 69.84% <73.07%> - UA: 72.98% <72.45%>\n"
          ]
        },
        {
          "name": "stderr",
          "output_type": "stream",
          "text": [
            "100%|██████████| 275/275 [01:05<00:00,  4.22it/s]\n",
            "100%|██████████| 19/19 [00:02<00:00,  6.36it/s]\n"
          ]
        },
        {
          "name": "stdout",
          "output_type": "stream",
          "text": [
            " ang  sad  hap  neu\n",
            "  65    4    9    4\n",
            "   3  105    3    5\n",
            "  10   18   95   23\n",
            "  10   58   37  108\n",
            "29 34\n",
            "Epoch 35  (lr = 1e-05)        Loss: 0.2210 - 1.4670 - WA: 66.97% <73.07%> - UA: 71.39% <72.45%>\n"
          ]
        },
        {
          "name": "stderr",
          "output_type": "stream",
          "text": [
            "100%|██████████| 275/275 [01:05<00:00,  4.22it/s]\n",
            "100%|██████████| 19/19 [00:02<00:00,  6.41it/s]\n"
          ]
        },
        {
          "name": "stdout",
          "output_type": "stream",
          "text": [
            " ang  sad  hap  neu\n",
            "  62    5   12    3\n",
            "   4  101    4    7\n",
            "   2   14  118   12\n",
            "   4   63   50   96\n",
            "29 35\n",
            "Epoch 36  (lr = 1e-05)        Loss: 0.2195 - 1.4816 - WA: 67.68% <73.07%> - UA: 72.14% <72.45%>\n"
          ]
        },
        {
          "name": "stderr",
          "output_type": "stream",
          "text": [
            "100%|██████████| 275/275 [01:04<00:00,  4.26it/s]\n",
            "100%|██████████| 19/19 [00:02<00:00,  6.40it/s]\n"
          ]
        },
        {
          "name": "stdout",
          "output_type": "stream",
          "text": [
            " ang  sad  hap  neu\n",
            "  66    3    8    5\n",
            "   3   92    5   16\n",
            "   2   10  110   24\n",
            "   6   34   42  131\n",
            "True\n",
            "36 36\n",
            "Epoch 37  (lr = 1e-05)        Loss: 0.2072 - 1.2337 - WA: 71.63% <71.63%> - UA: 74.16% <74.16%>\n"
          ]
        },
        {
          "name": "stderr",
          "output_type": "stream",
          "text": [
            "100%|██████████| 275/275 [01:05<00:00,  4.22it/s]\n",
            "100%|██████████| 19/19 [00:02<00:00,  6.40it/s]\n"
          ]
        },
        {
          "name": "stdout",
          "output_type": "stream",
          "text": [
            " ang  sad  hap  neu\n",
            "  65    5    7    5\n",
            "   3   99    5    9\n",
            "   4   19  100   23\n",
            "   6   61   42  104\n",
            "36 37\n",
            "Epoch 38  (lr = 1e-05)        Loss: 0.1822 - 1.6137 - WA: 66.07% <71.63%> - UA: 70.48% <74.16%>\n"
          ]
        },
        {
          "name": "stderr",
          "output_type": "stream",
          "text": [
            "100%|██████████| 275/275 [01:05<00:00,  4.23it/s]\n",
            "100%|██████████| 19/19 [00:02<00:00,  6.42it/s]\n"
          ]
        },
        {
          "name": "stdout",
          "output_type": "stream",
          "text": [
            " ang  sad  hap  neu\n",
            "  61    4   12    5\n",
            "   3   96    6   11\n",
            "   0   14  115   17\n",
            "   4   53   52  104\n",
            "36 38\n",
            "Epoch 39  (lr = 1e-05)        Loss: 0.1893 - 1.6521 - WA: 67.50% <71.63%> - UA: 71.19% <74.16%>\n"
          ]
        },
        {
          "name": "stderr",
          "output_type": "stream",
          "text": [
            "100%|██████████| 275/275 [01:04<00:00,  4.24it/s]\n",
            "100%|██████████| 19/19 [00:02<00:00,  6.41it/s]\n"
          ]
        },
        {
          "name": "stdout",
          "output_type": "stream",
          "text": [
            " ang  sad  hap  neu\n",
            "  62    4   12    4\n",
            "   4   97    6    9\n",
            "   1   11  121   13\n",
            "   4   39   63  107\n",
            "36 39\n",
            "Epoch 40  (lr = 1e-05)        Loss: 0.1739 - 1.6641 - WA: 69.48% <71.63%> - UA: 73.09% <74.16%>\n"
          ]
        },
        {
          "name": "stderr",
          "output_type": "stream",
          "text": [
            "100%|██████████| 275/275 [01:05<00:00,  4.22it/s]\n",
            "100%|██████████| 19/19 [00:02<00:00,  6.41it/s]\n"
          ]
        },
        {
          "name": "stdout",
          "output_type": "stream",
          "text": [
            " ang  sad  hap  neu\n",
            "  58    5   15    4\n",
            "   2   99    4   11\n",
            "   2   13  109   22\n",
            "   5   41   44  123\n",
            "36 40\n",
            "Epoch 41  (lr = 1e-05)        Loss: 0.1704 - 1.5148 - WA: 69.84% <71.63%> - UA: 72.12% <74.16%>\n"
          ]
        },
        {
          "name": "stderr",
          "output_type": "stream",
          "text": [
            "100%|██████████| 275/275 [01:05<00:00,  4.21it/s]\n",
            "100%|██████████| 19/19 [00:02<00:00,  6.38it/s]\n"
          ]
        },
        {
          "name": "stdout",
          "output_type": "stream",
          "text": [
            " ang  sad  hap  neu\n",
            "  66    3    7    6\n",
            "   3  105    3    5\n",
            "   7   17  101   21\n",
            "   9   62   37  105\n",
            "36 41\n",
            "Epoch 42  (lr = 1e-05)        Loss: 0.1733 - 1.5534 - WA: 67.68% <71.63%> - UA: 72.37% <74.16%>\n"
          ]
        },
        {
          "name": "stderr",
          "output_type": "stream",
          "text": [
            "100%|██████████| 275/275 [01:04<00:00,  4.25it/s]\n",
            "100%|██████████| 19/19 [00:02<00:00,  6.40it/s]\n"
          ]
        },
        {
          "name": "stdout",
          "output_type": "stream",
          "text": [
            " ang  sad  hap  neu\n",
            "  63    4    7    8\n",
            "   3  103    4    6\n",
            "   2   14  104   26\n",
            "   6   51   36  120\n",
            "36 42\n",
            "Epoch 43  (lr = 1e-05)        Loss: 0.1719 - 1.4473 - WA: 70.02% <71.63%> - UA: 73.30% <74.16%>\n"
          ]
        },
        {
          "name": "stderr",
          "output_type": "stream",
          "text": [
            "100%|██████████| 275/275 [01:05<00:00,  4.22it/s]\n",
            "100%|██████████| 19/19 [00:02<00:00,  6.40it/s]\n"
          ]
        },
        {
          "name": "stdout",
          "output_type": "stream",
          "text": [
            " ang  sad  hap  neu\n",
            "  64    3    9    6\n",
            "   4   99    5    8\n",
            "   3    9  120   14\n",
            "   6   48   49  110\n",
            "36 43\n",
            "Epoch 44  (lr = 1e-05)        Loss: 0.1637 - 1.4617 - WA: 70.56% <71.63%> - UA: 74.31% <74.16%>\n"
          ]
        },
        {
          "name": "stderr",
          "output_type": "stream",
          "text": [
            "100%|██████████| 275/275 [01:05<00:00,  4.22it/s]\n",
            "100%|██████████| 19/19 [00:02<00:00,  6.40it/s]\n"
          ]
        },
        {
          "name": "stdout",
          "output_type": "stream",
          "text": [
            " ang  sad  hap  neu\n",
            "  62    3   13    4\n",
            "   4  103    3    6\n",
            "   2   11  113   20\n",
            "   9   42   48  114\n",
            "36 44\n",
            "Epoch 45  (lr = 1e-05)        Loss: 0.1480 - 1.5265 - WA: 70.38% <71.63%> - UA: 73.83% <74.16%>\n"
          ]
        },
        {
          "name": "stderr",
          "output_type": "stream",
          "text": [
            "100%|██████████| 275/275 [01:04<00:00,  4.24it/s]\n",
            "100%|██████████| 19/19 [00:02<00:00,  6.40it/s]\n"
          ]
        },
        {
          "name": "stdout",
          "output_type": "stream",
          "text": [
            " ang  sad  hap  neu\n",
            "  65    4    7    6\n",
            "   4  106    1    5\n",
            "   3   14  100   29\n",
            "   5   48   31  129\n",
            "True\n",
            "45 45\n",
            "Epoch 46  (lr = 1e-05)        Loss: 0.1436 - 1.6582 - WA: 71.81% <71.81%> - UA: 74.93% <74.93%>\n"
          ]
        },
        {
          "name": "stderr",
          "output_type": "stream",
          "text": [
            "100%|██████████| 275/275 [01:05<00:00,  4.22it/s]\n",
            "100%|██████████| 19/19 [00:02<00:00,  6.41it/s]\n"
          ]
        },
        {
          "name": "stdout",
          "output_type": "stream",
          "text": [
            " ang  sad  hap  neu\n",
            "  67    3    3    9\n",
            "   4  103    1    8\n",
            "   7   16   87   36\n",
            "   8   47   23  135\n",
            "45 46\n",
            "Epoch 47  (lr = 1e-05)        Loss: 0.1406 - 1.4351 - WA: 70.38% <71.81%> - UA: 73.37% <74.93%>\n"
          ]
        },
        {
          "name": "stderr",
          "output_type": "stream",
          "text": [
            "100%|██████████| 275/275 [01:05<00:00,  4.21it/s]\n",
            "100%|██████████| 19/19 [00:02<00:00,  6.41it/s]\n"
          ]
        },
        {
          "name": "stdout",
          "output_type": "stream",
          "text": [
            " ang  sad  hap  neu\n",
            "  62    4   11    5\n",
            "   4  105    3    4\n",
            "   2   17  106   21\n",
            "   3   62   47  101\n",
            "45 47\n",
            "Epoch 48  (lr = 1e-05)        Loss: 0.1304 - 1.7357 - WA: 67.15% <71.81%> - UA: 71.54% <74.93%>\n"
          ]
        },
        {
          "name": "stderr",
          "output_type": "stream",
          "text": [
            "100%|██████████| 275/275 [01:05<00:00,  4.21it/s]\n",
            "100%|██████████| 19/19 [00:02<00:00,  6.40it/s]\n"
          ]
        },
        {
          "name": "stdout",
          "output_type": "stream",
          "text": [
            " ang  sad  hap  neu\n",
            "  61    6   11    4\n",
            "   3  102    5    6\n",
            "   2   15  109   20\n",
            "   5   67   39  102\n",
            "45 48\n",
            "Epoch 49  (lr = 1e-05)        Loss: 0.1320 - 1.7421 - WA: 67.15% <71.81%> - UA: 71.22% <74.93%>\n"
          ]
        },
        {
          "name": "stderr",
          "output_type": "stream",
          "text": [
            "100%|██████████| 275/275 [01:04<00:00,  4.24it/s]\n",
            "100%|██████████| 19/19 [00:02<00:00,  6.40it/s]\n"
          ]
        },
        {
          "name": "stdout",
          "output_type": "stream",
          "text": [
            " ang  sad  hap  neu\n",
            "  67    4    8    3\n",
            "   3  104    4    5\n",
            "   6   14  110   16\n",
            "  10   54   47  102\n",
            "45 49\n",
            "Epoch 50  (lr = 1e-05)        Loss: 0.1468 - 1.4947 - WA: 68.76% <71.81%> - UA: 73.65% <74.93%>\n"
          ]
        },
        {
          "name": "stderr",
          "output_type": "stream",
          "text": [
            "100%|██████████| 17/17 [00:02<00:00,  6.54it/s]\n"
          ]
        },
        {
          "name": "stdout",
          "output_type": "stream",
          "text": [
            " ang  sad  hap  neu\n",
            " 112    2    9   24\n",
            "   1   62    8    7\n",
            "  13    7   95   17\n",
            "   5   49   27   90\n",
            " ang  sad  hap  neu\n",
            " 112    2    9   24\n",
            "   1   62    8    7\n",
            "  13    7   95   17\n",
            "   5   49   27   90\n",
            "****************************************\n",
            "RESULTS ON TEST SET:\n",
            "Loss:1.9917\tWA: 67.99\tUA: 70.07\n",
            "Confusion matrix:\n",
            " ang  sad  hap  neu\n",
            " 112    2    9   24\n",
            "   1   62    8    7\n",
            "  13    7   95   17\n",
            "   5   49   27   90\n",
            "****************************************\n",
            "\n",
            "PARAMETERS:\n",
            "\n",
            "****************************************\n",
            "\n",
            "\n",
            "       ser_task: SLM\n",
            "     repeat_idx: 0\n",
            "         val_id: 2M\n",
            "        test_id: 2F\n",
            "     num_epochs: 50\n",
            "     early_stop: 10\n",
            "     batch_size: 32\n",
            "             lr: 1e-05\n",
            "    random_seed: 111\n",
            "        use_gpu: 1\n",
            "        gpu_ids: ['0']\n",
            "     save_label: 2024-10-20-15-22\n",
            "   oversampling: False\n",
            "     pretrained: True\n",
            "****************************************\n",
            "\n",
            "\n",
            "\n",
            "Dataset normalized with minmax scaler\n",
            "\tRange before normalization: [-80.0, 3.8146973e-06]\n",
            "\tRange after  normalization: [0.0, 1.0]\n",
            "\n",
            "<<DATASET>>\n",
            "\n",
            "Val. speaker id : 2M\n",
            "Test speaker id : 2F\n",
            "Train data      : (8924, 1, 200, 300)\n",
            "Train labels    : (8924,)\n",
            "Eval. data      : (1169, 1, 200, 300)\n",
            "Eval. label     : (542,)\n",
            "Eval. seg labels: (1169,)\n",
            "Eval. num seg   : (542,)\n",
            "Test data       : (909, 1, 200, 300)\n",
            "Test label      : (481,)\n",
            "Test seg labels : (909,)\n",
            "Test num seg    : (481,)\n",
            "\n",
            "\n",
            "pytorch version:  2.1.1+cu118\n",
            "cuda version:  11.8\n",
            "cudnn version:  8700\n",
            "gpu name:  NVIDIA GeForce RTX 4080\n",
            "gpu index:  0\n"
          ]
        },
        {
          "name": "stderr",
          "output_type": "stream",
          "text": [
            "/home/stud1/.local/lib/python3.10/site-packages/torchvision/models/_utils.py:208: UserWarning: The parameter 'pretrained' is deprecated since 0.13 and may be removed in the future, please use 'weights' instead.\n",
            "  warnings.warn(\n",
            "/home/stud1/.local/lib/python3.10/site-packages/torchvision/models/_utils.py:223: UserWarning: Arguments other than a weight enum or `None` for 'weights' are deprecated since 0.13 and may be removed in the future. The current behavior is equivalent to passing `weights=AlexNet_Weights.IMAGENET1K_V1`. You can also use `weights=AlexNet_Weights.DEFAULT` to get the most up-to-date weights.\n",
            "  warnings.warn(msg)\n"
          ]
        },
        {
          "name": "stdout",
          "output_type": "stream",
          "text": [
            "\n",
            "<< SER AlexNet Finetuning model initialized >>\n",
            "\n"
          ]
        },
        {
          "name": "stderr",
          "output_type": "stream",
          "text": [
            "/home/stud1/.local/lib/python3.10/site-packages/huggingface_hub/file_download.py:1142: FutureWarning: `resume_download` is deprecated and will be removed in version 1.0.0. Downloads always resume when possible. If you want to force a new download, use `force_download=True`.\n",
            "  warnings.warn(\n",
            "Some weights of Wav2Vec2Model were not initialized from the model checkpoint at facebook/wav2vec2-base-960h and are newly initialized: ['wav2vec2.encoder.pos_conv_embed.conv.parametrizations.weight.original1', 'wav2vec2.encoder.pos_conv_embed.conv.parametrizations.weight.original0', 'wav2vec2.masked_spec_embed']\n",
            "You should probably TRAIN this model on a down-stream task to be able to use it for predictions and inference.\n"
          ]
        },
        {
          "name": "stdout",
          "output_type": "stream",
          "text": [
            "Ser_Model(\n",
            "  (alexnet_model): SER_AlexNet(\n",
            "    (features): Sequential(\n",
            "      (0): Conv2d(3, 64, kernel_size=(11, 11), stride=(4, 4), padding=(2, 2))\n",
            "      (1): ReLU(inplace=True)\n",
            "      (2): MaxPool2d(kernel_size=3, stride=2, padding=0, dilation=1, ceil_mode=False)\n",
            "      (3): Conv2d(64, 192, kernel_size=(5, 5), stride=(1, 1), padding=(2, 2))\n",
            "      (4): ReLU(inplace=True)\n",
            "      (5): MaxPool2d(kernel_size=3, stride=2, padding=0, dilation=1, ceil_mode=False)\n",
            "      (6): Conv2d(192, 384, kernel_size=(3, 3), stride=(1, 1), padding=(1, 1))\n",
            "      (7): ReLU(inplace=True)\n",
            "      (8): Conv2d(384, 256, kernel_size=(3, 3), stride=(1, 1), padding=(1, 1))\n",
            "      (9): ReLU(inplace=True)\n",
            "      (10): Conv2d(256, 256, kernel_size=(3, 3), stride=(1, 1), padding=(1, 1))\n",
            "      (11): ReLU(inplace=True)\n",
            "      (12): MaxPool2d(kernel_size=3, stride=2, padding=0, dilation=1, ceil_mode=False)\n",
            "    )\n",
            "    (avgpool): AdaptiveAvgPool2d(output_size=(6, 6))\n",
            "    (classifier): Sequential(\n",
            "      (0): Dropout(p=0.5, inplace=False)\n",
            "      (1): Linear(in_features=9216, out_features=4096, bias=True)\n",
            "      (2): ReLU(inplace=True)\n",
            "      (3): Dropout(p=0.5, inplace=False)\n",
            "      (4): Linear(in_features=4096, out_features=4096, bias=True)\n",
            "      (5): ReLU(inplace=True)\n",
            "      (6): Linear(in_features=4096, out_features=4, bias=True)\n",
            "    )\n",
            "  )\n",
            "  (post_spec_dropout): Dropout(p=0.1, inplace=False)\n",
            "  (post_spec_layer): Linear(in_features=9216, out_features=128, bias=True)\n",
            "  (lstm_mfcc): LSTM(40, 256, num_layers=2, batch_first=True, dropout=0.5, bidirectional=True)\n",
            "  (post_mfcc_dropout): Dropout(p=0.1, inplace=False)\n",
            "  (post_mfcc_layer): Linear(in_features=153600, out_features=128, bias=True)\n",
            "  (post_spec_mfcc_att_dropout): Dropout(p=0.1, inplace=False)\n",
            "  (post_spec_mfcc_att_layer): Linear(in_features=256, out_features=149, bias=True)\n",
            "  (wav2vec2_model): Wav2Vec2Model(\n",
            "    (feature_extractor): Wav2Vec2FeatureEncoder(\n",
            "      (conv_layers): ModuleList(\n",
            "        (0): Wav2Vec2GroupNormConvLayer(\n",
            "          (conv): Conv1d(1, 512, kernel_size=(10,), stride=(5,), bias=False)\n",
            "          (activation): GELUActivation()\n",
            "          (layer_norm): GroupNorm(512, 512, eps=1e-05, affine=True)\n",
            "        )\n",
            "        (1-4): 4 x Wav2Vec2NoLayerNormConvLayer(\n",
            "          (conv): Conv1d(512, 512, kernel_size=(3,), stride=(2,), bias=False)\n",
            "          (activation): GELUActivation()\n",
            "        )\n",
            "        (5-6): 2 x Wav2Vec2NoLayerNormConvLayer(\n",
            "          (conv): Conv1d(512, 512, kernel_size=(2,), stride=(2,), bias=False)\n",
            "          (activation): GELUActivation()\n",
            "        )\n",
            "      )\n",
            "    )\n",
            "    (feature_projection): Wav2Vec2FeatureProjection(\n",
            "      (layer_norm): LayerNorm((512,), eps=1e-05, elementwise_affine=True)\n",
            "      (projection): Linear(in_features=512, out_features=768, bias=True)\n",
            "      (dropout): Dropout(p=0.1, inplace=False)\n",
            "    )\n",
            "    (encoder): Wav2Vec2Encoder(\n",
            "      (pos_conv_embed): Wav2Vec2PositionalConvEmbedding(\n",
            "        (conv): ParametrizedConv1d(\n",
            "          768, 768, kernel_size=(128,), stride=(1,), padding=(64,), groups=16\n",
            "          (parametrizations): ModuleDict(\n",
            "            (weight): ParametrizationList(\n",
            "              (0): _WeightNorm()\n",
            "            )\n",
            "          )\n",
            "        )\n",
            "        (padding): Wav2Vec2SamePadLayer()\n",
            "        (activation): GELUActivation()\n",
            "      )\n",
            "      (layer_norm): LayerNorm((768,), eps=1e-05, elementwise_affine=True)\n",
            "      (dropout): Dropout(p=0.1, inplace=False)\n",
            "      (layers): ModuleList(\n",
            "        (0-11): 12 x Wav2Vec2EncoderLayer(\n",
            "          (attention): Wav2Vec2Attention(\n",
            "            (k_proj): Linear(in_features=768, out_features=768, bias=True)\n",
            "            (v_proj): Linear(in_features=768, out_features=768, bias=True)\n",
            "            (q_proj): Linear(in_features=768, out_features=768, bias=True)\n",
            "            (out_proj): Linear(in_features=768, out_features=768, bias=True)\n",
            "          )\n",
            "          (dropout): Dropout(p=0.1, inplace=False)\n",
            "          (layer_norm): LayerNorm((768,), eps=1e-05, elementwise_affine=True)\n",
            "          (feed_forward): Wav2Vec2FeedForward(\n",
            "            (intermediate_dropout): Dropout(p=0.1, inplace=False)\n",
            "            (intermediate_dense): Linear(in_features=768, out_features=3072, bias=True)\n",
            "            (intermediate_act_fn): GELUActivation()\n",
            "            (output_dense): Linear(in_features=3072, out_features=768, bias=True)\n",
            "            (output_dropout): Dropout(p=0.1, inplace=False)\n",
            "          )\n",
            "          (final_layer_norm): LayerNorm((768,), eps=1e-05, elementwise_affine=True)\n",
            "        )\n",
            "      )\n",
            "    )\n",
            "  )\n",
            "  (post_wav_dropout): Dropout(p=0.1, inplace=False)\n",
            "  (post_wav_layer): Linear(in_features=768, out_features=128, bias=True)\n",
            "  (post_att_dropout): Dropout(p=0.1, inplace=False)\n",
            "  (post_att_layer_1): Linear(in_features=384, out_features=128, bias=True)\n",
            "  (post_att_layer_2): Linear(in_features=128, out_features=128, bias=True)\n",
            "  (post_att_layer_3): Linear(in_features=128, out_features=4, bias=True)\n",
            ")\n",
            "Number of trainable parameters: 174622941\n",
            "\n",
            "\n",
            "Start Training!!!\n"
          ]
        },
        {
          "name": "stderr",
          "output_type": "stream",
          "text": [
            "100%|██████████| 279/279 [01:07<00:00,  4.11it/s]\n",
            "100%|██████████| 19/19 [00:02<00:00,  6.36it/s]\n"
          ]
        },
        {
          "name": "stdout",
          "output_type": "stream",
          "text": [
            " ang  sad  hap  neu\n",
            "  20    1   38   11\n",
            "   0   60    2   22\n",
            "   5   11   76   69\n",
            "   4   38   66  119\n",
            "True\n",
            "0 0\n",
            "Epoch 1  (lr = 1e-05)        Loss: 1.2500 - 1.1034 - WA: 50.74% <50.74%> - UA: 49.91% <49.91%>\n"
          ]
        },
        {
          "name": "stderr",
          "output_type": "stream",
          "text": [
            "100%|██████████| 279/279 [01:07<00:00,  4.12it/s]\n",
            "100%|██████████| 19/19 [00:02<00:00,  6.36it/s]\n"
          ]
        },
        {
          "name": "stdout",
          "output_type": "stream",
          "text": [
            " ang  sad  hap  neu\n",
            "  28    0   22   20\n",
            "   0   57    1   26\n",
            "   9   10   71   71\n",
            "   7   25   37  158\n",
            "True\n",
            "1 1\n",
            "Epoch 2  (lr = 1e-05)        Loss: 1.0870 - 1.0317 - WA: 57.93% <57.93%> - UA: 55.39% <55.39%>\n"
          ]
        },
        {
          "name": "stderr",
          "output_type": "stream",
          "text": [
            "100%|██████████| 279/279 [01:07<00:00,  4.13it/s]\n",
            "100%|██████████| 19/19 [00:02<00:00,  6.34it/s]\n"
          ]
        },
        {
          "name": "stdout",
          "output_type": "stream",
          "text": [
            " ang  sad  hap  neu\n",
            "  52    0    9    9\n",
            "   1   53    2   28\n",
            "  26    3   89   43\n",
            "  17   23   59  128\n",
            "True\n",
            "2 2\n",
            "Epoch 3  (lr = 1e-05)        Loss: 1.0130 - 1.0149 - WA: 59.41% <59.41%> - UA: 62.26% <62.26%>\n"
          ]
        },
        {
          "name": "stderr",
          "output_type": "stream",
          "text": [
            "100%|██████████| 279/279 [01:07<00:00,  4.11it/s]\n",
            "100%|██████████| 19/19 [00:02<00:00,  6.35it/s]\n"
          ]
        },
        {
          "name": "stdout",
          "output_type": "stream",
          "text": [
            " ang  sad  hap  neu\n",
            "  54    0   11    5\n",
            "   0   69    3   12\n",
            "  14   13  108   26\n",
            "  17   30   64  116\n",
            "True\n",
            "3 3\n",
            "Epoch 4  (lr = 1e-05)        Loss: 0.9624 - 0.9949 - WA: 64.02% <64.02%> - UA: 69.37% <69.37%>\n"
          ]
        },
        {
          "name": "stderr",
          "output_type": "stream",
          "text": [
            "100%|██████████| 279/279 [01:07<00:00,  4.12it/s]\n",
            "100%|██████████| 19/19 [00:02<00:00,  6.35it/s]\n"
          ]
        },
        {
          "name": "stdout",
          "output_type": "stream",
          "text": [
            " ang  sad  hap  neu\n",
            "  52    0   11    7\n",
            "   0   71    1   12\n",
            "  15   15  112   19\n",
            "  11   33   73  110\n",
            "3 4\n",
            "Epoch 5  (lr = 1e-05)        Loss: 0.9148 - 1.0028 - WA: 63.65% <64.02%> - UA: 69.21% <69.37%>\n"
          ]
        },
        {
          "name": "stderr",
          "output_type": "stream",
          "text": [
            "100%|██████████| 279/279 [01:07<00:00,  4.11it/s]\n",
            "100%|██████████| 19/19 [00:02<00:00,  6.34it/s]\n"
          ]
        },
        {
          "name": "stdout",
          "output_type": "stream",
          "text": [
            " ang  sad  hap  neu\n",
            "  53    0   10    7\n",
            "   0   75    2    7\n",
            "  15   19  108   19\n",
            "  15   43   74   95\n",
            "3 5\n",
            "Epoch 6  (lr = 1e-05)        Loss: 0.8730 - 1.0293 - WA: 61.07% <64.02%> - UA: 68.48% <69.37%>\n"
          ]
        },
        {
          "name": "stderr",
          "output_type": "stream",
          "text": [
            "100%|██████████| 279/279 [01:07<00:00,  4.11it/s]\n",
            "100%|██████████| 19/19 [00:02<00:00,  6.35it/s]\n"
          ]
        },
        {
          "name": "stdout",
          "output_type": "stream",
          "text": [
            " ang  sad  hap  neu\n",
            "  65    0    3    2\n",
            "   0   57    6   21\n",
            "  23    7  106   25\n",
            "  29   23   64  111\n",
            "3 6\n",
            "Epoch 7  (lr = 1e-05)        Loss: 0.8301 - 1.0120 - WA: 62.55% <64.02%> - UA: 68.86% <69.37%>\n"
          ]
        },
        {
          "name": "stderr",
          "output_type": "stream",
          "text": [
            "100%|██████████| 279/279 [01:07<00:00,  4.12it/s]\n",
            "100%|██████████| 19/19 [00:02<00:00,  6.35it/s]\n"
          ]
        },
        {
          "name": "stdout",
          "output_type": "stream",
          "text": [
            " ang  sad  hap  neu\n",
            "  66    0    3    1\n",
            "   1   66    2   15\n",
            "  25    7  112   17\n",
            "  35   27   61  104\n",
            "True\n",
            "7 7\n",
            "Epoch 8  (lr = 1e-05)        Loss: 0.7950 - 1.0463 - WA: 64.21% <64.21%> - UA: 72.06% <72.06%>\n"
          ]
        },
        {
          "name": "stderr",
          "output_type": "stream",
          "text": [
            "100%|██████████| 279/279 [01:07<00:00,  4.13it/s]\n",
            "100%|██████████| 19/19 [00:02<00:00,  6.35it/s]\n"
          ]
        },
        {
          "name": "stdout",
          "output_type": "stream",
          "text": [
            " ang  sad  hap  neu\n",
            "  58    0   11    1\n",
            "   0   74    5    5\n",
            "  10   11  132    8\n",
            "  11   32  109   75\n",
            "7 8\n",
            "Epoch 9  (lr = 1e-05)        Loss: 0.7500 - 1.0579 - WA: 62.55% <64.21%> - UA: 71.49% <72.06%>\n"
          ]
        },
        {
          "name": "stderr",
          "output_type": "stream",
          "text": [
            "100%|██████████| 279/279 [01:07<00:00,  4.13it/s]\n",
            "100%|██████████| 19/19 [00:02<00:00,  6.37it/s]\n"
          ]
        },
        {
          "name": "stdout",
          "output_type": "stream",
          "text": [
            " ang  sad  hap  neu\n",
            "  58    0   11    1\n",
            "   1   70    9    4\n",
            "   8    8  138    7\n",
            "  14   24  115   74\n",
            "7 9\n",
            "Epoch 10  (lr = 1e-05)        Loss: 0.7109 - 1.0403 - WA: 62.73% <64.21%> - UA: 71.13% <72.06%>\n"
          ]
        },
        {
          "name": "stderr",
          "output_type": "stream",
          "text": [
            "100%|██████████| 279/279 [01:08<00:00,  4.09it/s]\n",
            "100%|██████████| 19/19 [00:02<00:00,  6.34it/s]\n"
          ]
        },
        {
          "name": "stdout",
          "output_type": "stream",
          "text": [
            " ang  sad  hap  neu\n",
            "  55    0   13    2\n",
            "   0   76    4    4\n",
            "   8   11  133    9\n",
            "   6   29  109   83\n",
            "7 10\n",
            "Epoch 11  (lr = 1e-05)        Loss: 0.6767 - 1.0464 - WA: 64.02% <64.21%> - UA: 72.06% <72.06%>\n"
          ]
        },
        {
          "name": "stderr",
          "output_type": "stream",
          "text": [
            "100%|██████████| 279/279 [01:08<00:00,  4.10it/s]\n",
            "100%|██████████| 19/19 [00:02<00:00,  6.34it/s]\n"
          ]
        },
        {
          "name": "stdout",
          "output_type": "stream",
          "text": [
            " ang  sad  hap  neu\n",
            "  60    0    8    2\n",
            "   0   69   11    4\n",
            "  10    6  137    8\n",
            "  12   21  117   77\n",
            "7 11\n",
            "Epoch 12  (lr = 1e-05)        Loss: 0.6349 - 1.1609 - WA: 63.28% <64.21%> - UA: 71.72% <72.06%>\n"
          ]
        },
        {
          "name": "stderr",
          "output_type": "stream",
          "text": [
            "100%|██████████| 279/279 [01:07<00:00,  4.12it/s]\n",
            "100%|██████████| 19/19 [00:02<00:00,  6.36it/s]\n"
          ]
        },
        {
          "name": "stdout",
          "output_type": "stream",
          "text": [
            " ang  sad  hap  neu\n",
            "  63    0    7    0\n",
            "   1   62    5   16\n",
            "  13    3  133   12\n",
            "  15   18   76  118\n",
            "True\n",
            "12 12\n",
            "Epoch 13  (lr = 1e-05)        Loss: 0.6182 - 1.0451 - WA: 69.37% <69.37%> - UA: 74.60% <74.60%>\n"
          ]
        },
        {
          "name": "stderr",
          "output_type": "stream",
          "text": [
            "100%|██████████| 279/279 [01:07<00:00,  4.11it/s]\n",
            "100%|██████████| 19/19 [00:02<00:00,  6.34it/s]\n"
          ]
        },
        {
          "name": "stdout",
          "output_type": "stream",
          "text": [
            " ang  sad  hap  neu\n",
            "  65    0    3    2\n",
            "   2   64    6   12\n",
            "  10    5  133   13\n",
            "  11   21   72  123\n",
            "True\n",
            "13 13\n",
            "Epoch 14  (lr = 1e-05)        Loss: 0.5793 - 1.0671 - WA: 71.03% <71.03%> - UA: 76.46% <76.46%>\n"
          ]
        },
        {
          "name": "stderr",
          "output_type": "stream",
          "text": [
            "100%|██████████| 279/279 [01:07<00:00,  4.13it/s]\n",
            "100%|██████████| 19/19 [00:02<00:00,  6.36it/s]\n"
          ]
        },
        {
          "name": "stdout",
          "output_type": "stream",
          "text": [
            " ang  sad  hap  neu\n",
            "  65    0    3    2\n",
            "   1   70    0   13\n",
            "  14    8  111   28\n",
            "  13   27   37  150\n",
            "True\n",
            "14 14\n",
            "Epoch 15  (lr = 1e-05)        Loss: 0.5677 - 0.9134 - WA: 73.06% <73.06%> - UA: 77.80% <77.80%>\n"
          ]
        },
        {
          "name": "stderr",
          "output_type": "stream",
          "text": [
            "100%|██████████| 279/279 [01:07<00:00,  4.12it/s]\n",
            "100%|██████████| 19/19 [00:02<00:00,  6.36it/s]\n"
          ]
        },
        {
          "name": "stdout",
          "output_type": "stream",
          "text": [
            " ang  sad  hap  neu\n",
            "  65    0    3    2\n",
            "   1   60    6   17\n",
            "  16    3  129   13\n",
            "  14   16   64  133\n",
            "14 15\n",
            "Epoch 16  (lr = 1e-05)        Loss: 0.5395 - 1.0674 - WA: 71.40% <73.06%> - UA: 75.75% <77.80%>\n"
          ]
        },
        {
          "name": "stderr",
          "output_type": "stream",
          "text": [
            "100%|██████████| 279/279 [01:07<00:00,  4.13it/s]\n",
            "100%|██████████| 19/19 [00:02<00:00,  6.33it/s]\n"
          ]
        },
        {
          "name": "stdout",
          "output_type": "stream",
          "text": [
            " ang  sad  hap  neu\n",
            "  64    0    3    3\n",
            "   1   66    5   12\n",
            "  11    8  115   27\n",
            "  12   22   47  146\n",
            "14 16\n",
            "Epoch 17  (lr = 1e-05)        Loss: 0.5120 - 1.0005 - WA: 72.14% <73.06%> - UA: 76.44% <77.80%>\n"
          ]
        },
        {
          "name": "stderr",
          "output_type": "stream",
          "text": [
            "100%|██████████| 279/279 [01:08<00:00,  4.10it/s]\n",
            "100%|██████████| 19/19 [00:02<00:00,  6.36it/s]\n"
          ]
        },
        {
          "name": "stdout",
          "output_type": "stream",
          "text": [
            " ang  sad  hap  neu\n",
            "  62    1    3    4\n",
            "   1   75    4    4\n",
            "   9   13  113   26\n",
            "   7   30   48  142\n",
            "14 17\n",
            "Epoch 18  (lr = 1e-05)        Loss: 0.4831 - 1.0966 - WA: 72.32% <73.06%> - UA: 77.65% <77.80%>\n"
          ]
        },
        {
          "name": "stderr",
          "output_type": "stream",
          "text": [
            "100%|██████████| 279/279 [01:07<00:00,  4.12it/s]\n",
            "100%|██████████| 19/19 [00:02<00:00,  6.35it/s]\n"
          ]
        },
        {
          "name": "stdout",
          "output_type": "stream",
          "text": [
            " ang  sad  hap  neu\n",
            "  57    0   11    2\n",
            "   0   72    8    4\n",
            "   4    5  145    7\n",
            "   7   29  100   91\n",
            "14 18\n",
            "Epoch 19  (lr = 1e-05)        Loss: 0.4620 - 1.3170 - WA: 67.34% <73.06%> - UA: 74.32% <77.80%>\n"
          ]
        },
        {
          "name": "stderr",
          "output_type": "stream",
          "text": [
            "100%|██████████| 279/279 [01:07<00:00,  4.13it/s]\n",
            "100%|██████████| 19/19 [00:02<00:00,  6.35it/s]\n"
          ]
        },
        {
          "name": "stdout",
          "output_type": "stream",
          "text": [
            " ang  sad  hap  neu\n",
            "  65    0    3    2\n",
            "   2   63    7   12\n",
            "  11    5  125   20\n",
            "  15   19   48  145\n",
            "14 19\n",
            "Epoch 20  (lr = 1e-05)        Loss: 0.4414 - 1.1102 - WA: 73.43% <73.06%> - UA: 77.34% <77.80%>\n"
          ]
        },
        {
          "name": "stderr",
          "output_type": "stream",
          "text": [
            "100%|██████████| 279/279 [01:08<00:00,  4.09it/s]\n",
            "100%|██████████| 19/19 [00:02<00:00,  6.37it/s]\n"
          ]
        },
        {
          "name": "stdout",
          "output_type": "stream",
          "text": [
            " ang  sad  hap  neu\n",
            "  66    0    3    1\n",
            "   2   66    8    8\n",
            "  13    4  134   10\n",
            "  22   19   85  101\n",
            "14 20\n",
            "Epoch 21  (lr = 1e-05)        Loss: 0.4141 - 1.3666 - WA: 67.71% <73.06%> - UA: 75.15% <77.80%>\n"
          ]
        },
        {
          "name": "stderr",
          "output_type": "stream",
          "text": [
            "100%|██████████| 279/279 [01:07<00:00,  4.13it/s]\n",
            "100%|██████████| 19/19 [00:02<00:00,  6.37it/s]\n"
          ]
        },
        {
          "name": "stdout",
          "output_type": "stream",
          "text": [
            " ang  sad  hap  neu\n",
            "  64    0    2    4\n",
            "   2   74    1    7\n",
            "   8    9  120   24\n",
            "  16   36   41  134\n",
            "14 21\n",
            "Epoch 22  (lr = 1e-05)        Loss: 0.4204 - 1.1991 - WA: 72.32% <73.06%> - UA: 78.27% <77.80%>\n"
          ]
        },
        {
          "name": "stderr",
          "output_type": "stream",
          "text": [
            "100%|██████████| 279/279 [01:07<00:00,  4.11it/s]\n",
            "100%|██████████| 19/19 [00:02<00:00,  6.34it/s]\n"
          ]
        },
        {
          "name": "stdout",
          "output_type": "stream",
          "text": [
            " ang  sad  hap  neu\n",
            "  64    0    5    1\n",
            "   1   63    5   15\n",
            "   7    4  136   14\n",
            "  12   20   72  123\n",
            "14 22\n",
            "Epoch 23  (lr = 1e-05)        Loss: 0.3649 - 1.2130 - WA: 71.22% <73.06%> - UA: 76.27% <77.80%>\n"
          ]
        },
        {
          "name": "stderr",
          "output_type": "stream",
          "text": [
            "100%|██████████| 279/279 [01:07<00:00,  4.13it/s]\n",
            "100%|██████████| 19/19 [00:02<00:00,  6.34it/s]\n"
          ]
        },
        {
          "name": "stdout",
          "output_type": "stream",
          "text": [
            " ang  sad  hap  neu\n",
            "  65    0    2    3\n",
            "   2   70    4    8\n",
            "  11    5  126   19\n",
            "  15   21   56  135\n",
            "True\n",
            "23 23\n",
            "Epoch 24  (lr = 1e-05)        Loss: 0.3664 - 1.2907 - WA: 73.06% <73.06%> - UA: 78.48% <78.48%>\n"
          ]
        },
        {
          "name": "stderr",
          "output_type": "stream",
          "text": [
            "100%|██████████| 279/279 [01:08<00:00,  4.10it/s]\n",
            "100%|██████████| 19/19 [00:03<00:00,  6.33it/s]\n"
          ]
        },
        {
          "name": "stdout",
          "output_type": "stream",
          "text": [
            " ang  sad  hap  neu\n",
            "  66    0    3    1\n",
            "   2   54   17   11\n",
            "  11    4  134   12\n",
            "  20   14   71  122\n",
            "23 24\n",
            "Epoch 25  (lr = 1e-05)        Loss: 0.3383 - 1.4952 - WA: 69.37% <73.06%> - UA: 73.89% <78.48%>\n"
          ]
        },
        {
          "name": "stderr",
          "output_type": "stream",
          "text": [
            "100%|██████████| 279/279 [01:07<00:00,  4.13it/s]\n",
            "100%|██████████| 19/19 [00:03<00:00,  6.32it/s]\n"
          ]
        },
        {
          "name": "stdout",
          "output_type": "stream",
          "text": [
            " ang  sad  hap  neu\n",
            "  61    0    5    4\n",
            "   1   61    5   17\n",
            "   5    4  133   19\n",
            "   9   16   55  147\n",
            "23 25\n",
            "Epoch 26  (lr = 1e-05)        Loss: 0.3404 - 1.2870 - WA: 74.17% <73.06%> - UA: 76.78% <78.48%>\n"
          ]
        },
        {
          "name": "stderr",
          "output_type": "stream",
          "text": [
            "100%|██████████| 279/279 [01:07<00:00,  4.11it/s]\n",
            "100%|██████████| 19/19 [00:02<00:00,  6.36it/s]\n"
          ]
        },
        {
          "name": "stdout",
          "output_type": "stream",
          "text": [
            " ang  sad  hap  neu\n",
            "  64    0    2    4\n",
            "   2   71    5    6\n",
            "   8    6  134   13\n",
            "  15   27   69  116\n",
            "23 26\n",
            "Epoch 27  (lr = 1e-05)        Loss: 0.3230 - 1.4445 - WA: 71.03% <73.06%> - UA: 77.57% <78.48%>\n"
          ]
        },
        {
          "name": "stderr",
          "output_type": "stream",
          "text": [
            "100%|██████████| 279/279 [01:07<00:00,  4.10it/s]\n",
            "100%|██████████| 19/19 [00:02<00:00,  6.34it/s]\n"
          ]
        },
        {
          "name": "stdout",
          "output_type": "stream",
          "text": [
            " ang  sad  hap  neu\n",
            "  67    0    3    0\n",
            "   2   68    6    8\n",
            "  13    5  132   11\n",
            "  25   17   76  109\n",
            "23 27\n",
            "Epoch 28  (lr = 1e-05)        Loss: 0.3036 - 1.5937 - WA: 69.37% <73.06%> - UA: 76.67% <78.48%>\n"
          ]
        },
        {
          "name": "stderr",
          "output_type": "stream",
          "text": [
            "100%|██████████| 279/279 [01:07<00:00,  4.11it/s]\n",
            "100%|██████████| 19/19 [00:03<00:00,  6.33it/s]\n"
          ]
        },
        {
          "name": "stdout",
          "output_type": "stream",
          "text": [
            " ang  sad  hap  neu\n",
            "  53    0   14    3\n",
            "   1   67    8    8\n",
            "   2    4  144   11\n",
            "   8   19   92  108\n",
            "23 28\n",
            "Epoch 29  (lr = 1e-05)        Loss: 0.2966 - 1.5672 - WA: 68.63% <73.06%> - UA: 73.12% <78.48%>\n"
          ]
        },
        {
          "name": "stderr",
          "output_type": "stream",
          "text": [
            "100%|██████████| 279/279 [01:07<00:00,  4.12it/s]\n",
            "100%|██████████| 19/19 [00:03<00:00,  6.32it/s]\n"
          ]
        },
        {
          "name": "stdout",
          "output_type": "stream",
          "text": [
            " ang  sad  hap  neu\n",
            "  63    0    7    0\n",
            "   2   66    6   10\n",
            "   9    6  134   12\n",
            "  11   21   71  124\n",
            "23 29\n",
            "Epoch 30  (lr = 1e-05)        Loss: 0.2974 - 1.4058 - WA: 71.40% <73.06%> - UA: 76.61% <78.48%>\n"
          ]
        },
        {
          "name": "stderr",
          "output_type": "stream",
          "text": [
            "100%|██████████| 279/279 [01:07<00:00,  4.11it/s]\n",
            "100%|██████████| 19/19 [00:02<00:00,  6.34it/s]\n"
          ]
        },
        {
          "name": "stdout",
          "output_type": "stream",
          "text": [
            " ang  sad  hap  neu\n",
            "  66    0    3    1\n",
            "   1   68    7    8\n",
            "  12    7  122   20\n",
            "  16   26   52  133\n",
            "23 30\n",
            "Epoch 31  (lr = 1e-05)        Loss: 0.2772 - 1.5273 - WA: 71.77% <73.06%> - UA: 77.40% <78.48%>\n"
          ]
        },
        {
          "name": "stderr",
          "output_type": "stream",
          "text": [
            "100%|██████████| 279/279 [01:07<00:00,  4.13it/s]\n",
            "100%|██████████| 19/19 [00:03<00:00,  6.33it/s]\n"
          ]
        },
        {
          "name": "stdout",
          "output_type": "stream",
          "text": [
            " ang  sad  hap  neu\n",
            "  57    1   11    1\n",
            "   1   67   10    6\n",
            "   4    7  141    9\n",
            "   9   24   93  101\n",
            "23 31\n",
            "Epoch 32  (lr = 1e-05)        Loss: 0.2663 - 1.5928 - WA: 67.53% <73.06%> - UA: 73.32% <78.48%>\n"
          ]
        },
        {
          "name": "stderr",
          "output_type": "stream",
          "text": [
            "100%|██████████| 279/279 [01:07<00:00,  4.11it/s]\n",
            "100%|██████████| 19/19 [00:02<00:00,  6.34it/s]\n"
          ]
        },
        {
          "name": "stdout",
          "output_type": "stream",
          "text": [
            " ang  sad  hap  neu\n",
            "  66    0    4    0\n",
            "   2   64    6   12\n",
            "  14    5  126   16\n",
            "  14   18   69  126\n",
            "23 32\n",
            "Epoch 33  (lr = 1e-05)        Loss: 0.2422 - 1.6095 - WA: 70.48% <73.06%> - UA: 76.06% <78.48%>\n"
          ]
        },
        {
          "name": "stderr",
          "output_type": "stream",
          "text": [
            "100%|██████████| 279/279 [01:07<00:00,  4.11it/s]\n",
            "100%|██████████| 19/19 [00:03<00:00,  6.33it/s]\n"
          ]
        },
        {
          "name": "stdout",
          "output_type": "stream",
          "text": [
            " ang  sad  hap  neu\n",
            "  64    0    4    2\n",
            "   2   62    9   11\n",
            "   7    4  133   17\n",
            "   9   15   64  139\n",
            "23 33\n",
            "Epoch 34  (lr = 1e-05)        Loss: 0.2451 - 1.4594 - WA: 73.43% <73.06%> - UA: 77.27% <78.48%>\n"
          ]
        },
        {
          "name": "stderr",
          "output_type": "stream",
          "text": [
            "100%|██████████| 15/15 [00:02<00:00,  6.44it/s]\n"
          ]
        },
        {
          "name": "stdout",
          "output_type": "stream",
          "text": [
            " ang  sad  hap  neu\n",
            "  56    1    4    6\n",
            "   2   75   23   13\n",
            "   4    5  142   15\n",
            "   5   17   37   76\n",
            " ang  sad  hap  neu\n",
            "  56    1    4    6\n",
            "   2   75   23   13\n",
            "   4    5  142   15\n",
            "   5   17   37   76\n",
            "****************************************\n",
            "RESULTS ON TEST SET:\n",
            "Loss:1.1591\tWA: 72.56\tUA: 72.95\n",
            "Confusion matrix:\n",
            " ang  sad  hap  neu\n",
            "  56    1    4    6\n",
            "   2   75   23   13\n",
            "   4    5  142   15\n",
            "   5   17   37   76\n",
            "****************************************\n",
            "\n",
            "PARAMETERS:\n",
            "\n",
            "****************************************\n",
            "\n",
            "\n",
            "       ser_task: SLM\n",
            "     repeat_idx: 0\n",
            "         val_id: 3M\n",
            "        test_id: 3F\n",
            "     num_epochs: 50\n",
            "     early_stop: 10\n",
            "     batch_size: 32\n",
            "             lr: 1e-05\n",
            "    random_seed: 111\n",
            "        use_gpu: 1\n",
            "        gpu_ids: ['0']\n",
            "     save_label: 2024-10-20-15-22\n",
            "   oversampling: False\n",
            "     pretrained: True\n",
            "****************************************\n",
            "\n",
            "\n",
            "\n",
            "Dataset normalized with minmax scaler\n",
            "\tRange before normalization: [-80.0, 3.8146973e-06]\n",
            "\tRange after  normalization: [0.0, 1.0]\n",
            "\n",
            "<<DATASET>>\n",
            "\n",
            "Val. speaker id : 3M\n",
            "Test speaker id : 3F\n",
            "Train data      : (8749, 1, 200, 300)\n",
            "Train labels    : (8749,)\n",
            "Eval. data      : (1270, 1, 200, 300)\n",
            "Eval. label     : (629,)\n",
            "Eval. seg labels: (1270,)\n",
            "Eval. num seg   : (629,)\n",
            "Test data       : (983, 1, 200, 300)\n",
            "Test label      : (522,)\n",
            "Test seg labels : (983,)\n",
            "Test num seg    : (522,)\n",
            "\n",
            "\n",
            "pytorch version:  2.1.1+cu118\n",
            "cuda version:  11.8\n",
            "cudnn version:  8700\n",
            "gpu name:  NVIDIA GeForce RTX 4080\n",
            "gpu index:  0\n"
          ]
        },
        {
          "name": "stderr",
          "output_type": "stream",
          "text": [
            "/home/stud1/.local/lib/python3.10/site-packages/torchvision/models/_utils.py:208: UserWarning: The parameter 'pretrained' is deprecated since 0.13 and may be removed in the future, please use 'weights' instead.\n",
            "  warnings.warn(\n",
            "/home/stud1/.local/lib/python3.10/site-packages/torchvision/models/_utils.py:223: UserWarning: Arguments other than a weight enum or `None` for 'weights' are deprecated since 0.13 and may be removed in the future. The current behavior is equivalent to passing `weights=AlexNet_Weights.IMAGENET1K_V1`. You can also use `weights=AlexNet_Weights.DEFAULT` to get the most up-to-date weights.\n",
            "  warnings.warn(msg)\n"
          ]
        },
        {
          "name": "stdout",
          "output_type": "stream",
          "text": [
            "\n",
            "<< SER AlexNet Finetuning model initialized >>\n",
            "\n"
          ]
        },
        {
          "name": "stderr",
          "output_type": "stream",
          "text": [
            "/home/stud1/.local/lib/python3.10/site-packages/huggingface_hub/file_download.py:1142: FutureWarning: `resume_download` is deprecated and will be removed in version 1.0.0. Downloads always resume when possible. If you want to force a new download, use `force_download=True`.\n",
            "  warnings.warn(\n",
            "Some weights of Wav2Vec2Model were not initialized from the model checkpoint at facebook/wav2vec2-base-960h and are newly initialized: ['wav2vec2.encoder.pos_conv_embed.conv.parametrizations.weight.original1', 'wav2vec2.encoder.pos_conv_embed.conv.parametrizations.weight.original0', 'wav2vec2.masked_spec_embed']\n",
            "You should probably TRAIN this model on a down-stream task to be able to use it for predictions and inference.\n"
          ]
        },
        {
          "name": "stdout",
          "output_type": "stream",
          "text": [
            "Ser_Model(\n",
            "  (alexnet_model): SER_AlexNet(\n",
            "    (features): Sequential(\n",
            "      (0): Conv2d(3, 64, kernel_size=(11, 11), stride=(4, 4), padding=(2, 2))\n",
            "      (1): ReLU(inplace=True)\n",
            "      (2): MaxPool2d(kernel_size=3, stride=2, padding=0, dilation=1, ceil_mode=False)\n",
            "      (3): Conv2d(64, 192, kernel_size=(5, 5), stride=(1, 1), padding=(2, 2))\n",
            "      (4): ReLU(inplace=True)\n",
            "      (5): MaxPool2d(kernel_size=3, stride=2, padding=0, dilation=1, ceil_mode=False)\n",
            "      (6): Conv2d(192, 384, kernel_size=(3, 3), stride=(1, 1), padding=(1, 1))\n",
            "      (7): ReLU(inplace=True)\n",
            "      (8): Conv2d(384, 256, kernel_size=(3, 3), stride=(1, 1), padding=(1, 1))\n",
            "      (9): ReLU(inplace=True)\n",
            "      (10): Conv2d(256, 256, kernel_size=(3, 3), stride=(1, 1), padding=(1, 1))\n",
            "      (11): ReLU(inplace=True)\n",
            "      (12): MaxPool2d(kernel_size=3, stride=2, padding=0, dilation=1, ceil_mode=False)\n",
            "    )\n",
            "    (avgpool): AdaptiveAvgPool2d(output_size=(6, 6))\n",
            "    (classifier): Sequential(\n",
            "      (0): Dropout(p=0.5, inplace=False)\n",
            "      (1): Linear(in_features=9216, out_features=4096, bias=True)\n",
            "      (2): ReLU(inplace=True)\n",
            "      (3): Dropout(p=0.5, inplace=False)\n",
            "      (4): Linear(in_features=4096, out_features=4096, bias=True)\n",
            "      (5): ReLU(inplace=True)\n",
            "      (6): Linear(in_features=4096, out_features=4, bias=True)\n",
            "    )\n",
            "  )\n",
            "  (post_spec_dropout): Dropout(p=0.1, inplace=False)\n",
            "  (post_spec_layer): Linear(in_features=9216, out_features=128, bias=True)\n",
            "  (lstm_mfcc): LSTM(40, 256, num_layers=2, batch_first=True, dropout=0.5, bidirectional=True)\n",
            "  (post_mfcc_dropout): Dropout(p=0.1, inplace=False)\n",
            "  (post_mfcc_layer): Linear(in_features=153600, out_features=128, bias=True)\n",
            "  (post_spec_mfcc_att_dropout): Dropout(p=0.1, inplace=False)\n",
            "  (post_spec_mfcc_att_layer): Linear(in_features=256, out_features=149, bias=True)\n",
            "  (wav2vec2_model): Wav2Vec2Model(\n",
            "    (feature_extractor): Wav2Vec2FeatureEncoder(\n",
            "      (conv_layers): ModuleList(\n",
            "        (0): Wav2Vec2GroupNormConvLayer(\n",
            "          (conv): Conv1d(1, 512, kernel_size=(10,), stride=(5,), bias=False)\n",
            "          (activation): GELUActivation()\n",
            "          (layer_norm): GroupNorm(512, 512, eps=1e-05, affine=True)\n",
            "        )\n",
            "        (1-4): 4 x Wav2Vec2NoLayerNormConvLayer(\n",
            "          (conv): Conv1d(512, 512, kernel_size=(3,), stride=(2,), bias=False)\n",
            "          (activation): GELUActivation()\n",
            "        )\n",
            "        (5-6): 2 x Wav2Vec2NoLayerNormConvLayer(\n",
            "          (conv): Conv1d(512, 512, kernel_size=(2,), stride=(2,), bias=False)\n",
            "          (activation): GELUActivation()\n",
            "        )\n",
            "      )\n",
            "    )\n",
            "    (feature_projection): Wav2Vec2FeatureProjection(\n",
            "      (layer_norm): LayerNorm((512,), eps=1e-05, elementwise_affine=True)\n",
            "      (projection): Linear(in_features=512, out_features=768, bias=True)\n",
            "      (dropout): Dropout(p=0.1, inplace=False)\n",
            "    )\n",
            "    (encoder): Wav2Vec2Encoder(\n",
            "      (pos_conv_embed): Wav2Vec2PositionalConvEmbedding(\n",
            "        (conv): ParametrizedConv1d(\n",
            "          768, 768, kernel_size=(128,), stride=(1,), padding=(64,), groups=16\n",
            "          (parametrizations): ModuleDict(\n",
            "            (weight): ParametrizationList(\n",
            "              (0): _WeightNorm()\n",
            "            )\n",
            "          )\n",
            "        )\n",
            "        (padding): Wav2Vec2SamePadLayer()\n",
            "        (activation): GELUActivation()\n",
            "      )\n",
            "      (layer_norm): LayerNorm((768,), eps=1e-05, elementwise_affine=True)\n",
            "      (dropout): Dropout(p=0.1, inplace=False)\n",
            "      (layers): ModuleList(\n",
            "        (0-11): 12 x Wav2Vec2EncoderLayer(\n",
            "          (attention): Wav2Vec2Attention(\n",
            "            (k_proj): Linear(in_features=768, out_features=768, bias=True)\n",
            "            (v_proj): Linear(in_features=768, out_features=768, bias=True)\n",
            "            (q_proj): Linear(in_features=768, out_features=768, bias=True)\n",
            "            (out_proj): Linear(in_features=768, out_features=768, bias=True)\n",
            "          )\n",
            "          (dropout): Dropout(p=0.1, inplace=False)\n",
            "          (layer_norm): LayerNorm((768,), eps=1e-05, elementwise_affine=True)\n",
            "          (feed_forward): Wav2Vec2FeedForward(\n",
            "            (intermediate_dropout): Dropout(p=0.1, inplace=False)\n",
            "            (intermediate_dense): Linear(in_features=768, out_features=3072, bias=True)\n",
            "            (intermediate_act_fn): GELUActivation()\n",
            "            (output_dense): Linear(in_features=3072, out_features=768, bias=True)\n",
            "            (output_dropout): Dropout(p=0.1, inplace=False)\n",
            "          )\n",
            "          (final_layer_norm): LayerNorm((768,), eps=1e-05, elementwise_affine=True)\n",
            "        )\n",
            "      )\n",
            "    )\n",
            "  )\n",
            "  (post_wav_dropout): Dropout(p=0.1, inplace=False)\n",
            "  (post_wav_layer): Linear(in_features=768, out_features=128, bias=True)\n",
            "  (post_att_dropout): Dropout(p=0.1, inplace=False)\n",
            "  (post_att_layer_1): Linear(in_features=384, out_features=128, bias=True)\n",
            "  (post_att_layer_2): Linear(in_features=128, out_features=128, bias=True)\n",
            "  (post_att_layer_3): Linear(in_features=128, out_features=4, bias=True)\n",
            ")\n",
            "Number of trainable parameters: 174622941\n",
            "\n",
            "\n",
            "Start Training!!!\n"
          ]
        },
        {
          "name": "stderr",
          "output_type": "stream",
          "text": [
            "100%|██████████| 274/274 [01:06<00:00,  4.12it/s]\n",
            "100%|██████████| 20/20 [00:03<00:00,  6.17it/s]\n"
          ]
        },
        {
          "name": "stdout",
          "output_type": "stream",
          "text": [
            " ang  sad  hap  neu\n",
            "  76    6   46   20\n",
            "   1  103    7   22\n",
            "  23   29   75   31\n",
            "   4   59   54   73\n",
            "True\n",
            "0 0\n",
            "Epoch 1  (lr = 1e-05)        Loss: 1.2549 - 1.1184 - WA: 51.99% <51.99%> - UA: 53.67% <53.67%>\n"
          ]
        },
        {
          "name": "stderr",
          "output_type": "stream",
          "text": [
            "100%|██████████| 274/274 [01:06<00:00,  4.12it/s]\n",
            "100%|██████████| 20/20 [00:03<00:00,  6.18it/s]\n"
          ]
        },
        {
          "name": "stdout",
          "output_type": "stream",
          "text": [
            " ang  sad  hap  neu\n",
            "  88    5   24   31\n",
            "   1  104    2   26\n",
            "  22   35   58   43\n",
            "   7   66   16  101\n",
            "True\n",
            "1 1\n",
            "Epoch 2  (lr = 1e-05)        Loss: 1.0584 - 1.1039 - WA: 55.80% <55.80%> - UA: 56.88% <56.88%>\n"
          ]
        },
        {
          "name": "stderr",
          "output_type": "stream",
          "text": [
            "100%|██████████| 274/274 [01:06<00:00,  4.14it/s]\n",
            "100%|██████████| 20/20 [00:03<00:00,  6.17it/s]\n"
          ]
        },
        {
          "name": "stdout",
          "output_type": "stream",
          "text": [
            " ang  sad  hap  neu\n",
            "  84   15   22   27\n",
            "   0  121    2   10\n",
            "  17   48   61   32\n",
            "   7   92   19   72\n",
            "1 2\n",
            "Epoch 3  (lr = 1e-05)        Loss: 0.9950 - 1.0973 - WA: 53.74% <55.80%> - UA: 56.06% <56.88%>\n"
          ]
        },
        {
          "name": "stderr",
          "output_type": "stream",
          "text": [
            "100%|██████████| 274/274 [01:06<00:00,  4.11it/s]\n",
            "100%|██████████| 20/20 [00:03<00:00,  6.19it/s]\n"
          ]
        },
        {
          "name": "stdout",
          "output_type": "stream",
          "text": [
            " ang  sad  hap  neu\n",
            "  92   15   15   26\n",
            "   0  117    2   14\n",
            "  20   43   57   38\n",
            "  11   82   16   81\n",
            "1 3\n",
            "Epoch 4  (lr = 1e-05)        Loss: 0.9323 - 1.0928 - WA: 55.17% <55.80%> - UA: 57.21% <56.88%>\n"
          ]
        },
        {
          "name": "stderr",
          "output_type": "stream",
          "text": [
            "100%|██████████| 274/274 [01:06<00:00,  4.13it/s]\n",
            "100%|██████████| 20/20 [00:03<00:00,  6.18it/s]\n"
          ]
        },
        {
          "name": "stdout",
          "output_type": "stream",
          "text": [
            " ang  sad  hap  neu\n",
            " 107   15    6   20\n",
            "   2  122    0    9\n",
            "  41   51   37   29\n",
            "  26   80    4   80\n",
            "1 4\n",
            "Epoch 5  (lr = 1e-05)        Loss: 0.8941 - 1.1252 - WA: 55.01% <55.80%> - UA: 57.39% <56.88%>\n"
          ]
        },
        {
          "name": "stderr",
          "output_type": "stream",
          "text": [
            "100%|██████████| 274/274 [01:06<00:00,  4.11it/s]\n",
            "100%|██████████| 20/20 [00:03<00:00,  6.16it/s]\n"
          ]
        },
        {
          "name": "stdout",
          "output_type": "stream",
          "text": [
            " ang  sad  hap  neu\n",
            "  93    9   15   31\n",
            "   2  115    0   16\n",
            "  15   42   54   47\n",
            "  12   55    6  117\n",
            "True\n",
            "5 5\n",
            "Epoch 6  (lr = 1e-05)        Loss: 0.8544 - 1.0643 - WA: 60.25% <60.25%> - UA: 61.27% <61.27%>\n"
          ]
        },
        {
          "name": "stderr",
          "output_type": "stream",
          "text": [
            "100%|██████████| 274/274 [01:06<00:00,  4.12it/s]\n",
            "100%|██████████| 20/20 [00:03<00:00,  6.18it/s]\n"
          ]
        },
        {
          "name": "stdout",
          "output_type": "stream",
          "text": [
            " ang  sad  hap  neu\n",
            " 100   11   19   18\n",
            "   2  116    3   12\n",
            "  14   35   92   17\n",
            "  20   50   27   93\n",
            "True\n",
            "6 6\n",
            "Epoch 7  (lr = 1e-05)        Loss: 0.7979 - 0.9606 - WA: 63.75% <63.75%> - UA: 65.49% <65.49%>\n"
          ]
        },
        {
          "name": "stderr",
          "output_type": "stream",
          "text": [
            "100%|██████████| 274/274 [01:06<00:00,  4.13it/s]\n",
            "100%|██████████| 20/20 [00:03<00:00,  6.17it/s]\n"
          ]
        },
        {
          "name": "stdout",
          "output_type": "stream",
          "text": [
            " ang  sad  hap  neu\n",
            " 106    9    8   25\n",
            "   2  112    0   19\n",
            "  31   38   48   41\n",
            "  25   44    2  119\n",
            "6 7\n",
            "Epoch 8  (lr = 1e-05)        Loss: 0.7560 - 1.0268 - WA: 61.21% <63.75%> - UA: 62.21% <65.49%>\n"
          ]
        },
        {
          "name": "stderr",
          "output_type": "stream",
          "text": [
            "100%|██████████| 274/274 [01:06<00:00,  4.12it/s]\n",
            "100%|██████████| 20/20 [00:03<00:00,  6.17it/s]\n"
          ]
        },
        {
          "name": "stdout",
          "output_type": "stream",
          "text": [
            " ang  sad  hap  neu\n",
            " 100   15   18   15\n",
            "   1  125    2    5\n",
            "  16   44   80   18\n",
            "  19   65   22   84\n",
            "6 8\n",
            "Epoch 9  (lr = 1e-05)        Loss: 0.7220 - 0.9969 - WA: 61.84% <63.75%> - UA: 64.10% <65.49%>\n"
          ]
        },
        {
          "name": "stderr",
          "output_type": "stream",
          "text": [
            "100%|██████████| 274/274 [01:06<00:00,  4.14it/s]\n",
            "100%|██████████| 20/20 [00:03<00:00,  6.13it/s]\n"
          ]
        },
        {
          "name": "stdout",
          "output_type": "stream",
          "text": [
            " ang  sad  hap  neu\n",
            " 108    7   16   17\n",
            "   1  112    6   14\n",
            "  16   29   90   23\n",
            "  15   40   30  105\n",
            "True\n",
            "9 9\n",
            "Epoch 10  (lr = 1e-05)        Loss: 0.6832 - 0.9366 - WA: 65.98% <65.98%> - UA: 67.35% <67.35%>\n"
          ]
        },
        {
          "name": "stderr",
          "output_type": "stream",
          "text": [
            "100%|██████████| 274/274 [01:06<00:00,  4.10it/s]\n",
            "100%|██████████| 20/20 [00:03<00:00,  6.16it/s]\n"
          ]
        },
        {
          "name": "stdout",
          "output_type": "stream",
          "text": [
            " ang  sad  hap  neu\n",
            " 105    5   10   28\n",
            "   2  114    0   17\n",
            "  17   31   75   35\n",
            "  15   46   11  118\n",
            "9 10\n",
            "Epoch 11  (lr = 1e-05)        Loss: 0.6401 - 1.0082 - WA: 65.50% <65.98%> - UA: 66.56% <67.35%>\n"
          ]
        },
        {
          "name": "stderr",
          "output_type": "stream",
          "text": [
            "100%|██████████| 274/274 [01:06<00:00,  4.11it/s]\n",
            "100%|██████████| 20/20 [00:03<00:00,  6.18it/s]\n"
          ]
        },
        {
          "name": "stdout",
          "output_type": "stream",
          "text": [
            " ang  sad  hap  neu\n",
            " 110    6   14   18\n",
            "   2  117    2   12\n",
            "  21   32   81   24\n",
            "  20   45   15  110\n",
            "True\n",
            "11 11\n",
            "Epoch 12  (lr = 1e-05)        Loss: 0.6009 - 1.0371 - WA: 66.45% <66.45%> - UA: 67.86% <67.86%>\n"
          ]
        },
        {
          "name": "stderr",
          "output_type": "stream",
          "text": [
            "100%|██████████| 274/274 [01:06<00:00,  4.12it/s]\n",
            "100%|██████████| 20/20 [00:03<00:00,  6.18it/s]\n"
          ]
        },
        {
          "name": "stdout",
          "output_type": "stream",
          "text": [
            " ang  sad  hap  neu\n",
            " 103   11   17   17\n",
            "   1  125    2    5\n",
            "  15   38   84   21\n",
            "  11   58   16  105\n",
            "11 12\n",
            "Epoch 13  (lr = 1e-05)        Loss: 0.5811 - 0.9961 - WA: 66.30% <66.45%> - UA: 68.00% <67.86%>\n"
          ]
        },
        {
          "name": "stderr",
          "output_type": "stream",
          "text": [
            "100%|██████████| 274/274 [01:06<00:00,  4.12it/s]\n",
            "100%|██████████| 20/20 [00:03<00:00,  6.15it/s]\n"
          ]
        },
        {
          "name": "stdout",
          "output_type": "stream",
          "text": [
            " ang  sad  hap  neu\n",
            " 108   11    9   20\n",
            "   1  118    1   13\n",
            "  17   36   73   32\n",
            "  13   51    6  120\n",
            "True\n",
            "13 13\n",
            "Epoch 14  (lr = 1e-05)        Loss: 0.5350 - 1.0423 - WA: 66.61% <66.61%> - UA: 67.76% <67.76%>\n"
          ]
        },
        {
          "name": "stderr",
          "output_type": "stream",
          "text": [
            "100%|██████████| 274/274 [01:06<00:00,  4.14it/s]\n",
            "100%|██████████| 20/20 [00:03<00:00,  6.16it/s]\n"
          ]
        },
        {
          "name": "stdout",
          "output_type": "stream",
          "text": [
            " ang  sad  hap  neu\n",
            " 100    7   16   25\n",
            "   1  115    4   13\n",
            "   9   32   87   30\n",
            "   7   44   19  120\n",
            "True\n",
            "14 14\n",
            "Epoch 15  (lr = 1e-05)        Loss: 0.5142 - 1.0447 - WA: 67.09% <67.09%> - UA: 68.06% <68.06%>\n"
          ]
        },
        {
          "name": "stderr",
          "output_type": "stream",
          "text": [
            "100%|██████████| 274/274 [01:06<00:00,  4.13it/s]\n",
            "100%|██████████| 20/20 [00:03<00:00,  6.15it/s]\n"
          ]
        },
        {
          "name": "stdout",
          "output_type": "stream",
          "text": [
            " ang  sad  hap  neu\n",
            " 105    3   27   13\n",
            "   2  118    7    6\n",
            "  14   23  109   12\n",
            "  19   45   37   89\n",
            "True\n",
            "15 15\n",
            "Epoch 16  (lr = 1e-05)        Loss: 0.4918 - 1.0464 - WA: 66.93% <66.93%> - UA: 68.87% <68.87%>\n"
          ]
        },
        {
          "name": "stderr",
          "output_type": "stream",
          "text": [
            "100%|██████████| 274/274 [01:06<00:00,  4.13it/s]\n",
            "100%|██████████| 20/20 [00:03<00:00,  6.19it/s]\n"
          ]
        },
        {
          "name": "stdout",
          "output_type": "stream",
          "text": [
            " ang  sad  hap  neu\n",
            " 101    3   25   19\n",
            "   2  111    4   16\n",
            "  10   25  104   19\n",
            "  12   35   28  115\n",
            "True\n",
            "16 16\n",
            "Epoch 17  (lr = 1e-05)        Loss: 0.4641 - 1.0813 - WA: 68.52% <68.52%> - UA: 69.51% <69.51%>\n"
          ]
        },
        {
          "name": "stderr",
          "output_type": "stream",
          "text": [
            "100%|██████████| 274/274 [01:06<00:00,  4.11it/s]\n",
            "100%|██████████| 20/20 [00:03<00:00,  6.16it/s]\n"
          ]
        },
        {
          "name": "stdout",
          "output_type": "stream",
          "text": [
            " ang  sad  hap  neu\n",
            " 103    8   14   23\n",
            "   1  111    2   19\n",
            "  12   35   80   31\n",
            "   9   43    9  129\n",
            "16 17\n",
            "Epoch 18  (lr = 1e-05)        Loss: 0.4394 - 1.1589 - WA: 67.25% <68.52%> - UA: 67.90% <69.51%>\n"
          ]
        },
        {
          "name": "stderr",
          "output_type": "stream",
          "text": [
            "100%|██████████| 274/274 [01:06<00:00,  4.12it/s]\n",
            "100%|██████████| 20/20 [00:03<00:00,  6.16it/s]\n"
          ]
        },
        {
          "name": "stdout",
          "output_type": "stream",
          "text": [
            " ang  sad  hap  neu\n",
            " 101    5   20   22\n",
            "   1  111    6   15\n",
            "  10   32  101   15\n",
            "  10   47   28  105\n",
            "16 18\n",
            "Epoch 19  (lr = 1e-05)        Loss: 0.4193 - 1.0925 - WA: 66.45% <68.52%> - UA: 67.72% <69.51%>\n"
          ]
        },
        {
          "name": "stderr",
          "output_type": "stream",
          "text": [
            "100%|██████████| 274/274 [01:06<00:00,  4.14it/s]\n",
            "100%|██████████| 20/20 [00:03<00:00,  6.18it/s]\n"
          ]
        },
        {
          "name": "stdout",
          "output_type": "stream",
          "text": [
            " ang  sad  hap  neu\n",
            " 103    0   21   24\n",
            "   3   95    4   31\n",
            "   9   17  110   22\n",
            "  14   22   25  129\n",
            "True\n",
            "19 19\n",
            "Epoch 20  (lr = 1e-05)        Loss: 0.3956 - 1.1843 - WA: 69.48% <69.48%> - UA: 69.63% <69.63%>\n"
          ]
        },
        {
          "name": "stderr",
          "output_type": "stream",
          "text": [
            "100%|██████████| 274/274 [01:06<00:00,  4.09it/s]\n",
            "100%|██████████| 20/20 [00:03<00:00,  6.18it/s]\n"
          ]
        },
        {
          "name": "stdout",
          "output_type": "stream",
          "text": [
            " ang  sad  hap  neu\n",
            "  99    1   19   29\n",
            "   2  101    4   26\n",
            "  11   20   95   32\n",
            "  10   29   10  141\n",
            "19 20\n",
            "Epoch 21  (lr = 1e-05)        Loss: 0.3693 - 1.1582 - WA: 69.32% <69.48%> - UA: 69.29% <69.63%>\n"
          ]
        },
        {
          "name": "stderr",
          "output_type": "stream",
          "text": [
            "100%|██████████| 274/274 [01:06<00:00,  4.13it/s]\n",
            "100%|██████████| 20/20 [00:03<00:00,  6.17it/s]\n"
          ]
        },
        {
          "name": "stdout",
          "output_type": "stream",
          "text": [
            " ang  sad  hap  neu\n",
            " 104    1   19   24\n",
            "   2   89    6   36\n",
            "  11   16  106   25\n",
            "  13   23   19  135\n",
            "19 21\n",
            "Epoch 22  (lr = 1e-05)        Loss: 0.3581 - 1.2003 - WA: 69.00% <69.48%> - UA: 68.83% <69.63%>\n"
          ]
        },
        {
          "name": "stderr",
          "output_type": "stream",
          "text": [
            "100%|██████████| 274/274 [01:06<00:00,  4.13it/s]\n",
            "100%|██████████| 20/20 [00:03<00:00,  6.17it/s]\n"
          ]
        },
        {
          "name": "stdout",
          "output_type": "stream",
          "text": [
            " ang  sad  hap  neu\n",
            " 103   11   17   17\n",
            "   2  119    6    6\n",
            "  13   29   99   17\n",
            "  12   50   25  103\n",
            "19 22\n",
            "Epoch 23  (lr = 1e-05)        Loss: 0.3438 - 1.2576 - WA: 67.41% <69.48%> - UA: 68.98% <69.63%>\n"
          ]
        },
        {
          "name": "stderr",
          "output_type": "stream",
          "text": [
            "100%|██████████| 274/274 [01:06<00:00,  4.12it/s]\n",
            "100%|██████████| 20/20 [00:03<00:00,  6.03it/s]\n"
          ]
        },
        {
          "name": "stdout",
          "output_type": "stream",
          "text": [
            " ang  sad  hap  neu\n",
            "  93    2   28   25\n",
            "   3  103    6   21\n",
            "   7   23  108   20\n",
            "  11   36   19  124\n",
            "19 23\n",
            "Epoch 24  (lr = 1e-05)        Loss: 0.3229 - 1.2875 - WA: 68.04% <69.48%> - UA: 68.47% <69.63%>\n"
          ]
        },
        {
          "name": "stderr",
          "output_type": "stream",
          "text": [
            "100%|██████████| 274/274 [01:06<00:00,  4.12it/s]\n",
            "100%|██████████| 20/20 [00:03<00:00,  6.16it/s]\n"
          ]
        },
        {
          "name": "stdout",
          "output_type": "stream",
          "text": [
            " ang  sad  hap  neu\n",
            " 101    0   20   27\n",
            "   2   93    8   30\n",
            "  10   12  112   24\n",
            "   8   24   22  136\n",
            "True\n",
            "24 24\n",
            "Epoch 25  (lr = 1e-05)        Loss: 0.3003 - 1.2563 - WA: 70.27% <70.27%> - UA: 70.16% <70.16%>\n"
          ]
        },
        {
          "name": "stderr",
          "output_type": "stream",
          "text": [
            "100%|██████████| 274/274 [01:06<00:00,  4.14it/s]\n",
            "100%|██████████| 20/20 [00:03<00:00,  6.17it/s]\n"
          ]
        },
        {
          "name": "stdout",
          "output_type": "stream",
          "text": [
            " ang  sad  hap  neu\n",
            "  99    9   27   13\n",
            "   2  113   10    8\n",
            "  10   25  114    9\n",
            "  10   44   43   93\n",
            "24 25\n",
            "Epoch 26  (lr = 1e-05)        Loss: 0.3095 - 1.2244 - WA: 66.61% <70.27%> - UA: 68.24% <70.16%>\n"
          ]
        },
        {
          "name": "stderr",
          "output_type": "stream",
          "text": [
            "100%|██████████| 274/274 [01:06<00:00,  4.11it/s]\n",
            "100%|██████████| 20/20 [00:03<00:00,  6.16it/s]\n"
          ]
        },
        {
          "name": "stdout",
          "output_type": "stream",
          "text": [
            " ang  sad  hap  neu\n",
            " 107    2   15   24\n",
            "   2  103    4   24\n",
            "   8   16  109   25\n",
            "  11   29   19  131\n",
            "True\n",
            "26 26\n",
            "Epoch 27  (lr = 1e-05)        Loss: 0.2734 - 1.2847 - WA: 71.54% <71.54%> - UA: 71.92% <71.92%>\n"
          ]
        },
        {
          "name": "stderr",
          "output_type": "stream",
          "text": [
            "100%|██████████| 274/274 [01:06<00:00,  4.11it/s]\n",
            "100%|██████████| 20/20 [00:03<00:00,  6.14it/s]\n"
          ]
        },
        {
          "name": "stdout",
          "output_type": "stream",
          "text": [
            " ang  sad  hap  neu\n",
            "  95    6   23   24\n",
            "   2   99    4   28\n",
            "   8   19  100   31\n",
            "   7   29   15  139\n",
            "26 27\n",
            "Epoch 28  (lr = 1e-05)        Loss: 0.2740 - 1.4003 - WA: 68.84% <71.54%> - UA: 68.77% <71.92%>\n"
          ]
        },
        {
          "name": "stderr",
          "output_type": "stream",
          "text": [
            "100%|██████████| 274/274 [01:06<00:00,  4.12it/s]\n",
            "100%|██████████| 20/20 [00:03<00:00,  6.16it/s]\n"
          ]
        },
        {
          "name": "stdout",
          "output_type": "stream",
          "text": [
            " ang  sad  hap  neu\n",
            " 105    1   20   22\n",
            "   3  101    9   20\n",
            "  11   15  110   22\n",
            "  11   27   21  131\n",
            "26 28\n",
            "Epoch 29  (lr = 1e-05)        Loss: 0.2634 - 1.3145 - WA: 71.07% <71.54%> - UA: 71.36% <71.92%>\n"
          ]
        },
        {
          "name": "stderr",
          "output_type": "stream",
          "text": [
            "100%|██████████| 274/274 [01:06<00:00,  4.12it/s]\n",
            "100%|██████████| 20/20 [00:03<00:00,  6.17it/s]\n"
          ]
        },
        {
          "name": "stdout",
          "output_type": "stream",
          "text": [
            " ang  sad  hap  neu\n",
            "  98    6   22   22\n",
            "   2  111    5   15\n",
            "   7   23  111   17\n",
            "   9   42   22  117\n",
            "26 29\n",
            "Epoch 30  (lr = 1e-05)        Loss: 0.2475 - 1.3004 - WA: 69.48% <71.54%> - UA: 70.38% <71.92%>\n"
          ]
        },
        {
          "name": "stderr",
          "output_type": "stream",
          "text": [
            "100%|██████████| 274/274 [01:06<00:00,  4.10it/s]\n",
            "100%|██████████| 20/20 [00:03<00:00,  6.16it/s]\n"
          ]
        },
        {
          "name": "stdout",
          "output_type": "stream",
          "text": [
            " ang  sad  hap  neu\n",
            "  98    1   28   21\n",
            "   2  100    9   22\n",
            "   5   17  122   14\n",
            "  10   33   35  112\n",
            "26 30\n",
            "Epoch 31  (lr = 1e-05)        Loss: 0.2460 - 1.2974 - WA: 68.68% <71.54%> - UA: 69.39% <71.92%>\n"
          ]
        },
        {
          "name": "stderr",
          "output_type": "stream",
          "text": [
            "100%|██████████| 274/274 [01:06<00:00,  4.12it/s]\n",
            "100%|██████████| 20/20 [00:03<00:00,  6.18it/s]\n"
          ]
        },
        {
          "name": "stdout",
          "output_type": "stream",
          "text": [
            " ang  sad  hap  neu\n",
            " 111    1   18   18\n",
            "   3  109    8   13\n",
            "  15   20  109   14\n",
            "  16   34   25  115\n",
            "26 31\n",
            "Epoch 32  (lr = 1e-05)        Loss: 0.2281 - 1.3558 - WA: 70.59% <71.54%> - UA: 71.62% <71.92%>\n"
          ]
        },
        {
          "name": "stderr",
          "output_type": "stream",
          "text": [
            " 86%|████████▌ | 235/274 [00:57<00:09,  4.12it/s]\n"
          ]
        },
        {
          "ename": "KeyboardInterrupt",
          "evalue": "",
          "output_type": "error",
          "traceback": [
            "\u001b[0;31m---------------------------------------------------------------------------\u001b[0m",
            "\u001b[0;31mKeyboardInterrupt\u001b[0m                         Traceback (most recent call last)",
            "Cell \u001b[0;32mIn[2], line 72\u001b[0m\n\u001b[1;32m     51\u001b[0m \u001b[38;5;28;01mfor\u001b[39;00m v_id, t_id \u001b[38;5;129;01min\u001b[39;00m \u001b[38;5;28mlist\u001b[39m(\u001b[38;5;28mzip\u001b[39m(val_id, test_id)):\n\u001b[1;32m     53\u001b[0m     train_ser\u001b[38;5;241m.\u001b[39msys\u001b[38;5;241m.\u001b[39margv      \u001b[38;5;241m=\u001b[39m [\n\u001b[1;32m     54\u001b[0m \n\u001b[1;32m     55\u001b[0m                               \u001b[38;5;124m'\u001b[39m\u001b[38;5;124mtrain_ser.py\u001b[39m\u001b[38;5;124m'\u001b[39m,\n\u001b[0;32m   (...)\u001b[0m\n\u001b[1;32m     68\u001b[0m                               \u001b[38;5;124m'\u001b[39m\u001b[38;5;124m--pretrained\u001b[39m\u001b[38;5;124m'\u001b[39m\n\u001b[1;32m     69\u001b[0m                               ]\n\u001b[0;32m---> 72\u001b[0m     stat \u001b[38;5;241m=\u001b[39m \u001b[43mtrain_ser\u001b[49m\u001b[38;5;241;43m.\u001b[39;49m\u001b[43mmain\u001b[49m\u001b[43m(\u001b[49m\u001b[43mparse_arguments\u001b[49m\u001b[43m(\u001b[49m\u001b[43msys\u001b[49m\u001b[38;5;241;43m.\u001b[39;49m\u001b[43margv\u001b[49m\u001b[43m[\u001b[49m\u001b[38;5;241;43m1\u001b[39;49m\u001b[43m:\u001b[49m\u001b[43m]\u001b[49m\u001b[43m)\u001b[49m\u001b[43m)\u001b[49m\n\u001b[1;32m     73\u001b[0m     all_stat\u001b[38;5;241m.\u001b[39mappend(stat)\n\u001b[1;32m     74\u001b[0m     os\u001b[38;5;241m.\u001b[39mremove(save_label\u001b[38;5;241m+\u001b[39m\u001b[38;5;124m'\u001b[39m\u001b[38;5;124m.pth\u001b[39m\u001b[38;5;124m'\u001b[39m)\n",
            "File \u001b[0;32m~/Desktop/Swathi/Harsukh/CA-MSER/train_ser.py:78\u001b[0m, in \u001b[0;36mmain\u001b[0;34m(args)\u001b[0m\n\u001b[1;32m     72\u001b[0m ser_dataset \u001b[38;5;241m=\u001b[39m SERDataset(features_data,\n\u001b[1;32m     73\u001b[0m                            val_speaker_id\u001b[38;5;241m=\u001b[39margs\u001b[38;5;241m.\u001b[39mval_id,\n\u001b[1;32m     74\u001b[0m                            test_speaker_id\u001b[38;5;241m=\u001b[39margs\u001b[38;5;241m.\u001b[39mtest_id,\n\u001b[1;32m     75\u001b[0m                            oversample\u001b[38;5;241m=\u001b[39margs\u001b[38;5;241m.\u001b[39moversampling\n\u001b[1;32m     76\u001b[0m                            )\n\u001b[1;32m     77\u001b[0m \u001b[38;5;66;03m# Train\u001b[39;00m\n\u001b[0;32m---> 78\u001b[0m train_stat \u001b[38;5;241m=\u001b[39m \u001b[43mtrain\u001b[49m\u001b[43m(\u001b[49m\u001b[43mser_dataset\u001b[49m\u001b[43m,\u001b[49m\u001b[43m \u001b[49m\u001b[43mparams\u001b[49m\u001b[43m,\u001b[49m\u001b[43m \u001b[49m\u001b[43msave_label\u001b[49m\u001b[38;5;241;43m=\u001b[39;49m\u001b[43margs\u001b[49m\u001b[38;5;241;43m.\u001b[39;49m\u001b[43msave_label\u001b[49m\u001b[43m)\u001b[49m\n\u001b[1;32m     80\u001b[0m \u001b[38;5;28;01mreturn\u001b[39;00m train_stat\n",
            "File \u001b[0;32m~/Desktop/Swathi/Harsukh/CA-MSER/train_ser.py:453\u001b[0m, in \u001b[0;36mtrain\u001b[0;34m(dataset, params, save_label)\u001b[0m\n\u001b[1;32m    450\u001b[0m train_labels_batch \u001b[38;5;241m=\u001b[39m  train_batch[\u001b[38;5;124m'\u001b[39m\u001b[38;5;124mseg_label\u001b[39m\u001b[38;5;124m'\u001b[39m]\u001b[38;5;241m.\u001b[39mto(device,dtype\u001b[38;5;241m=\u001b[39mtorch\u001b[38;5;241m.\u001b[39mlong)\n\u001b[1;32m    452\u001b[0m \u001b[38;5;66;03m# Forward pass\u001b[39;00m\n\u001b[0;32m--> 453\u001b[0m outputs \u001b[38;5;241m=\u001b[39m \u001b[43mmodel\u001b[49m\u001b[43m(\u001b[49m\u001b[43mtrain_data_spec_batch\u001b[49m\u001b[43m,\u001b[49m\u001b[43m \u001b[49m\u001b[43mtrain_data_mfcc_batch\u001b[49m\u001b[43m,\u001b[49m\u001b[43m \u001b[49m\u001b[43mtrain_data_audio_batch\u001b[49m\u001b[43m)\u001b[49m\n\u001b[1;32m    455\u001b[0m \u001b[38;5;66;03m#for m in params['ser_task']:\u001b[39;00m\n\u001b[1;32m    456\u001b[0m \u001b[38;5;66;03m#    y_pred[m].append(f.log_softmax(outputs[m], dim=1).cpu().detach().numpy())\u001b[39;00m\n\u001b[1;32m    457\u001b[0m \u001b[38;5;66;03m#    y_true.append\u001b[39;00m\n\u001b[1;32m    459\u001b[0m train_preds\u001b[38;5;241m.\u001b[39mappend(f\u001b[38;5;241m.\u001b[39mlog_softmax(outputs[\u001b[38;5;124m'\u001b[39m\u001b[38;5;124mM\u001b[39m\u001b[38;5;124m'\u001b[39m], dim\u001b[38;5;241m=\u001b[39m\u001b[38;5;241m1\u001b[39m)\u001b[38;5;241m.\u001b[39mcpu()\u001b[38;5;241m.\u001b[39mdetach()\u001b[38;5;241m.\u001b[39mnumpy())\n",
            "File \u001b[0;32m~/anaconda3/envs/hss/lib/python3.10/site-packages/torch/nn/modules/module.py:1518\u001b[0m, in \u001b[0;36mModule._wrapped_call_impl\u001b[0;34m(self, *args, **kwargs)\u001b[0m\n\u001b[1;32m   1516\u001b[0m     \u001b[38;5;28;01mreturn\u001b[39;00m \u001b[38;5;28mself\u001b[39m\u001b[38;5;241m.\u001b[39m_compiled_call_impl(\u001b[38;5;241m*\u001b[39margs, \u001b[38;5;241m*\u001b[39m\u001b[38;5;241m*\u001b[39mkwargs)  \u001b[38;5;66;03m# type: ignore[misc]\u001b[39;00m\n\u001b[1;32m   1517\u001b[0m \u001b[38;5;28;01melse\u001b[39;00m:\n\u001b[0;32m-> 1518\u001b[0m     \u001b[38;5;28;01mreturn\u001b[39;00m \u001b[38;5;28;43mself\u001b[39;49m\u001b[38;5;241;43m.\u001b[39;49m\u001b[43m_call_impl\u001b[49m\u001b[43m(\u001b[49m\u001b[38;5;241;43m*\u001b[39;49m\u001b[43margs\u001b[49m\u001b[43m,\u001b[49m\u001b[43m \u001b[49m\u001b[38;5;241;43m*\u001b[39;49m\u001b[38;5;241;43m*\u001b[39;49m\u001b[43mkwargs\u001b[49m\u001b[43m)\u001b[49m\n",
            "File \u001b[0;32m~/anaconda3/envs/hss/lib/python3.10/site-packages/torch/nn/modules/module.py:1527\u001b[0m, in \u001b[0;36mModule._call_impl\u001b[0;34m(self, *args, **kwargs)\u001b[0m\n\u001b[1;32m   1522\u001b[0m \u001b[38;5;66;03m# If we don't have any hooks, we want to skip the rest of the logic in\u001b[39;00m\n\u001b[1;32m   1523\u001b[0m \u001b[38;5;66;03m# this function, and just call forward.\u001b[39;00m\n\u001b[1;32m   1524\u001b[0m \u001b[38;5;28;01mif\u001b[39;00m \u001b[38;5;129;01mnot\u001b[39;00m (\u001b[38;5;28mself\u001b[39m\u001b[38;5;241m.\u001b[39m_backward_hooks \u001b[38;5;129;01mor\u001b[39;00m \u001b[38;5;28mself\u001b[39m\u001b[38;5;241m.\u001b[39m_backward_pre_hooks \u001b[38;5;129;01mor\u001b[39;00m \u001b[38;5;28mself\u001b[39m\u001b[38;5;241m.\u001b[39m_forward_hooks \u001b[38;5;129;01mor\u001b[39;00m \u001b[38;5;28mself\u001b[39m\u001b[38;5;241m.\u001b[39m_forward_pre_hooks\n\u001b[1;32m   1525\u001b[0m         \u001b[38;5;129;01mor\u001b[39;00m _global_backward_pre_hooks \u001b[38;5;129;01mor\u001b[39;00m _global_backward_hooks\n\u001b[1;32m   1526\u001b[0m         \u001b[38;5;129;01mor\u001b[39;00m _global_forward_hooks \u001b[38;5;129;01mor\u001b[39;00m _global_forward_pre_hooks):\n\u001b[0;32m-> 1527\u001b[0m     \u001b[38;5;28;01mreturn\u001b[39;00m \u001b[43mforward_call\u001b[49m\u001b[43m(\u001b[49m\u001b[38;5;241;43m*\u001b[39;49m\u001b[43margs\u001b[49m\u001b[43m,\u001b[49m\u001b[43m \u001b[49m\u001b[38;5;241;43m*\u001b[39;49m\u001b[38;5;241;43m*\u001b[39;49m\u001b[43mkwargs\u001b[49m\u001b[43m)\u001b[49m\n\u001b[1;32m   1529\u001b[0m \u001b[38;5;28;01mtry\u001b[39;00m:\n\u001b[1;32m   1530\u001b[0m     result \u001b[38;5;241m=\u001b[39m \u001b[38;5;28;01mNone\u001b[39;00m\n",
            "File \u001b[0;32m~/Desktop/Swathi/Harsukh/CA-MSER/models/ser_model.py:80\u001b[0m, in \u001b[0;36mSer_Model.forward\u001b[0;34m(self, audio_spec, audio_mfcc, audio_wav)\u001b[0m\n\u001b[1;32m     76\u001b[0m audio_spec_mfcc_att_p \u001b[38;5;241m=\u001b[39m audio_spec_mfcc_att_p\u001b[38;5;241m.\u001b[39mreshape(audio_spec_mfcc_att_p\u001b[38;5;241m.\u001b[39mshape[\u001b[38;5;241m0\u001b[39m], \u001b[38;5;241m1\u001b[39m, \u001b[38;5;241m-\u001b[39m\u001b[38;5;241m1\u001b[39m)\u001b[38;5;66;03m# [batch, 1, 149] \u001b[39;00m\n\u001b[1;32m     77\u001b[0m \u001b[38;5;66;03m#+ audio_spec_mfcc_att_2 = F.softmax(audio_spec_mfcc_att_1, dim=2)\u001b[39;00m\n\u001b[1;32m     78\u001b[0m \n\u001b[1;32m     79\u001b[0m \u001b[38;5;66;03m# wav2vec 2.0 \u001b[39;00m\n\u001b[0;32m---> 80\u001b[0m audio_wav \u001b[38;5;241m=\u001b[39m \u001b[38;5;28;43mself\u001b[39;49m\u001b[38;5;241;43m.\u001b[39;49m\u001b[43mwav2vec2_model\u001b[49m\u001b[43m(\u001b[49m\u001b[43maudio_wav\u001b[49m\u001b[38;5;241;43m.\u001b[39;49m\u001b[43mcuda\u001b[49m\u001b[43m(\u001b[49m\u001b[43m)\u001b[49m\u001b[43m)\u001b[49m\u001b[38;5;241m.\u001b[39mlast_hidden_state \u001b[38;5;66;03m# [batch, 149, 768] \u001b[39;00m\n\u001b[1;32m     81\u001b[0m audio_wav \u001b[38;5;241m=\u001b[39m torch\u001b[38;5;241m.\u001b[39mmatmul(audio_spec_mfcc_att_p, audio_wav) \u001b[38;5;66;03m# [batch, 1, 768] \u001b[39;00m\n\u001b[1;32m     82\u001b[0m audio_wav \u001b[38;5;241m=\u001b[39m audio_wav\u001b[38;5;241m.\u001b[39mreshape(audio_wav\u001b[38;5;241m.\u001b[39mshape[\u001b[38;5;241m0\u001b[39m], \u001b[38;5;241m-\u001b[39m\u001b[38;5;241m1\u001b[39m) \u001b[38;5;66;03m# [batch, 768] \u001b[39;00m\n",
            "File \u001b[0;32m~/anaconda3/envs/hss/lib/python3.10/site-packages/torch/nn/modules/module.py:1518\u001b[0m, in \u001b[0;36mModule._wrapped_call_impl\u001b[0;34m(self, *args, **kwargs)\u001b[0m\n\u001b[1;32m   1516\u001b[0m     \u001b[38;5;28;01mreturn\u001b[39;00m \u001b[38;5;28mself\u001b[39m\u001b[38;5;241m.\u001b[39m_compiled_call_impl(\u001b[38;5;241m*\u001b[39margs, \u001b[38;5;241m*\u001b[39m\u001b[38;5;241m*\u001b[39mkwargs)  \u001b[38;5;66;03m# type: ignore[misc]\u001b[39;00m\n\u001b[1;32m   1517\u001b[0m \u001b[38;5;28;01melse\u001b[39;00m:\n\u001b[0;32m-> 1518\u001b[0m     \u001b[38;5;28;01mreturn\u001b[39;00m \u001b[38;5;28;43mself\u001b[39;49m\u001b[38;5;241;43m.\u001b[39;49m\u001b[43m_call_impl\u001b[49m\u001b[43m(\u001b[49m\u001b[38;5;241;43m*\u001b[39;49m\u001b[43margs\u001b[49m\u001b[43m,\u001b[49m\u001b[43m \u001b[49m\u001b[38;5;241;43m*\u001b[39;49m\u001b[38;5;241;43m*\u001b[39;49m\u001b[43mkwargs\u001b[49m\u001b[43m)\u001b[49m\n",
            "File \u001b[0;32m~/anaconda3/envs/hss/lib/python3.10/site-packages/torch/nn/modules/module.py:1527\u001b[0m, in \u001b[0;36mModule._call_impl\u001b[0;34m(self, *args, **kwargs)\u001b[0m\n\u001b[1;32m   1522\u001b[0m \u001b[38;5;66;03m# If we don't have any hooks, we want to skip the rest of the logic in\u001b[39;00m\n\u001b[1;32m   1523\u001b[0m \u001b[38;5;66;03m# this function, and just call forward.\u001b[39;00m\n\u001b[1;32m   1524\u001b[0m \u001b[38;5;28;01mif\u001b[39;00m \u001b[38;5;129;01mnot\u001b[39;00m (\u001b[38;5;28mself\u001b[39m\u001b[38;5;241m.\u001b[39m_backward_hooks \u001b[38;5;129;01mor\u001b[39;00m \u001b[38;5;28mself\u001b[39m\u001b[38;5;241m.\u001b[39m_backward_pre_hooks \u001b[38;5;129;01mor\u001b[39;00m \u001b[38;5;28mself\u001b[39m\u001b[38;5;241m.\u001b[39m_forward_hooks \u001b[38;5;129;01mor\u001b[39;00m \u001b[38;5;28mself\u001b[39m\u001b[38;5;241m.\u001b[39m_forward_pre_hooks\n\u001b[1;32m   1525\u001b[0m         \u001b[38;5;129;01mor\u001b[39;00m _global_backward_pre_hooks \u001b[38;5;129;01mor\u001b[39;00m _global_backward_hooks\n\u001b[1;32m   1526\u001b[0m         \u001b[38;5;129;01mor\u001b[39;00m _global_forward_hooks \u001b[38;5;129;01mor\u001b[39;00m _global_forward_pre_hooks):\n\u001b[0;32m-> 1527\u001b[0m     \u001b[38;5;28;01mreturn\u001b[39;00m \u001b[43mforward_call\u001b[49m\u001b[43m(\u001b[49m\u001b[38;5;241;43m*\u001b[39;49m\u001b[43margs\u001b[49m\u001b[43m,\u001b[49m\u001b[43m \u001b[49m\u001b[38;5;241;43m*\u001b[39;49m\u001b[38;5;241;43m*\u001b[39;49m\u001b[43mkwargs\u001b[49m\u001b[43m)\u001b[49m\n\u001b[1;32m   1529\u001b[0m \u001b[38;5;28;01mtry\u001b[39;00m:\n\u001b[1;32m   1530\u001b[0m     result \u001b[38;5;241m=\u001b[39m \u001b[38;5;28;01mNone\u001b[39;00m\n",
            "File \u001b[0;32m~/.local/lib/python3.10/site-packages/transformers/models/wav2vec2/modeling_wav2vec2.py:1557\u001b[0m, in \u001b[0;36mWav2Vec2Model.forward\u001b[0;34m(self, input_values, attention_mask, mask_time_indices, output_attentions, output_hidden_states, return_dict)\u001b[0m\n\u001b[1;32m   1552\u001b[0m     attention_mask \u001b[38;5;241m=\u001b[39m \u001b[38;5;28mself\u001b[39m\u001b[38;5;241m.\u001b[39m_get_feature_vector_attention_mask(\n\u001b[1;32m   1553\u001b[0m         extract_features\u001b[38;5;241m.\u001b[39mshape[\u001b[38;5;241m1\u001b[39m], attention_mask, add_adapter\u001b[38;5;241m=\u001b[39m\u001b[38;5;28;01mFalse\u001b[39;00m\n\u001b[1;32m   1554\u001b[0m     )\n\u001b[1;32m   1556\u001b[0m hidden_states, extract_features \u001b[38;5;241m=\u001b[39m \u001b[38;5;28mself\u001b[39m\u001b[38;5;241m.\u001b[39mfeature_projection(extract_features)\n\u001b[0;32m-> 1557\u001b[0m hidden_states \u001b[38;5;241m=\u001b[39m \u001b[38;5;28;43mself\u001b[39;49m\u001b[38;5;241;43m.\u001b[39;49m\u001b[43m_mask_hidden_states\u001b[49m\u001b[43m(\u001b[49m\n\u001b[1;32m   1558\u001b[0m \u001b[43m    \u001b[49m\u001b[43mhidden_states\u001b[49m\u001b[43m,\u001b[49m\u001b[43m \u001b[49m\u001b[43mmask_time_indices\u001b[49m\u001b[38;5;241;43m=\u001b[39;49m\u001b[43mmask_time_indices\u001b[49m\u001b[43m,\u001b[49m\u001b[43m \u001b[49m\u001b[43mattention_mask\u001b[49m\u001b[38;5;241;43m=\u001b[39;49m\u001b[43mattention_mask\u001b[49m\n\u001b[1;32m   1559\u001b[0m \u001b[43m\u001b[49m\u001b[43m)\u001b[49m\n\u001b[1;32m   1561\u001b[0m encoder_outputs \u001b[38;5;241m=\u001b[39m \u001b[38;5;28mself\u001b[39m\u001b[38;5;241m.\u001b[39mencoder(\n\u001b[1;32m   1562\u001b[0m     hidden_states,\n\u001b[1;32m   1563\u001b[0m     attention_mask\u001b[38;5;241m=\u001b[39mattention_mask,\n\u001b[0;32m   (...)\u001b[0m\n\u001b[1;32m   1566\u001b[0m     return_dict\u001b[38;5;241m=\u001b[39mreturn_dict,\n\u001b[1;32m   1567\u001b[0m )\n\u001b[1;32m   1569\u001b[0m hidden_states \u001b[38;5;241m=\u001b[39m encoder_outputs[\u001b[38;5;241m0\u001b[39m]\n",
            "File \u001b[0;32m~/.local/lib/python3.10/site-packages/transformers/models/wav2vec2/modeling_wav2vec2.py:1507\u001b[0m, in \u001b[0;36mWav2Vec2Model._mask_hidden_states\u001b[0;34m(self, hidden_states, mask_time_indices, attention_mask)\u001b[0m\n\u001b[1;32m   1499\u001b[0m \u001b[38;5;28;01melif\u001b[39;00m \u001b[38;5;28mself\u001b[39m\u001b[38;5;241m.\u001b[39mconfig\u001b[38;5;241m.\u001b[39mmask_time_prob \u001b[38;5;241m>\u001b[39m \u001b[38;5;241m0\u001b[39m \u001b[38;5;129;01mand\u001b[39;00m \u001b[38;5;28mself\u001b[39m\u001b[38;5;241m.\u001b[39mtraining:\n\u001b[1;32m   1500\u001b[0m     mask_time_indices \u001b[38;5;241m=\u001b[39m _compute_mask_indices(\n\u001b[1;32m   1501\u001b[0m         (batch_size, sequence_length),\n\u001b[1;32m   1502\u001b[0m         mask_prob\u001b[38;5;241m=\u001b[39m\u001b[38;5;28mself\u001b[39m\u001b[38;5;241m.\u001b[39mconfig\u001b[38;5;241m.\u001b[39mmask_time_prob,\n\u001b[0;32m   (...)\u001b[0m\n\u001b[1;32m   1505\u001b[0m         min_masks\u001b[38;5;241m=\u001b[39m\u001b[38;5;28mself\u001b[39m\u001b[38;5;241m.\u001b[39mconfig\u001b[38;5;241m.\u001b[39mmask_time_min_masks,\n\u001b[1;32m   1506\u001b[0m     )\n\u001b[0;32m-> 1507\u001b[0m     mask_time_indices \u001b[38;5;241m=\u001b[39m \u001b[43mtorch\u001b[49m\u001b[38;5;241;43m.\u001b[39;49m\u001b[43mtensor\u001b[49m\u001b[43m(\u001b[49m\u001b[43mmask_time_indices\u001b[49m\u001b[43m,\u001b[49m\u001b[43m \u001b[49m\u001b[43mdevice\u001b[49m\u001b[38;5;241;43m=\u001b[39;49m\u001b[43mhidden_states\u001b[49m\u001b[38;5;241;43m.\u001b[39;49m\u001b[43mdevice\u001b[49m\u001b[43m,\u001b[49m\u001b[43m \u001b[49m\u001b[43mdtype\u001b[49m\u001b[38;5;241;43m=\u001b[39;49m\u001b[43mtorch\u001b[49m\u001b[38;5;241;43m.\u001b[39;49m\u001b[43mbool\u001b[49m\u001b[43m)\u001b[49m\n\u001b[1;32m   1508\u001b[0m     hidden_states[mask_time_indices] \u001b[38;5;241m=\u001b[39m \u001b[38;5;28mself\u001b[39m\u001b[38;5;241m.\u001b[39mmasked_spec_embed\u001b[38;5;241m.\u001b[39mto(hidden_states\u001b[38;5;241m.\u001b[39mdtype)\n\u001b[1;32m   1510\u001b[0m \u001b[38;5;28;01mif\u001b[39;00m \u001b[38;5;28mself\u001b[39m\u001b[38;5;241m.\u001b[39mconfig\u001b[38;5;241m.\u001b[39mmask_feature_prob \u001b[38;5;241m>\u001b[39m \u001b[38;5;241m0\u001b[39m \u001b[38;5;129;01mand\u001b[39;00m \u001b[38;5;28mself\u001b[39m\u001b[38;5;241m.\u001b[39mtraining:\n\u001b[1;32m   1511\u001b[0m     \u001b[38;5;66;03m# generate indices & apply SpecAugment along feature axis\u001b[39;00m\n",
            "\u001b[0;31mKeyboardInterrupt\u001b[0m: "
          ]
        }
      ],
      "source": [
        "import sys\n",
        "import os\n",
        "import time\n",
        "import json  # Import json for saving results\n",
        "\n",
        "# Add the path to the directory containing train_ser.py to the Python path\n",
        "sys.path.append('CA-MSER')  # Change the path if train_ser.py is in a different directory\n",
        "\n",
        "import train_ser\n",
        "from train_ser import parse_arguments\n",
        "import sys\n",
        "import pickle\n",
        "import os\n",
        "import time\n",
        "\n",
        "\n",
        "repeat_kfold = 2 # to  perform 10-fold for n-times with different seed\n",
        "localtime = time.localtime(time.time())\n",
        "str_time = f'{str(localtime.tm_year)}-{str(localtime.tm_mon)}-{str(localtime.tm_mday)}-{str(localtime.tm_hour)}-{str(localtime.tm_min)}'\n",
        "\n",
        "#------------PARAMETERS---------------#\n",
        "\n",
        "features_file = 'IEMOCAP_multi.pkl'\n",
        "\n",
        "#  leave-one-speaker-out\n",
        "# val_id = ['1M','1F','2M','2F','3M','3F','4M','4F','5M','5F']\n",
        "# test_id = ['1M','1F','2M','2F','3M','3F','4M','4F','5M','5F']\n",
        "\n",
        "#  leave-one-session-out\n",
        "val_id = ['1M','2M','3M','4M','5M']\n",
        "test_id = ['1F','2F','3F','4F','5F']\n",
        "\n",
        "num_epochs  = '50'\n",
        "early_stop = '10'\n",
        "batch_size  = '32'\n",
        "lr          = '0.00001'\n",
        "random_seed = 111\n",
        "gpu = '1'\n",
        "gpu_ids = ['0']\n",
        "save_label = str_time#'0930_01'#'alexnet_pm_0704'\n",
        "\n",
        "\n",
        "#Start Cross Validation\n",
        "all_stat = []\n",
        "\n",
        "for repeat in range(repeat_kfold):\n",
        "\n",
        "    random_seed +=  (repeat*100)\n",
        "    seed = str(random_seed)\n",
        "\n",
        "    for v_id, t_id in list(zip(val_id, test_id)):\n",
        "\n",
        "        train_ser.sys.argv      = [\n",
        "\n",
        "                                  'train_ser.py',\n",
        "                                  features_file,\n",
        "                                  '--repeat_idx', str(repeat),\n",
        "                                  '--val_id',v_id,\n",
        "                                  '--test_id', t_id,\n",
        "                                  '--gpu', gpu,\n",
        "                                  '--gpu_ids', gpu_ids,\n",
        "                                  '--num_epochs', num_epochs,\n",
        "                                  '--early_stop', early_stop,\n",
        "                                  '--batch_size', batch_size,\n",
        "                                  '--lr', lr,\n",
        "                                  '--seed', seed,\n",
        "                                  '--save_label', save_label,#,\n",
        "                                  '--pretrained'\n",
        "                                  ]\n",
        "\n",
        "\n",
        "        stat = train_ser.main(parse_arguments(sys.argv[1:]))\n",
        "        all_stat.append(stat)\n",
        "        os.remove(save_label+'.pth')\n",
        "\n",
        "    # with open('allstat_iemocap_'+save_label+'_'+str(repeat)+'.pkl', \"wb\") as fout:\n",
        "    #     pickle.dump(all_stat, fout)\n",
        "\n",
        "n_total = repeat_kfold*len(val_id)\n",
        "total_best_epoch, total_epoch, total_loss, total_wa, total_ua = 0, 0, 0, 0, 0\n",
        "\n",
        "for i in range(n_total):\n",
        "    print(i, \": \", all_stat[i][0], all_stat[i][1], all_stat[i][8], all_stat[i][9], all_stat[i][10])\n",
        "    total_best_epoch += all_stat[i][0]\n",
        "    total_epoch += all_stat[i][1]\n",
        "    total_loss += float(all_stat[i][8])\n",
        "    total_wa += float(all_stat[i][9])\n",
        "    total_ua += float(all_stat[i][10])\n",
        "\n",
        "print(\"AVERAGE:\", total_best_epoch/n_total, total_epoch/n_total, total_loss/n_total, total_wa/n_total, total_ua/n_total )\n",
        "\n",
        "print(all_stat)"
      ]
    },
    {
      "cell_type": "code",
      "execution_count": 1,
      "metadata": {
        "id": "czCVPq0cyCHN"
      },
      "outputs": [
        {
          "name": "stdout",
          "output_type": "stream",
          "text": [
            "Normalized Matrix 1:\n",
            "[[0.76190476 0.01360544 0.06122449 0.16326531]\n",
            " [0.01282051 0.79487179 0.1025641  0.08974359]\n",
            " [0.09848485 0.0530303  0.71969697 0.12878788]\n",
            " [0.02923977 0.28654971 0.15789474 0.52631579]]\n",
            "\n",
            "Normalized Matrix 2:\n",
            "[[0.8358209  0.01492537 0.05970149 0.08955224]\n",
            " [0.01769912 0.66371681 0.20353982 0.11504425]\n",
            " [0.02409639 0.03012048 0.85542169 0.09036145]\n",
            " [0.03703704 0.12592593 0.27407407 0.56296296]]\n",
            "\n",
            "Averaged Confusion Matrix:\n",
            "[[0.79886283 0.01426541 0.06046299 0.12640877]\n",
            " [0.01525981 0.7292943  0.15305196 0.10239392]\n",
            " [0.06129062 0.04157539 0.78755933 0.10957466]\n",
            " [0.0331384  0.20623782 0.21598441 0.54463938]]\n"
          ]
        }
      ],
      "source": [
        "import numpy as np\n",
        "\n",
        "# Confusion matrices\n",
        "matrix_1 = np.array([\n",
        "    [112, 2, 9, 24],\n",
        "    [1, 62, 8, 7],\n",
        "    [13, 7, 95, 17],\n",
        "    [5, 49, 27, 90]\n",
        "])\n",
        "\n",
        "matrix_2 = np.array([\n",
        "    [56, 1, 4, 6],\n",
        "    [2, 75, 23, 13],\n",
        "    [4, 5, 142, 15],\n",
        "    [5, 17, 37, 76]\n",
        "])\n",
        "\n",
        "# Normalizing the rows by dividing each element by the row sum\n",
        "def normalize(matrix):\n",
        "    return matrix / matrix.sum(axis=1, keepdims=True)\n",
        "\n",
        "# Normalize both matrices\n",
        "normalized_matrix_1 = normalize(matrix_1)\n",
        "normalized_matrix_2 = normalize(matrix_2)\n",
        "\n",
        "# Compute the element-wise average of the two normalized matrices\n",
        "averaged_matrix = (normalized_matrix_1 + normalized_matrix_2) / 2\n",
        "\n",
        "# Output the results\n",
        "print(\"Normalized Matrix 1:\")\n",
        "print(normalized_matrix_1)\n",
        "\n",
        "print(\"\\nNormalized Matrix 2:\")\n",
        "print(normalized_matrix_2)\n",
        "\n",
        "print(\"\\nAveraged Confusion Matrix:\")\n",
        "print(averaged_matrix)"
      ]
    },
    {
      "cell_type": "code",
      "execution_count": null,
      "metadata": {},
      "outputs": [],
      "source": []
    }
  ],
  "metadata": {
    "accelerator": "GPU",
    "colab": {
      "gpuType": "T4",
      "provenance": []
    },
    "kernelspec": {
      "display_name": "hss",
      "language": "python",
      "name": "python3"
    },
    "language_info": {
      "codemirror_mode": {
        "name": "ipython",
        "version": 3
      },
      "file_extension": ".py",
      "mimetype": "text/x-python",
      "name": "python",
      "nbconvert_exporter": "python",
      "pygments_lexer": "ipython3",
      "version": "3.10.15"
    },
    "widgets": {
      "application/vnd.jupyter.widget-state+json": {
        "00024872537047e192d3a9aa01813875": {
          "model_module": "@jupyter-widgets/base",
          "model_module_version": "1.2.0",
          "model_name": "LayoutModel",
          "state": {
            "_model_module": "@jupyter-widgets/base",
            "_model_module_version": "1.2.0",
            "_model_name": "LayoutModel",
            "_view_count": null,
            "_view_module": "@jupyter-widgets/base",
            "_view_module_version": "1.2.0",
            "_view_name": "LayoutView",
            "align_content": null,
            "align_items": null,
            "align_self": null,
            "border": null,
            "bottom": null,
            "display": null,
            "flex": null,
            "flex_flow": null,
            "grid_area": null,
            "grid_auto_columns": null,
            "grid_auto_flow": null,
            "grid_auto_rows": null,
            "grid_column": null,
            "grid_gap": null,
            "grid_row": null,
            "grid_template_areas": null,
            "grid_template_columns": null,
            "grid_template_rows": null,
            "height": null,
            "justify_content": null,
            "justify_items": null,
            "left": null,
            "margin": null,
            "max_height": null,
            "max_width": null,
            "min_height": null,
            "min_width": null,
            "object_fit": null,
            "object_position": null,
            "order": null,
            "overflow": null,
            "overflow_x": null,
            "overflow_y": null,
            "padding": null,
            "right": null,
            "top": null,
            "visibility": null,
            "width": null
          }
        },
        "00dd397f8ea24fd5b55071311c20c673": {
          "model_module": "@jupyter-widgets/controls",
          "model_module_version": "1.5.0",
          "model_name": "FloatProgressModel",
          "state": {
            "_dom_classes": [],
            "_model_module": "@jupyter-widgets/controls",
            "_model_module_version": "1.5.0",
            "_model_name": "FloatProgressModel",
            "_view_count": null,
            "_view_module": "@jupyter-widgets/controls",
            "_view_module_version": "1.5.0",
            "_view_name": "ProgressView",
            "bar_style": "success",
            "description": "",
            "description_tooltip": null,
            "layout": "IPY_MODEL_376e511348bc4da5a18ea71637fc1cdc",
            "max": 1596,
            "min": 0,
            "orientation": "horizontal",
            "style": "IPY_MODEL_035919e1cbdd401b951f4bf9a0f9a00c",
            "value": 1596
          }
        },
        "035919e1cbdd401b951f4bf9a0f9a00c": {
          "model_module": "@jupyter-widgets/controls",
          "model_module_version": "1.5.0",
          "model_name": "ProgressStyleModel",
          "state": {
            "_model_module": "@jupyter-widgets/controls",
            "_model_module_version": "1.5.0",
            "_model_name": "ProgressStyleModel",
            "_view_count": null,
            "_view_module": "@jupyter-widgets/base",
            "_view_module_version": "1.2.0",
            "_view_name": "StyleView",
            "bar_color": null,
            "description_width": ""
          }
        },
        "048cc9f9a6a640b98a1785e76d041507": {
          "model_module": "@jupyter-widgets/base",
          "model_module_version": "1.2.0",
          "model_name": "LayoutModel",
          "state": {
            "_model_module": "@jupyter-widgets/base",
            "_model_module_version": "1.2.0",
            "_model_name": "LayoutModel",
            "_view_count": null,
            "_view_module": "@jupyter-widgets/base",
            "_view_module_version": "1.2.0",
            "_view_name": "LayoutView",
            "align_content": null,
            "align_items": null,
            "align_self": null,
            "border": null,
            "bottom": null,
            "display": null,
            "flex": null,
            "flex_flow": null,
            "grid_area": null,
            "grid_auto_columns": null,
            "grid_auto_flow": null,
            "grid_auto_rows": null,
            "grid_column": null,
            "grid_gap": null,
            "grid_row": null,
            "grid_template_areas": null,
            "grid_template_columns": null,
            "grid_template_rows": null,
            "height": null,
            "justify_content": null,
            "justify_items": null,
            "left": null,
            "margin": null,
            "max_height": null,
            "max_width": null,
            "min_height": null,
            "min_width": null,
            "object_fit": null,
            "object_position": null,
            "order": null,
            "overflow": null,
            "overflow_x": null,
            "overflow_y": null,
            "padding": null,
            "right": null,
            "top": null,
            "visibility": null,
            "width": null
          }
        },
        "08c81ebecc9c4441b11217c6f742eab1": {
          "model_module": "@jupyter-widgets/controls",
          "model_module_version": "1.5.0",
          "model_name": "HTMLModel",
          "state": {
            "_dom_classes": [],
            "_model_module": "@jupyter-widgets/controls",
            "_model_module_version": "1.5.0",
            "_model_name": "HTMLModel",
            "_view_count": null,
            "_view_module": "@jupyter-widgets/controls",
            "_view_module_version": "1.5.0",
            "_view_name": "HTMLView",
            "description": "",
            "description_tooltip": null,
            "layout": "IPY_MODEL_268c967dd85c4c81af7c4a6ccda8d8d3",
            "placeholder": "​",
            "style": "IPY_MODEL_7c1695a5dc8548238f8d02015af14b83",
            "value": "vocab.json: 100%"
          }
        },
        "0b47278029ec432abe6f950f35892b65": {
          "model_module": "@jupyter-widgets/base",
          "model_module_version": "1.2.0",
          "model_name": "LayoutModel",
          "state": {
            "_model_module": "@jupyter-widgets/base",
            "_model_module_version": "1.2.0",
            "_model_name": "LayoutModel",
            "_view_count": null,
            "_view_module": "@jupyter-widgets/base",
            "_view_module_version": "1.2.0",
            "_view_name": "LayoutView",
            "align_content": null,
            "align_items": null,
            "align_self": null,
            "border": null,
            "bottom": null,
            "display": null,
            "flex": null,
            "flex_flow": null,
            "grid_area": null,
            "grid_auto_columns": null,
            "grid_auto_flow": null,
            "grid_auto_rows": null,
            "grid_column": null,
            "grid_gap": null,
            "grid_row": null,
            "grid_template_areas": null,
            "grid_template_columns": null,
            "grid_template_rows": null,
            "height": null,
            "justify_content": null,
            "justify_items": null,
            "left": null,
            "margin": null,
            "max_height": null,
            "max_width": null,
            "min_height": null,
            "min_width": null,
            "object_fit": null,
            "object_position": null,
            "order": null,
            "overflow": null,
            "overflow_x": null,
            "overflow_y": null,
            "padding": null,
            "right": null,
            "top": null,
            "visibility": null,
            "width": null
          }
        },
        "0cd2f97dd1c34ec9a388ce6bc0be1333": {
          "model_module": "@jupyter-widgets/base",
          "model_module_version": "1.2.0",
          "model_name": "LayoutModel",
          "state": {
            "_model_module": "@jupyter-widgets/base",
            "_model_module_version": "1.2.0",
            "_model_name": "LayoutModel",
            "_view_count": null,
            "_view_module": "@jupyter-widgets/base",
            "_view_module_version": "1.2.0",
            "_view_name": "LayoutView",
            "align_content": null,
            "align_items": null,
            "align_self": null,
            "border": null,
            "bottom": null,
            "display": null,
            "flex": null,
            "flex_flow": null,
            "grid_area": null,
            "grid_auto_columns": null,
            "grid_auto_flow": null,
            "grid_auto_rows": null,
            "grid_column": null,
            "grid_gap": null,
            "grid_row": null,
            "grid_template_areas": null,
            "grid_template_columns": null,
            "grid_template_rows": null,
            "height": null,
            "justify_content": null,
            "justify_items": null,
            "left": null,
            "margin": null,
            "max_height": null,
            "max_width": null,
            "min_height": null,
            "min_width": null,
            "object_fit": null,
            "object_position": null,
            "order": null,
            "overflow": null,
            "overflow_x": null,
            "overflow_y": null,
            "padding": null,
            "right": null,
            "top": null,
            "visibility": null,
            "width": null
          }
        },
        "1d2a7bfa8427406e9bb8e93a964f3d26": {
          "model_module": "@jupyter-widgets/controls",
          "model_module_version": "1.5.0",
          "model_name": "DescriptionStyleModel",
          "state": {
            "_model_module": "@jupyter-widgets/controls",
            "_model_module_version": "1.5.0",
            "_model_name": "DescriptionStyleModel",
            "_view_count": null,
            "_view_module": "@jupyter-widgets/base",
            "_view_module_version": "1.2.0",
            "_view_name": "StyleView",
            "description_width": ""
          }
        },
        "25ba5d53310e4531b1fd0579d4429113": {
          "model_module": "@jupyter-widgets/controls",
          "model_module_version": "1.5.0",
          "model_name": "DescriptionStyleModel",
          "state": {
            "_model_module": "@jupyter-widgets/controls",
            "_model_module_version": "1.5.0",
            "_model_name": "DescriptionStyleModel",
            "_view_count": null,
            "_view_module": "@jupyter-widgets/base",
            "_view_module_version": "1.2.0",
            "_view_name": "StyleView",
            "description_width": ""
          }
        },
        "268c967dd85c4c81af7c4a6ccda8d8d3": {
          "model_module": "@jupyter-widgets/base",
          "model_module_version": "1.2.0",
          "model_name": "LayoutModel",
          "state": {
            "_model_module": "@jupyter-widgets/base",
            "_model_module_version": "1.2.0",
            "_model_name": "LayoutModel",
            "_view_count": null,
            "_view_module": "@jupyter-widgets/base",
            "_view_module_version": "1.2.0",
            "_view_name": "LayoutView",
            "align_content": null,
            "align_items": null,
            "align_self": null,
            "border": null,
            "bottom": null,
            "display": null,
            "flex": null,
            "flex_flow": null,
            "grid_area": null,
            "grid_auto_columns": null,
            "grid_auto_flow": null,
            "grid_auto_rows": null,
            "grid_column": null,
            "grid_gap": null,
            "grid_row": null,
            "grid_template_areas": null,
            "grid_template_columns": null,
            "grid_template_rows": null,
            "height": null,
            "justify_content": null,
            "justify_items": null,
            "left": null,
            "margin": null,
            "max_height": null,
            "max_width": null,
            "min_height": null,
            "min_width": null,
            "object_fit": null,
            "object_position": null,
            "order": null,
            "overflow": null,
            "overflow_x": null,
            "overflow_y": null,
            "padding": null,
            "right": null,
            "top": null,
            "visibility": null,
            "width": null
          }
        },
        "29501274fa39483eb0500f39f07ce5dc": {
          "model_module": "@jupyter-widgets/controls",
          "model_module_version": "1.5.0",
          "model_name": "HTMLModel",
          "state": {
            "_dom_classes": [],
            "_model_module": "@jupyter-widgets/controls",
            "_model_module_version": "1.5.0",
            "_model_name": "HTMLModel",
            "_view_count": null,
            "_view_module": "@jupyter-widgets/controls",
            "_view_module_version": "1.5.0",
            "_view_name": "HTMLView",
            "description": "",
            "description_tooltip": null,
            "layout": "IPY_MODEL_00024872537047e192d3a9aa01813875",
            "placeholder": "​",
            "style": "IPY_MODEL_2a567a7111c6493abb5bca46b8e1955e",
            "value": "config.json: 100%"
          }
        },
        "2a567a7111c6493abb5bca46b8e1955e": {
          "model_module": "@jupyter-widgets/controls",
          "model_module_version": "1.5.0",
          "model_name": "DescriptionStyleModel",
          "state": {
            "_model_module": "@jupyter-widgets/controls",
            "_model_module_version": "1.5.0",
            "_model_name": "DescriptionStyleModel",
            "_view_count": null,
            "_view_module": "@jupyter-widgets/base",
            "_view_module_version": "1.2.0",
            "_view_name": "StyleView",
            "description_width": ""
          }
        },
        "2a62c380db934f7b8c6a31ade6dcd3bc": {
          "model_module": "@jupyter-widgets/controls",
          "model_module_version": "1.5.0",
          "model_name": "HBoxModel",
          "state": {
            "_dom_classes": [],
            "_model_module": "@jupyter-widgets/controls",
            "_model_module_version": "1.5.0",
            "_model_name": "HBoxModel",
            "_view_count": null,
            "_view_module": "@jupyter-widgets/controls",
            "_view_module_version": "1.5.0",
            "_view_name": "HBoxView",
            "box_style": "",
            "children": [
              "IPY_MODEL_d2d9de12ce534770907608fe2ce9caa9",
              "IPY_MODEL_77f1244380a24cd29350ec497c291696",
              "IPY_MODEL_6cbdc962e1cd45ccb7f74c032ae6bdae"
            ],
            "layout": "IPY_MODEL_64e0915887e0400999e443a580640c6e"
          }
        },
        "2c976e5f2add4c6ba5c10f0378e0425e": {
          "model_module": "@jupyter-widgets/base",
          "model_module_version": "1.2.0",
          "model_name": "LayoutModel",
          "state": {
            "_model_module": "@jupyter-widgets/base",
            "_model_module_version": "1.2.0",
            "_model_name": "LayoutModel",
            "_view_count": null,
            "_view_module": "@jupyter-widgets/base",
            "_view_module_version": "1.2.0",
            "_view_name": "LayoutView",
            "align_content": null,
            "align_items": null,
            "align_self": null,
            "border": null,
            "bottom": null,
            "display": null,
            "flex": null,
            "flex_flow": null,
            "grid_area": null,
            "grid_auto_columns": null,
            "grid_auto_flow": null,
            "grid_auto_rows": null,
            "grid_column": null,
            "grid_gap": null,
            "grid_row": null,
            "grid_template_areas": null,
            "grid_template_columns": null,
            "grid_template_rows": null,
            "height": null,
            "justify_content": null,
            "justify_items": null,
            "left": null,
            "margin": null,
            "max_height": null,
            "max_width": null,
            "min_height": null,
            "min_width": null,
            "object_fit": null,
            "object_position": null,
            "order": null,
            "overflow": null,
            "overflow_x": null,
            "overflow_y": null,
            "padding": null,
            "right": null,
            "top": null,
            "visibility": null,
            "width": null
          }
        },
        "2fad49141f144a1d9a6993592bb8414d": {
          "model_module": "@jupyter-widgets/controls",
          "model_module_version": "1.5.0",
          "model_name": "DescriptionStyleModel",
          "state": {
            "_model_module": "@jupyter-widgets/controls",
            "_model_module_version": "1.5.0",
            "_model_name": "DescriptionStyleModel",
            "_view_count": null,
            "_view_module": "@jupyter-widgets/base",
            "_view_module_version": "1.2.0",
            "_view_name": "StyleView",
            "description_width": ""
          }
        },
        "31cf4e81ec4d405bad85024ab4c8ccc6": {
          "model_module": "@jupyter-widgets/controls",
          "model_module_version": "1.5.0",
          "model_name": "HTMLModel",
          "state": {
            "_dom_classes": [],
            "_model_module": "@jupyter-widgets/controls",
            "_model_module_version": "1.5.0",
            "_model_name": "HTMLModel",
            "_view_count": null,
            "_view_module": "@jupyter-widgets/controls",
            "_view_module_version": "1.5.0",
            "_view_name": "HTMLView",
            "description": "",
            "description_tooltip": null,
            "layout": "IPY_MODEL_888062fba8314311a405eb3afa38cb25",
            "placeholder": "​",
            "style": "IPY_MODEL_b5bcdf2661ed4c2e9d87c5c012189239",
            "value": " 1.60k/1.60k [00:00&lt;00:00, 61.0kB/s]"
          }
        },
        "35033ea1130440358380b65ab1d45ca9": {
          "model_module": "@jupyter-widgets/controls",
          "model_module_version": "1.5.0",
          "model_name": "ProgressStyleModel",
          "state": {
            "_model_module": "@jupyter-widgets/controls",
            "_model_module_version": "1.5.0",
            "_model_name": "ProgressStyleModel",
            "_view_count": null,
            "_view_module": "@jupyter-widgets/base",
            "_view_module_version": "1.2.0",
            "_view_name": "StyleView",
            "bar_color": null,
            "description_width": ""
          }
        },
        "376e511348bc4da5a18ea71637fc1cdc": {
          "model_module": "@jupyter-widgets/base",
          "model_module_version": "1.2.0",
          "model_name": "LayoutModel",
          "state": {
            "_model_module": "@jupyter-widgets/base",
            "_model_module_version": "1.2.0",
            "_model_name": "LayoutModel",
            "_view_count": null,
            "_view_module": "@jupyter-widgets/base",
            "_view_module_version": "1.2.0",
            "_view_name": "LayoutView",
            "align_content": null,
            "align_items": null,
            "align_self": null,
            "border": null,
            "bottom": null,
            "display": null,
            "flex": null,
            "flex_flow": null,
            "grid_area": null,
            "grid_auto_columns": null,
            "grid_auto_flow": null,
            "grid_auto_rows": null,
            "grid_column": null,
            "grid_gap": null,
            "grid_row": null,
            "grid_template_areas": null,
            "grid_template_columns": null,
            "grid_template_rows": null,
            "height": null,
            "justify_content": null,
            "justify_items": null,
            "left": null,
            "margin": null,
            "max_height": null,
            "max_width": null,
            "min_height": null,
            "min_width": null,
            "object_fit": null,
            "object_position": null,
            "order": null,
            "overflow": null,
            "overflow_x": null,
            "overflow_y": null,
            "padding": null,
            "right": null,
            "top": null,
            "visibility": null,
            "width": null
          }
        },
        "3a4d151c4f5e40008fd524938b8f032d": {
          "model_module": "@jupyter-widgets/controls",
          "model_module_version": "1.5.0",
          "model_name": "FloatProgressModel",
          "state": {
            "_dom_classes": [],
            "_model_module": "@jupyter-widgets/controls",
            "_model_module_version": "1.5.0",
            "_model_name": "FloatProgressModel",
            "_view_count": null,
            "_view_module": "@jupyter-widgets/controls",
            "_view_module_version": "1.5.0",
            "_view_name": "ProgressView",
            "bar_style": "success",
            "description": "",
            "description_tooltip": null,
            "layout": "IPY_MODEL_d2507ded68b44cfdb876423594291601",
            "max": 291,
            "min": 0,
            "orientation": "horizontal",
            "style": "IPY_MODEL_639d112736604fe6856f5faefce38350",
            "value": 291
          }
        },
        "3a72b054f5ff43e9b58d33a6f0ae79d6": {
          "model_module": "@jupyter-widgets/controls",
          "model_module_version": "1.5.0",
          "model_name": "ProgressStyleModel",
          "state": {
            "_model_module": "@jupyter-widgets/controls",
            "_model_module_version": "1.5.0",
            "_model_name": "ProgressStyleModel",
            "_view_count": null,
            "_view_module": "@jupyter-widgets/base",
            "_view_module_version": "1.2.0",
            "_view_name": "StyleView",
            "bar_color": null,
            "description_width": ""
          }
        },
        "411b6f6e7f83483d8cf76b22c6867cc2": {
          "model_module": "@jupyter-widgets/base",
          "model_module_version": "1.2.0",
          "model_name": "LayoutModel",
          "state": {
            "_model_module": "@jupyter-widgets/base",
            "_model_module_version": "1.2.0",
            "_model_name": "LayoutModel",
            "_view_count": null,
            "_view_module": "@jupyter-widgets/base",
            "_view_module_version": "1.2.0",
            "_view_name": "LayoutView",
            "align_content": null,
            "align_items": null,
            "align_self": null,
            "border": null,
            "bottom": null,
            "display": null,
            "flex": null,
            "flex_flow": null,
            "grid_area": null,
            "grid_auto_columns": null,
            "grid_auto_flow": null,
            "grid_auto_rows": null,
            "grid_column": null,
            "grid_gap": null,
            "grid_row": null,
            "grid_template_areas": null,
            "grid_template_columns": null,
            "grid_template_rows": null,
            "height": null,
            "justify_content": null,
            "justify_items": null,
            "left": null,
            "margin": null,
            "max_height": null,
            "max_width": null,
            "min_height": null,
            "min_width": null,
            "object_fit": null,
            "object_position": null,
            "order": null,
            "overflow": null,
            "overflow_x": null,
            "overflow_y": null,
            "padding": null,
            "right": null,
            "top": null,
            "visibility": null,
            "width": null
          }
        },
        "49e3ade2c5de4d4cb4161ee926c3d867": {
          "model_module": "@jupyter-widgets/controls",
          "model_module_version": "1.5.0",
          "model_name": "ProgressStyleModel",
          "state": {
            "_model_module": "@jupyter-widgets/controls",
            "_model_module_version": "1.5.0",
            "_model_name": "ProgressStyleModel",
            "_view_count": null,
            "_view_module": "@jupyter-widgets/base",
            "_view_module_version": "1.2.0",
            "_view_name": "StyleView",
            "bar_color": null,
            "description_width": ""
          }
        },
        "558bef6ce369447c9d01f8262f292aa7": {
          "model_module": "@jupyter-widgets/base",
          "model_module_version": "1.2.0",
          "model_name": "LayoutModel",
          "state": {
            "_model_module": "@jupyter-widgets/base",
            "_model_module_version": "1.2.0",
            "_model_name": "LayoutModel",
            "_view_count": null,
            "_view_module": "@jupyter-widgets/base",
            "_view_module_version": "1.2.0",
            "_view_name": "LayoutView",
            "align_content": null,
            "align_items": null,
            "align_self": null,
            "border": null,
            "bottom": null,
            "display": null,
            "flex": null,
            "flex_flow": null,
            "grid_area": null,
            "grid_auto_columns": null,
            "grid_auto_flow": null,
            "grid_auto_rows": null,
            "grid_column": null,
            "grid_gap": null,
            "grid_row": null,
            "grid_template_areas": null,
            "grid_template_columns": null,
            "grid_template_rows": null,
            "height": null,
            "justify_content": null,
            "justify_items": null,
            "left": null,
            "margin": null,
            "max_height": null,
            "max_width": null,
            "min_height": null,
            "min_width": null,
            "object_fit": null,
            "object_position": null,
            "order": null,
            "overflow": null,
            "overflow_x": null,
            "overflow_y": null,
            "padding": null,
            "right": null,
            "top": null,
            "visibility": null,
            "width": null
          }
        },
        "58d42eb7649040ec9b663a64ebe89225": {
          "model_module": "@jupyter-widgets/base",
          "model_module_version": "1.2.0",
          "model_name": "LayoutModel",
          "state": {
            "_model_module": "@jupyter-widgets/base",
            "_model_module_version": "1.2.0",
            "_model_name": "LayoutModel",
            "_view_count": null,
            "_view_module": "@jupyter-widgets/base",
            "_view_module_version": "1.2.0",
            "_view_name": "LayoutView",
            "align_content": null,
            "align_items": null,
            "align_self": null,
            "border": null,
            "bottom": null,
            "display": null,
            "flex": null,
            "flex_flow": null,
            "grid_area": null,
            "grid_auto_columns": null,
            "grid_auto_flow": null,
            "grid_auto_rows": null,
            "grid_column": null,
            "grid_gap": null,
            "grid_row": null,
            "grid_template_areas": null,
            "grid_template_columns": null,
            "grid_template_rows": null,
            "height": null,
            "justify_content": null,
            "justify_items": null,
            "left": null,
            "margin": null,
            "max_height": null,
            "max_width": null,
            "min_height": null,
            "min_width": null,
            "object_fit": null,
            "object_position": null,
            "order": null,
            "overflow": null,
            "overflow_x": null,
            "overflow_y": null,
            "padding": null,
            "right": null,
            "top": null,
            "visibility": null,
            "width": null
          }
        },
        "5bdff1f98e43400fa8f60d0123e7c726": {
          "model_module": "@jupyter-widgets/controls",
          "model_module_version": "1.5.0",
          "model_name": "HBoxModel",
          "state": {
            "_dom_classes": [],
            "_model_module": "@jupyter-widgets/controls",
            "_model_module_version": "1.5.0",
            "_model_name": "HBoxModel",
            "_view_count": null,
            "_view_module": "@jupyter-widgets/controls",
            "_view_module_version": "1.5.0",
            "_view_name": "HBoxView",
            "box_style": "",
            "children": [
              "IPY_MODEL_29501274fa39483eb0500f39f07ce5dc",
              "IPY_MODEL_00dd397f8ea24fd5b55071311c20c673",
              "IPY_MODEL_31cf4e81ec4d405bad85024ab4c8ccc6"
            ],
            "layout": "IPY_MODEL_c20c0131eb0b4d57a07d633f522df996"
          }
        },
        "60f4958d33dc4d4bbfe17f85e6d17f3d": {
          "model_module": "@jupyter-widgets/base",
          "model_module_version": "1.2.0",
          "model_name": "LayoutModel",
          "state": {
            "_model_module": "@jupyter-widgets/base",
            "_model_module_version": "1.2.0",
            "_model_name": "LayoutModel",
            "_view_count": null,
            "_view_module": "@jupyter-widgets/base",
            "_view_module_version": "1.2.0",
            "_view_name": "LayoutView",
            "align_content": null,
            "align_items": null,
            "align_self": null,
            "border": null,
            "bottom": null,
            "display": null,
            "flex": null,
            "flex_flow": null,
            "grid_area": null,
            "grid_auto_columns": null,
            "grid_auto_flow": null,
            "grid_auto_rows": null,
            "grid_column": null,
            "grid_gap": null,
            "grid_row": null,
            "grid_template_areas": null,
            "grid_template_columns": null,
            "grid_template_rows": null,
            "height": null,
            "justify_content": null,
            "justify_items": null,
            "left": null,
            "margin": null,
            "max_height": null,
            "max_width": null,
            "min_height": null,
            "min_width": null,
            "object_fit": null,
            "object_position": null,
            "order": null,
            "overflow": null,
            "overflow_x": null,
            "overflow_y": null,
            "padding": null,
            "right": null,
            "top": null,
            "visibility": null,
            "width": null
          }
        },
        "639d112736604fe6856f5faefce38350": {
          "model_module": "@jupyter-widgets/controls",
          "model_module_version": "1.5.0",
          "model_name": "ProgressStyleModel",
          "state": {
            "_model_module": "@jupyter-widgets/controls",
            "_model_module_version": "1.5.0",
            "_model_name": "ProgressStyleModel",
            "_view_count": null,
            "_view_module": "@jupyter-widgets/base",
            "_view_module_version": "1.2.0",
            "_view_name": "StyleView",
            "bar_color": null,
            "description_width": ""
          }
        },
        "64e0915887e0400999e443a580640c6e": {
          "model_module": "@jupyter-widgets/base",
          "model_module_version": "1.2.0",
          "model_name": "LayoutModel",
          "state": {
            "_model_module": "@jupyter-widgets/base",
            "_model_module_version": "1.2.0",
            "_model_name": "LayoutModel",
            "_view_count": null,
            "_view_module": "@jupyter-widgets/base",
            "_view_module_version": "1.2.0",
            "_view_name": "LayoutView",
            "align_content": null,
            "align_items": null,
            "align_self": null,
            "border": null,
            "bottom": null,
            "display": null,
            "flex": null,
            "flex_flow": null,
            "grid_area": null,
            "grid_auto_columns": null,
            "grid_auto_flow": null,
            "grid_auto_rows": null,
            "grid_column": null,
            "grid_gap": null,
            "grid_row": null,
            "grid_template_areas": null,
            "grid_template_columns": null,
            "grid_template_rows": null,
            "height": null,
            "justify_content": null,
            "justify_items": null,
            "left": null,
            "margin": null,
            "max_height": null,
            "max_width": null,
            "min_height": null,
            "min_width": null,
            "object_fit": null,
            "object_position": null,
            "order": null,
            "overflow": null,
            "overflow_x": null,
            "overflow_y": null,
            "padding": null,
            "right": null,
            "top": null,
            "visibility": null,
            "width": null
          }
        },
        "673addb7c17a42ef891860984d73ca27": {
          "model_module": "@jupyter-widgets/controls",
          "model_module_version": "1.5.0",
          "model_name": "ProgressStyleModel",
          "state": {
            "_model_module": "@jupyter-widgets/controls",
            "_model_module_version": "1.5.0",
            "_model_name": "ProgressStyleModel",
            "_view_count": null,
            "_view_module": "@jupyter-widgets/base",
            "_view_module_version": "1.2.0",
            "_view_name": "StyleView",
            "bar_color": null,
            "description_width": ""
          }
        },
        "69c82bbe1cde4cfb9233a0058b0e942b": {
          "model_module": "@jupyter-widgets/controls",
          "model_module_version": "1.5.0",
          "model_name": "DescriptionStyleModel",
          "state": {
            "_model_module": "@jupyter-widgets/controls",
            "_model_module_version": "1.5.0",
            "_model_name": "DescriptionStyleModel",
            "_view_count": null,
            "_view_module": "@jupyter-widgets/base",
            "_view_module_version": "1.2.0",
            "_view_name": "StyleView",
            "description_width": ""
          }
        },
        "6cbdc962e1cd45ccb7f74c032ae6bdae": {
          "model_module": "@jupyter-widgets/controls",
          "model_module_version": "1.5.0",
          "model_name": "HTMLModel",
          "state": {
            "_dom_classes": [],
            "_model_module": "@jupyter-widgets/controls",
            "_model_module_version": "1.5.0",
            "_model_name": "HTMLModel",
            "_view_count": null,
            "_view_module": "@jupyter-widgets/controls",
            "_view_module_version": "1.5.0",
            "_view_name": "HTMLView",
            "description": "",
            "description_tooltip": null,
            "layout": "IPY_MODEL_0b47278029ec432abe6f950f35892b65",
            "placeholder": "​",
            "style": "IPY_MODEL_6f905d853e064123a50fe98efc5d8729",
            "value": " 159/159 [00:00&lt;00:00, 7.74kB/s]"
          }
        },
        "6f905d853e064123a50fe98efc5d8729": {
          "model_module": "@jupyter-widgets/controls",
          "model_module_version": "1.5.0",
          "model_name": "DescriptionStyleModel",
          "state": {
            "_model_module": "@jupyter-widgets/controls",
            "_model_module_version": "1.5.0",
            "_model_name": "DescriptionStyleModel",
            "_view_count": null,
            "_view_module": "@jupyter-widgets/base",
            "_view_module_version": "1.2.0",
            "_view_name": "StyleView",
            "description_width": ""
          }
        },
        "6fb4fb4699cd444d97af4f240e639d51": {
          "model_module": "@jupyter-widgets/base",
          "model_module_version": "1.2.0",
          "model_name": "LayoutModel",
          "state": {
            "_model_module": "@jupyter-widgets/base",
            "_model_module_version": "1.2.0",
            "_model_name": "LayoutModel",
            "_view_count": null,
            "_view_module": "@jupyter-widgets/base",
            "_view_module_version": "1.2.0",
            "_view_name": "LayoutView",
            "align_content": null,
            "align_items": null,
            "align_self": null,
            "border": null,
            "bottom": null,
            "display": null,
            "flex": null,
            "flex_flow": null,
            "grid_area": null,
            "grid_auto_columns": null,
            "grid_auto_flow": null,
            "grid_auto_rows": null,
            "grid_column": null,
            "grid_gap": null,
            "grid_row": null,
            "grid_template_areas": null,
            "grid_template_columns": null,
            "grid_template_rows": null,
            "height": null,
            "justify_content": null,
            "justify_items": null,
            "left": null,
            "margin": null,
            "max_height": null,
            "max_width": null,
            "min_height": null,
            "min_width": null,
            "object_fit": null,
            "object_position": null,
            "order": null,
            "overflow": null,
            "overflow_x": null,
            "overflow_y": null,
            "padding": null,
            "right": null,
            "top": null,
            "visibility": null,
            "width": null
          }
        },
        "70685b77f9b4445684a9ad1a8a3abfb7": {
          "model_module": "@jupyter-widgets/base",
          "model_module_version": "1.2.0",
          "model_name": "LayoutModel",
          "state": {
            "_model_module": "@jupyter-widgets/base",
            "_model_module_version": "1.2.0",
            "_model_name": "LayoutModel",
            "_view_count": null,
            "_view_module": "@jupyter-widgets/base",
            "_view_module_version": "1.2.0",
            "_view_name": "LayoutView",
            "align_content": null,
            "align_items": null,
            "align_self": null,
            "border": null,
            "bottom": null,
            "display": null,
            "flex": null,
            "flex_flow": null,
            "grid_area": null,
            "grid_auto_columns": null,
            "grid_auto_flow": null,
            "grid_auto_rows": null,
            "grid_column": null,
            "grid_gap": null,
            "grid_row": null,
            "grid_template_areas": null,
            "grid_template_columns": null,
            "grid_template_rows": null,
            "height": null,
            "justify_content": null,
            "justify_items": null,
            "left": null,
            "margin": null,
            "max_height": null,
            "max_width": null,
            "min_height": null,
            "min_width": null,
            "object_fit": null,
            "object_position": null,
            "order": null,
            "overflow": null,
            "overflow_x": null,
            "overflow_y": null,
            "padding": null,
            "right": null,
            "top": null,
            "visibility": null,
            "width": null
          }
        },
        "77f1244380a24cd29350ec497c291696": {
          "model_module": "@jupyter-widgets/controls",
          "model_module_version": "1.5.0",
          "model_name": "FloatProgressModel",
          "state": {
            "_dom_classes": [],
            "_model_module": "@jupyter-widgets/controls",
            "_model_module_version": "1.5.0",
            "_model_name": "FloatProgressModel",
            "_view_count": null,
            "_view_module": "@jupyter-widgets/controls",
            "_view_module_version": "1.5.0",
            "_view_name": "ProgressView",
            "bar_style": "success",
            "description": "",
            "description_tooltip": null,
            "layout": "IPY_MODEL_829043af6cc249658777dfb66eaffc39",
            "max": 159,
            "min": 0,
            "orientation": "horizontal",
            "style": "IPY_MODEL_35033ea1130440358380b65ab1d45ca9",
            "value": 159
          }
        },
        "7c1695a5dc8548238f8d02015af14b83": {
          "model_module": "@jupyter-widgets/controls",
          "model_module_version": "1.5.0",
          "model_name": "DescriptionStyleModel",
          "state": {
            "_model_module": "@jupyter-widgets/controls",
            "_model_module_version": "1.5.0",
            "_model_name": "DescriptionStyleModel",
            "_view_count": null,
            "_view_module": "@jupyter-widgets/base",
            "_view_module_version": "1.2.0",
            "_view_name": "StyleView",
            "description_width": ""
          }
        },
        "7c4e23bc137d4fc6917ebf1d34336140": {
          "model_module": "@jupyter-widgets/base",
          "model_module_version": "1.2.0",
          "model_name": "LayoutModel",
          "state": {
            "_model_module": "@jupyter-widgets/base",
            "_model_module_version": "1.2.0",
            "_model_name": "LayoutModel",
            "_view_count": null,
            "_view_module": "@jupyter-widgets/base",
            "_view_module_version": "1.2.0",
            "_view_name": "LayoutView",
            "align_content": null,
            "align_items": null,
            "align_self": null,
            "border": null,
            "bottom": null,
            "display": null,
            "flex": null,
            "flex_flow": null,
            "grid_area": null,
            "grid_auto_columns": null,
            "grid_auto_flow": null,
            "grid_auto_rows": null,
            "grid_column": null,
            "grid_gap": null,
            "grid_row": null,
            "grid_template_areas": null,
            "grid_template_columns": null,
            "grid_template_rows": null,
            "height": null,
            "justify_content": null,
            "justify_items": null,
            "left": null,
            "margin": null,
            "max_height": null,
            "max_width": null,
            "min_height": null,
            "min_width": null,
            "object_fit": null,
            "object_position": null,
            "order": null,
            "overflow": null,
            "overflow_x": null,
            "overflow_y": null,
            "padding": null,
            "right": null,
            "top": null,
            "visibility": null,
            "width": null
          }
        },
        "81d0c4581cfe4eefaafef592abf720dd": {
          "model_module": "@jupyter-widgets/controls",
          "model_module_version": "1.5.0",
          "model_name": "HTMLModel",
          "state": {
            "_dom_classes": [],
            "_model_module": "@jupyter-widgets/controls",
            "_model_module_version": "1.5.0",
            "_model_name": "HTMLModel",
            "_view_count": null,
            "_view_module": "@jupyter-widgets/controls",
            "_view_module_version": "1.5.0",
            "_view_name": "HTMLView",
            "description": "",
            "description_tooltip": null,
            "layout": "IPY_MODEL_411b6f6e7f83483d8cf76b22c6867cc2",
            "placeholder": "​",
            "style": "IPY_MODEL_2fad49141f144a1d9a6993592bb8414d",
            "value": "tokenizer_config.json: 100%"
          }
        },
        "829043af6cc249658777dfb66eaffc39": {
          "model_module": "@jupyter-widgets/base",
          "model_module_version": "1.2.0",
          "model_name": "LayoutModel",
          "state": {
            "_model_module": "@jupyter-widgets/base",
            "_model_module_version": "1.2.0",
            "_model_name": "LayoutModel",
            "_view_count": null,
            "_view_module": "@jupyter-widgets/base",
            "_view_module_version": "1.2.0",
            "_view_name": "LayoutView",
            "align_content": null,
            "align_items": null,
            "align_self": null,
            "border": null,
            "bottom": null,
            "display": null,
            "flex": null,
            "flex_flow": null,
            "grid_area": null,
            "grid_auto_columns": null,
            "grid_auto_flow": null,
            "grid_auto_rows": null,
            "grid_column": null,
            "grid_gap": null,
            "grid_row": null,
            "grid_template_areas": null,
            "grid_template_columns": null,
            "grid_template_rows": null,
            "height": null,
            "justify_content": null,
            "justify_items": null,
            "left": null,
            "margin": null,
            "max_height": null,
            "max_width": null,
            "min_height": null,
            "min_width": null,
            "object_fit": null,
            "object_position": null,
            "order": null,
            "overflow": null,
            "overflow_x": null,
            "overflow_y": null,
            "padding": null,
            "right": null,
            "top": null,
            "visibility": null,
            "width": null
          }
        },
        "8764e39f8493459ab9fbb107d0ea8712": {
          "model_module": "@jupyter-widgets/base",
          "model_module_version": "1.2.0",
          "model_name": "LayoutModel",
          "state": {
            "_model_module": "@jupyter-widgets/base",
            "_model_module_version": "1.2.0",
            "_model_name": "LayoutModel",
            "_view_count": null,
            "_view_module": "@jupyter-widgets/base",
            "_view_module_version": "1.2.0",
            "_view_name": "LayoutView",
            "align_content": null,
            "align_items": null,
            "align_self": null,
            "border": null,
            "bottom": null,
            "display": null,
            "flex": null,
            "flex_flow": null,
            "grid_area": null,
            "grid_auto_columns": null,
            "grid_auto_flow": null,
            "grid_auto_rows": null,
            "grid_column": null,
            "grid_gap": null,
            "grid_row": null,
            "grid_template_areas": null,
            "grid_template_columns": null,
            "grid_template_rows": null,
            "height": null,
            "justify_content": null,
            "justify_items": null,
            "left": null,
            "margin": null,
            "max_height": null,
            "max_width": null,
            "min_height": null,
            "min_width": null,
            "object_fit": null,
            "object_position": null,
            "order": null,
            "overflow": null,
            "overflow_x": null,
            "overflow_y": null,
            "padding": null,
            "right": null,
            "top": null,
            "visibility": null,
            "width": null
          }
        },
        "888062fba8314311a405eb3afa38cb25": {
          "model_module": "@jupyter-widgets/base",
          "model_module_version": "1.2.0",
          "model_name": "LayoutModel",
          "state": {
            "_model_module": "@jupyter-widgets/base",
            "_model_module_version": "1.2.0",
            "_model_name": "LayoutModel",
            "_view_count": null,
            "_view_module": "@jupyter-widgets/base",
            "_view_module_version": "1.2.0",
            "_view_name": "LayoutView",
            "align_content": null,
            "align_items": null,
            "align_self": null,
            "border": null,
            "bottom": null,
            "display": null,
            "flex": null,
            "flex_flow": null,
            "grid_area": null,
            "grid_auto_columns": null,
            "grid_auto_flow": null,
            "grid_auto_rows": null,
            "grid_column": null,
            "grid_gap": null,
            "grid_row": null,
            "grid_template_areas": null,
            "grid_template_columns": null,
            "grid_template_rows": null,
            "height": null,
            "justify_content": null,
            "justify_items": null,
            "left": null,
            "margin": null,
            "max_height": null,
            "max_width": null,
            "min_height": null,
            "min_width": null,
            "object_fit": null,
            "object_position": null,
            "order": null,
            "overflow": null,
            "overflow_x": null,
            "overflow_y": null,
            "padding": null,
            "right": null,
            "top": null,
            "visibility": null,
            "width": null
          }
        },
        "8944ba72ddec4453abc40feab86e759b": {
          "model_module": "@jupyter-widgets/controls",
          "model_module_version": "1.5.0",
          "model_name": "HBoxModel",
          "state": {
            "_dom_classes": [],
            "_model_module": "@jupyter-widgets/controls",
            "_model_module_version": "1.5.0",
            "_model_name": "HBoxModel",
            "_view_count": null,
            "_view_module": "@jupyter-widgets/controls",
            "_view_module_version": "1.5.0",
            "_view_name": "HBoxView",
            "box_style": "",
            "children": [
              "IPY_MODEL_f7269c49c3944537a39332ee7a1b1d92",
              "IPY_MODEL_9c83bc587a8b449e86fa99c1e0a5746b",
              "IPY_MODEL_cd8d6593df724ce1a3c40368cd5e70c7"
            ],
            "layout": "IPY_MODEL_e66007b11f2a487b9d0b5ba1b5810b9c"
          }
        },
        "9656b1b03c69438caeca7d1f9f692a4a": {
          "model_module": "@jupyter-widgets/controls",
          "model_module_version": "1.5.0",
          "model_name": "DescriptionStyleModel",
          "state": {
            "_model_module": "@jupyter-widgets/controls",
            "_model_module_version": "1.5.0",
            "_model_name": "DescriptionStyleModel",
            "_view_count": null,
            "_view_module": "@jupyter-widgets/base",
            "_view_module_version": "1.2.0",
            "_view_name": "StyleView",
            "description_width": ""
          }
        },
        "96f68182acbe4e9ab488ff76dc737f88": {
          "model_module": "@jupyter-widgets/controls",
          "model_module_version": "1.5.0",
          "model_name": "HTMLModel",
          "state": {
            "_dom_classes": [],
            "_model_module": "@jupyter-widgets/controls",
            "_model_module_version": "1.5.0",
            "_model_name": "HTMLModel",
            "_view_count": null,
            "_view_module": "@jupyter-widgets/controls",
            "_view_module_version": "1.5.0",
            "_view_name": "HTMLView",
            "description": "",
            "description_tooltip": null,
            "layout": "IPY_MODEL_8764e39f8493459ab9fbb107d0ea8712",
            "placeholder": "​",
            "style": "IPY_MODEL_1d2a7bfa8427406e9bb8e93a964f3d26",
            "value": "model.safetensors: 100%"
          }
        },
        "9a28e4c887a84853a0ab27731d873095": {
          "model_module": "@jupyter-widgets/controls",
          "model_module_version": "1.5.0",
          "model_name": "DescriptionStyleModel",
          "state": {
            "_model_module": "@jupyter-widgets/controls",
            "_model_module_version": "1.5.0",
            "_model_name": "DescriptionStyleModel",
            "_view_count": null,
            "_view_module": "@jupyter-widgets/base",
            "_view_module_version": "1.2.0",
            "_view_name": "StyleView",
            "description_width": ""
          }
        },
        "9c83bc587a8b449e86fa99c1e0a5746b": {
          "model_module": "@jupyter-widgets/controls",
          "model_module_version": "1.5.0",
          "model_name": "FloatProgressModel",
          "state": {
            "_dom_classes": [],
            "_model_module": "@jupyter-widgets/controls",
            "_model_module_version": "1.5.0",
            "_model_name": "FloatProgressModel",
            "_view_count": null,
            "_view_module": "@jupyter-widgets/controls",
            "_view_module_version": "1.5.0",
            "_view_name": "ProgressView",
            "bar_style": "success",
            "description": "",
            "description_tooltip": null,
            "layout": "IPY_MODEL_f4feffce429d498e94e07c599b1e7365",
            "max": 85,
            "min": 0,
            "orientation": "horizontal",
            "style": "IPY_MODEL_49e3ade2c5de4d4cb4161ee926c3d867",
            "value": 85
          }
        },
        "aeb42543fb7741a28058cb8b53f169ae": {
          "model_module": "@jupyter-widgets/controls",
          "model_module_version": "1.5.0",
          "model_name": "DescriptionStyleModel",
          "state": {
            "_model_module": "@jupyter-widgets/controls",
            "_model_module_version": "1.5.0",
            "_model_name": "DescriptionStyleModel",
            "_view_count": null,
            "_view_module": "@jupyter-widgets/base",
            "_view_module_version": "1.2.0",
            "_view_name": "StyleView",
            "description_width": ""
          }
        },
        "b5bcdf2661ed4c2e9d87c5c012189239": {
          "model_module": "@jupyter-widgets/controls",
          "model_module_version": "1.5.0",
          "model_name": "DescriptionStyleModel",
          "state": {
            "_model_module": "@jupyter-widgets/controls",
            "_model_module_version": "1.5.0",
            "_model_name": "DescriptionStyleModel",
            "_view_count": null,
            "_view_module": "@jupyter-widgets/base",
            "_view_module_version": "1.2.0",
            "_view_name": "StyleView",
            "description_width": ""
          }
        },
        "c20c0131eb0b4d57a07d633f522df996": {
          "model_module": "@jupyter-widgets/base",
          "model_module_version": "1.2.0",
          "model_name": "LayoutModel",
          "state": {
            "_model_module": "@jupyter-widgets/base",
            "_model_module_version": "1.2.0",
            "_model_name": "LayoutModel",
            "_view_count": null,
            "_view_module": "@jupyter-widgets/base",
            "_view_module_version": "1.2.0",
            "_view_name": "LayoutView",
            "align_content": null,
            "align_items": null,
            "align_self": null,
            "border": null,
            "bottom": null,
            "display": null,
            "flex": null,
            "flex_flow": null,
            "grid_area": null,
            "grid_auto_columns": null,
            "grid_auto_flow": null,
            "grid_auto_rows": null,
            "grid_column": null,
            "grid_gap": null,
            "grid_row": null,
            "grid_template_areas": null,
            "grid_template_columns": null,
            "grid_template_rows": null,
            "height": null,
            "justify_content": null,
            "justify_items": null,
            "left": null,
            "margin": null,
            "max_height": null,
            "max_width": null,
            "min_height": null,
            "min_width": null,
            "object_fit": null,
            "object_position": null,
            "order": null,
            "overflow": null,
            "overflow_x": null,
            "overflow_y": null,
            "padding": null,
            "right": null,
            "top": null,
            "visibility": null,
            "width": null
          }
        },
        "c343b9a4114c4d5a938acd74a8777f39": {
          "model_module": "@jupyter-widgets/controls",
          "model_module_version": "1.5.0",
          "model_name": "HTMLModel",
          "state": {
            "_dom_classes": [],
            "_model_module": "@jupyter-widgets/controls",
            "_model_module_version": "1.5.0",
            "_model_name": "HTMLModel",
            "_view_count": null,
            "_view_module": "@jupyter-widgets/controls",
            "_view_module_version": "1.5.0",
            "_view_name": "HTMLView",
            "description": "",
            "description_tooltip": null,
            "layout": "IPY_MODEL_2c976e5f2add4c6ba5c10f0378e0425e",
            "placeholder": "​",
            "style": "IPY_MODEL_e583f978ce8f490da600ec13a80e5b21",
            "value": " 163/163 [00:00&lt;00:00, 7.71kB/s]"
          }
        },
        "c831aa0fcbea45828e1cde04906e2b38": {
          "model_module": "@jupyter-widgets/controls",
          "model_module_version": "1.5.0",
          "model_name": "HBoxModel",
          "state": {
            "_dom_classes": [],
            "_model_module": "@jupyter-widgets/controls",
            "_model_module_version": "1.5.0",
            "_model_name": "HBoxModel",
            "_view_count": null,
            "_view_module": "@jupyter-widgets/controls",
            "_view_module_version": "1.5.0",
            "_view_name": "HBoxView",
            "box_style": "",
            "children": [
              "IPY_MODEL_08c81ebecc9c4441b11217c6f742eab1",
              "IPY_MODEL_3a4d151c4f5e40008fd524938b8f032d",
              "IPY_MODEL_ca93f6a2327d47208e40a4d55a098831"
            ],
            "layout": "IPY_MODEL_ef8e5971c36f4d73b83fd594038ef55f"
          }
        },
        "c892ddbda7ea496cb6b8f3f43f7bbcab": {
          "model_module": "@jupyter-widgets/controls",
          "model_module_version": "1.5.0",
          "model_name": "HBoxModel",
          "state": {
            "_dom_classes": [],
            "_model_module": "@jupyter-widgets/controls",
            "_model_module_version": "1.5.0",
            "_model_name": "HBoxModel",
            "_view_count": null,
            "_view_module": "@jupyter-widgets/controls",
            "_view_module_version": "1.5.0",
            "_view_name": "HBoxView",
            "box_style": "",
            "children": [
              "IPY_MODEL_96f68182acbe4e9ab488ff76dc737f88",
              "IPY_MODEL_e542795a8b30453389aad9ccc743b8f4",
              "IPY_MODEL_fbd547dfb46947b0b49e6c6f4b5daa0d"
            ],
            "layout": "IPY_MODEL_6fb4fb4699cd444d97af4f240e639d51"
          }
        },
        "ca93f6a2327d47208e40a4d55a098831": {
          "model_module": "@jupyter-widgets/controls",
          "model_module_version": "1.5.0",
          "model_name": "HTMLModel",
          "state": {
            "_dom_classes": [],
            "_model_module": "@jupyter-widgets/controls",
            "_model_module_version": "1.5.0",
            "_model_name": "HTMLModel",
            "_view_count": null,
            "_view_module": "@jupyter-widgets/controls",
            "_view_module_version": "1.5.0",
            "_view_name": "HTMLView",
            "description": "",
            "description_tooltip": null,
            "layout": "IPY_MODEL_70685b77f9b4445684a9ad1a8a3abfb7",
            "placeholder": "​",
            "style": "IPY_MODEL_9a28e4c887a84853a0ab27731d873095",
            "value": " 291/291 [00:00&lt;00:00, 11.2kB/s]"
          }
        },
        "cd8d6593df724ce1a3c40368cd5e70c7": {
          "model_module": "@jupyter-widgets/controls",
          "model_module_version": "1.5.0",
          "model_name": "HTMLModel",
          "state": {
            "_dom_classes": [],
            "_model_module": "@jupyter-widgets/controls",
            "_model_module_version": "1.5.0",
            "_model_name": "HTMLModel",
            "_view_count": null,
            "_view_module": "@jupyter-widgets/controls",
            "_view_module_version": "1.5.0",
            "_view_name": "HTMLView",
            "description": "",
            "description_tooltip": null,
            "layout": "IPY_MODEL_58d42eb7649040ec9b663a64ebe89225",
            "placeholder": "​",
            "style": "IPY_MODEL_9656b1b03c69438caeca7d1f9f692a4a",
            "value": " 85.0/85.0 [00:00&lt;00:00, 4.43kB/s]"
          }
        },
        "d2507ded68b44cfdb876423594291601": {
          "model_module": "@jupyter-widgets/base",
          "model_module_version": "1.2.0",
          "model_name": "LayoutModel",
          "state": {
            "_model_module": "@jupyter-widgets/base",
            "_model_module_version": "1.2.0",
            "_model_name": "LayoutModel",
            "_view_count": null,
            "_view_module": "@jupyter-widgets/base",
            "_view_module_version": "1.2.0",
            "_view_name": "LayoutView",
            "align_content": null,
            "align_items": null,
            "align_self": null,
            "border": null,
            "bottom": null,
            "display": null,
            "flex": null,
            "flex_flow": null,
            "grid_area": null,
            "grid_auto_columns": null,
            "grid_auto_flow": null,
            "grid_auto_rows": null,
            "grid_column": null,
            "grid_gap": null,
            "grid_row": null,
            "grid_template_areas": null,
            "grid_template_columns": null,
            "grid_template_rows": null,
            "height": null,
            "justify_content": null,
            "justify_items": null,
            "left": null,
            "margin": null,
            "max_height": null,
            "max_width": null,
            "min_height": null,
            "min_width": null,
            "object_fit": null,
            "object_position": null,
            "order": null,
            "overflow": null,
            "overflow_x": null,
            "overflow_y": null,
            "padding": null,
            "right": null,
            "top": null,
            "visibility": null,
            "width": null
          }
        },
        "d2d9de12ce534770907608fe2ce9caa9": {
          "model_module": "@jupyter-widgets/controls",
          "model_module_version": "1.5.0",
          "model_name": "HTMLModel",
          "state": {
            "_dom_classes": [],
            "_model_module": "@jupyter-widgets/controls",
            "_model_module_version": "1.5.0",
            "_model_name": "HTMLModel",
            "_view_count": null,
            "_view_module": "@jupyter-widgets/controls",
            "_view_module_version": "1.5.0",
            "_view_name": "HTMLView",
            "description": "",
            "description_tooltip": null,
            "layout": "IPY_MODEL_60f4958d33dc4d4bbfe17f85e6d17f3d",
            "placeholder": "​",
            "style": "IPY_MODEL_25ba5d53310e4531b1fd0579d4429113",
            "value": "preprocessor_config.json: 100%"
          }
        },
        "d673b2a47f86445681f1df568417f7ab": {
          "model_module": "@jupyter-widgets/base",
          "model_module_version": "1.2.0",
          "model_name": "LayoutModel",
          "state": {
            "_model_module": "@jupyter-widgets/base",
            "_model_module_version": "1.2.0",
            "_model_name": "LayoutModel",
            "_view_count": null,
            "_view_module": "@jupyter-widgets/base",
            "_view_module_version": "1.2.0",
            "_view_name": "LayoutView",
            "align_content": null,
            "align_items": null,
            "align_self": null,
            "border": null,
            "bottom": null,
            "display": null,
            "flex": null,
            "flex_flow": null,
            "grid_area": null,
            "grid_auto_columns": null,
            "grid_auto_flow": null,
            "grid_auto_rows": null,
            "grid_column": null,
            "grid_gap": null,
            "grid_row": null,
            "grid_template_areas": null,
            "grid_template_columns": null,
            "grid_template_rows": null,
            "height": null,
            "justify_content": null,
            "justify_items": null,
            "left": null,
            "margin": null,
            "max_height": null,
            "max_width": null,
            "min_height": null,
            "min_width": null,
            "object_fit": null,
            "object_position": null,
            "order": null,
            "overflow": null,
            "overflow_x": null,
            "overflow_y": null,
            "padding": null,
            "right": null,
            "top": null,
            "visibility": null,
            "width": null
          }
        },
        "d9848a8b79b34a5d9ef62c69f7e43fa7": {
          "model_module": "@jupyter-widgets/controls",
          "model_module_version": "1.5.0",
          "model_name": "FloatProgressModel",
          "state": {
            "_dom_classes": [],
            "_model_module": "@jupyter-widgets/controls",
            "_model_module_version": "1.5.0",
            "_model_name": "FloatProgressModel",
            "_view_count": null,
            "_view_module": "@jupyter-widgets/controls",
            "_view_module_version": "1.5.0",
            "_view_name": "ProgressView",
            "bar_style": "success",
            "description": "",
            "description_tooltip": null,
            "layout": "IPY_MODEL_7c4e23bc137d4fc6917ebf1d34336140",
            "max": 163,
            "min": 0,
            "orientation": "horizontal",
            "style": "IPY_MODEL_673addb7c17a42ef891860984d73ca27",
            "value": 163
          }
        },
        "e542795a8b30453389aad9ccc743b8f4": {
          "model_module": "@jupyter-widgets/controls",
          "model_module_version": "1.5.0",
          "model_name": "FloatProgressModel",
          "state": {
            "_dom_classes": [],
            "_model_module": "@jupyter-widgets/controls",
            "_model_module_version": "1.5.0",
            "_model_name": "FloatProgressModel",
            "_view_count": null,
            "_view_module": "@jupyter-widgets/controls",
            "_view_module_version": "1.5.0",
            "_view_name": "ProgressView",
            "bar_style": "success",
            "description": "",
            "description_tooltip": null,
            "layout": "IPY_MODEL_558bef6ce369447c9d01f8262f292aa7",
            "max": 377607901,
            "min": 0,
            "orientation": "horizontal",
            "style": "IPY_MODEL_3a72b054f5ff43e9b58d33a6f0ae79d6",
            "value": 377607901
          }
        },
        "e583f978ce8f490da600ec13a80e5b21": {
          "model_module": "@jupyter-widgets/controls",
          "model_module_version": "1.5.0",
          "model_name": "DescriptionStyleModel",
          "state": {
            "_model_module": "@jupyter-widgets/controls",
            "_model_module_version": "1.5.0",
            "_model_name": "DescriptionStyleModel",
            "_view_count": null,
            "_view_module": "@jupyter-widgets/base",
            "_view_module_version": "1.2.0",
            "_view_name": "StyleView",
            "description_width": ""
          }
        },
        "e66007b11f2a487b9d0b5ba1b5810b9c": {
          "model_module": "@jupyter-widgets/base",
          "model_module_version": "1.2.0",
          "model_name": "LayoutModel",
          "state": {
            "_model_module": "@jupyter-widgets/base",
            "_model_module_version": "1.2.0",
            "_model_name": "LayoutModel",
            "_view_count": null,
            "_view_module": "@jupyter-widgets/base",
            "_view_module_version": "1.2.0",
            "_view_name": "LayoutView",
            "align_content": null,
            "align_items": null,
            "align_self": null,
            "border": null,
            "bottom": null,
            "display": null,
            "flex": null,
            "flex_flow": null,
            "grid_area": null,
            "grid_auto_columns": null,
            "grid_auto_flow": null,
            "grid_auto_rows": null,
            "grid_column": null,
            "grid_gap": null,
            "grid_row": null,
            "grid_template_areas": null,
            "grid_template_columns": null,
            "grid_template_rows": null,
            "height": null,
            "justify_content": null,
            "justify_items": null,
            "left": null,
            "margin": null,
            "max_height": null,
            "max_width": null,
            "min_height": null,
            "min_width": null,
            "object_fit": null,
            "object_position": null,
            "order": null,
            "overflow": null,
            "overflow_x": null,
            "overflow_y": null,
            "padding": null,
            "right": null,
            "top": null,
            "visibility": null,
            "width": null
          }
        },
        "ef8e5971c36f4d73b83fd594038ef55f": {
          "model_module": "@jupyter-widgets/base",
          "model_module_version": "1.2.0",
          "model_name": "LayoutModel",
          "state": {
            "_model_module": "@jupyter-widgets/base",
            "_model_module_version": "1.2.0",
            "_model_name": "LayoutModel",
            "_view_count": null,
            "_view_module": "@jupyter-widgets/base",
            "_view_module_version": "1.2.0",
            "_view_name": "LayoutView",
            "align_content": null,
            "align_items": null,
            "align_self": null,
            "border": null,
            "bottom": null,
            "display": null,
            "flex": null,
            "flex_flow": null,
            "grid_area": null,
            "grid_auto_columns": null,
            "grid_auto_flow": null,
            "grid_auto_rows": null,
            "grid_column": null,
            "grid_gap": null,
            "grid_row": null,
            "grid_template_areas": null,
            "grid_template_columns": null,
            "grid_template_rows": null,
            "height": null,
            "justify_content": null,
            "justify_items": null,
            "left": null,
            "margin": null,
            "max_height": null,
            "max_width": null,
            "min_height": null,
            "min_width": null,
            "object_fit": null,
            "object_position": null,
            "order": null,
            "overflow": null,
            "overflow_x": null,
            "overflow_y": null,
            "padding": null,
            "right": null,
            "top": null,
            "visibility": null,
            "width": null
          }
        },
        "f4feffce429d498e94e07c599b1e7365": {
          "model_module": "@jupyter-widgets/base",
          "model_module_version": "1.2.0",
          "model_name": "LayoutModel",
          "state": {
            "_model_module": "@jupyter-widgets/base",
            "_model_module_version": "1.2.0",
            "_model_name": "LayoutModel",
            "_view_count": null,
            "_view_module": "@jupyter-widgets/base",
            "_view_module_version": "1.2.0",
            "_view_name": "LayoutView",
            "align_content": null,
            "align_items": null,
            "align_self": null,
            "border": null,
            "bottom": null,
            "display": null,
            "flex": null,
            "flex_flow": null,
            "grid_area": null,
            "grid_auto_columns": null,
            "grid_auto_flow": null,
            "grid_auto_rows": null,
            "grid_column": null,
            "grid_gap": null,
            "grid_row": null,
            "grid_template_areas": null,
            "grid_template_columns": null,
            "grid_template_rows": null,
            "height": null,
            "justify_content": null,
            "justify_items": null,
            "left": null,
            "margin": null,
            "max_height": null,
            "max_width": null,
            "min_height": null,
            "min_width": null,
            "object_fit": null,
            "object_position": null,
            "order": null,
            "overflow": null,
            "overflow_x": null,
            "overflow_y": null,
            "padding": null,
            "right": null,
            "top": null,
            "visibility": null,
            "width": null
          }
        },
        "f7269c49c3944537a39332ee7a1b1d92": {
          "model_module": "@jupyter-widgets/controls",
          "model_module_version": "1.5.0",
          "model_name": "HTMLModel",
          "state": {
            "_dom_classes": [],
            "_model_module": "@jupyter-widgets/controls",
            "_model_module_version": "1.5.0",
            "_model_name": "HTMLModel",
            "_view_count": null,
            "_view_module": "@jupyter-widgets/controls",
            "_view_module_version": "1.5.0",
            "_view_name": "HTMLView",
            "description": "",
            "description_tooltip": null,
            "layout": "IPY_MODEL_048cc9f9a6a640b98a1785e76d041507",
            "placeholder": "​",
            "style": "IPY_MODEL_69c82bbe1cde4cfb9233a0058b0e942b",
            "value": "special_tokens_map.json: 100%"
          }
        },
        "fbaf0e72efa3450abd6bb203f5145eb4": {
          "model_module": "@jupyter-widgets/controls",
          "model_module_version": "1.5.0",
          "model_name": "HBoxModel",
          "state": {
            "_dom_classes": [],
            "_model_module": "@jupyter-widgets/controls",
            "_model_module_version": "1.5.0",
            "_model_name": "HBoxModel",
            "_view_count": null,
            "_view_module": "@jupyter-widgets/controls",
            "_view_module_version": "1.5.0",
            "_view_name": "HBoxView",
            "box_style": "",
            "children": [
              "IPY_MODEL_81d0c4581cfe4eefaafef592abf720dd",
              "IPY_MODEL_d9848a8b79b34a5d9ef62c69f7e43fa7",
              "IPY_MODEL_c343b9a4114c4d5a938acd74a8777f39"
            ],
            "layout": "IPY_MODEL_d673b2a47f86445681f1df568417f7ab"
          }
        },
        "fbd547dfb46947b0b49e6c6f4b5daa0d": {
          "model_module": "@jupyter-widgets/controls",
          "model_module_version": "1.5.0",
          "model_name": "HTMLModel",
          "state": {
            "_dom_classes": [],
            "_model_module": "@jupyter-widgets/controls",
            "_model_module_version": "1.5.0",
            "_model_name": "HTMLModel",
            "_view_count": null,
            "_view_module": "@jupyter-widgets/controls",
            "_view_module_version": "1.5.0",
            "_view_name": "HTMLView",
            "description": "",
            "description_tooltip": null,
            "layout": "IPY_MODEL_0cd2f97dd1c34ec9a388ce6bc0be1333",
            "placeholder": "​",
            "style": "IPY_MODEL_aeb42543fb7741a28058cb8b53f169ae",
            "value": " 378M/378M [00:04&lt;00:00, 85.8MB/s]"
          }
        }
      }
    }
  },
  "nbformat": 4,
  "nbformat_minor": 0
}
